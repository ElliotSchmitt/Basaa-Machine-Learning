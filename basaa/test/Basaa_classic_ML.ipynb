{
  "nbformat": 4,
  "nbformat_minor": 0,
  "metadata": {
    "colab": {
      "name": "Basaa_yet_another_one.ipynb",
      "provenance": [],
      "collapsed_sections": [
        "aTDhVZ2kgRda",
        "KmPmi0q8D55n",
        "Id_BhDhzEZfo",
        "DVrUshmrD97f",
        "CiE0Xb7Eq35n",
        "DNtvrKaJEMvQ",
        "Lypepp9zEPdu",
        "0ro2_E1-EUsI",
        "798zu7VIEmZg",
        "Nc_9rQQ42Xo7"
      ],
      "include_colab_link": true
    },
    "kernelspec": {
      "name": "python3",
      "display_name": "Python 3"
    },
    "language_info": {
      "name": "python"
    },
    "widgets": {
      "application/vnd.jupyter.widget-state+json": {
        "f5df0df96db74397b743244d2682df69": {
          "model_module": "@jupyter-widgets/controls",
          "model_name": "HBoxModel",
          "state": {
            "_view_name": "HBoxView",
            "_dom_classes": [],
            "_model_name": "HBoxModel",
            "_view_module": "@jupyter-widgets/controls",
            "_model_module_version": "1.5.0",
            "_view_count": null,
            "_view_module_version": "1.5.0",
            "box_style": "",
            "layout": "IPY_MODEL_9238a00153be4e04b0171c036668a728",
            "_model_module": "@jupyter-widgets/controls",
            "children": [
              "IPY_MODEL_050166f896784b16bc48af84d641bb0f",
              "IPY_MODEL_5f2d4e14d93c4e958f571868441af4b8"
            ]
          }
        },
        "9238a00153be4e04b0171c036668a728": {
          "model_module": "@jupyter-widgets/base",
          "model_name": "LayoutModel",
          "state": {
            "_view_name": "LayoutView",
            "grid_template_rows": null,
            "right": null,
            "justify_content": null,
            "_view_module": "@jupyter-widgets/base",
            "overflow": null,
            "_model_module_version": "1.2.0",
            "_view_count": null,
            "flex_flow": null,
            "width": null,
            "min_width": null,
            "border": null,
            "align_items": null,
            "bottom": null,
            "_model_module": "@jupyter-widgets/base",
            "top": null,
            "grid_column": null,
            "overflow_y": null,
            "overflow_x": null,
            "grid_auto_flow": null,
            "grid_area": null,
            "grid_template_columns": null,
            "flex": null,
            "_model_name": "LayoutModel",
            "justify_items": null,
            "grid_row": null,
            "max_height": null,
            "align_content": null,
            "visibility": null,
            "align_self": null,
            "height": null,
            "min_height": null,
            "padding": null,
            "grid_auto_rows": null,
            "grid_gap": null,
            "max_width": null,
            "order": null,
            "_view_module_version": "1.2.0",
            "grid_template_areas": null,
            "object_position": null,
            "object_fit": null,
            "grid_auto_columns": null,
            "margin": null,
            "display": null,
            "left": null
          }
        },
        "050166f896784b16bc48af84d641bb0f": {
          "model_module": "@jupyter-widgets/controls",
          "model_name": "FloatProgressModel",
          "state": {
            "_view_name": "ProgressView",
            "style": "IPY_MODEL_b33200e802f74ac296fa19f000a154a6",
            "_dom_classes": [],
            "description": "100%",
            "_model_name": "FloatProgressModel",
            "bar_style": "success",
            "max": 1000,
            "_view_module": "@jupyter-widgets/controls",
            "_model_module_version": "1.5.0",
            "value": 1000,
            "_view_count": null,
            "_view_module_version": "1.5.0",
            "orientation": "horizontal",
            "min": 0,
            "description_tooltip": null,
            "_model_module": "@jupyter-widgets/controls",
            "layout": "IPY_MODEL_0a47e3d26a174a9fa84377c5bf9e36cc"
          }
        },
        "5f2d4e14d93c4e958f571868441af4b8": {
          "model_module": "@jupyter-widgets/controls",
          "model_name": "HTMLModel",
          "state": {
            "_view_name": "HTMLView",
            "style": "IPY_MODEL_a600f47c4b224e2ebcb76d77981ca2fd",
            "_dom_classes": [],
            "description": "",
            "_model_name": "HTMLModel",
            "placeholder": "​",
            "_view_module": "@jupyter-widgets/controls",
            "_model_module_version": "1.5.0",
            "value": " 1000/1000 [00:24&lt;00:00, 41.60it/s]",
            "_view_count": null,
            "_view_module_version": "1.5.0",
            "description_tooltip": null,
            "_model_module": "@jupyter-widgets/controls",
            "layout": "IPY_MODEL_893bca04600c428c811b892c59911722"
          }
        },
        "b33200e802f74ac296fa19f000a154a6": {
          "model_module": "@jupyter-widgets/controls",
          "model_name": "ProgressStyleModel",
          "state": {
            "_view_name": "StyleView",
            "_model_name": "ProgressStyleModel",
            "description_width": "initial",
            "_view_module": "@jupyter-widgets/base",
            "_model_module_version": "1.5.0",
            "_view_count": null,
            "_view_module_version": "1.2.0",
            "bar_color": null,
            "_model_module": "@jupyter-widgets/controls"
          }
        },
        "0a47e3d26a174a9fa84377c5bf9e36cc": {
          "model_module": "@jupyter-widgets/base",
          "model_name": "LayoutModel",
          "state": {
            "_view_name": "LayoutView",
            "grid_template_rows": null,
            "right": null,
            "justify_content": null,
            "_view_module": "@jupyter-widgets/base",
            "overflow": null,
            "_model_module_version": "1.2.0",
            "_view_count": null,
            "flex_flow": null,
            "width": null,
            "min_width": null,
            "border": null,
            "align_items": null,
            "bottom": null,
            "_model_module": "@jupyter-widgets/base",
            "top": null,
            "grid_column": null,
            "overflow_y": null,
            "overflow_x": null,
            "grid_auto_flow": null,
            "grid_area": null,
            "grid_template_columns": null,
            "flex": null,
            "_model_name": "LayoutModel",
            "justify_items": null,
            "grid_row": null,
            "max_height": null,
            "align_content": null,
            "visibility": null,
            "align_self": null,
            "height": null,
            "min_height": null,
            "padding": null,
            "grid_auto_rows": null,
            "grid_gap": null,
            "max_width": null,
            "order": null,
            "_view_module_version": "1.2.0",
            "grid_template_areas": null,
            "object_position": null,
            "object_fit": null,
            "grid_auto_columns": null,
            "margin": null,
            "display": null,
            "left": null
          }
        },
        "a600f47c4b224e2ebcb76d77981ca2fd": {
          "model_module": "@jupyter-widgets/controls",
          "model_name": "DescriptionStyleModel",
          "state": {
            "_view_name": "StyleView",
            "_model_name": "DescriptionStyleModel",
            "description_width": "",
            "_view_module": "@jupyter-widgets/base",
            "_model_module_version": "1.5.0",
            "_view_count": null,
            "_view_module_version": "1.2.0",
            "_model_module": "@jupyter-widgets/controls"
          }
        },
        "893bca04600c428c811b892c59911722": {
          "model_module": "@jupyter-widgets/base",
          "model_name": "LayoutModel",
          "state": {
            "_view_name": "LayoutView",
            "grid_template_rows": null,
            "right": null,
            "justify_content": null,
            "_view_module": "@jupyter-widgets/base",
            "overflow": null,
            "_model_module_version": "1.2.0",
            "_view_count": null,
            "flex_flow": null,
            "width": null,
            "min_width": null,
            "border": null,
            "align_items": null,
            "bottom": null,
            "_model_module": "@jupyter-widgets/base",
            "top": null,
            "grid_column": null,
            "overflow_y": null,
            "overflow_x": null,
            "grid_auto_flow": null,
            "grid_area": null,
            "grid_template_columns": null,
            "flex": null,
            "_model_name": "LayoutModel",
            "justify_items": null,
            "grid_row": null,
            "max_height": null,
            "align_content": null,
            "visibility": null,
            "align_self": null,
            "height": null,
            "min_height": null,
            "padding": null,
            "grid_auto_rows": null,
            "grid_gap": null,
            "max_width": null,
            "order": null,
            "_view_module_version": "1.2.0",
            "grid_template_areas": null,
            "object_position": null,
            "object_fit": null,
            "grid_auto_columns": null,
            "margin": null,
            "display": null,
            "left": null
          }
        },
        "4ea7b91845364fc98306023bd01c660d": {
          "model_module": "@jupyter-widgets/controls",
          "model_name": "HBoxModel",
          "state": {
            "_view_name": "HBoxView",
            "_dom_classes": [],
            "_model_name": "HBoxModel",
            "_view_module": "@jupyter-widgets/controls",
            "_model_module_version": "1.5.0",
            "_view_count": null,
            "_view_module_version": "1.5.0",
            "box_style": "",
            "layout": "IPY_MODEL_1210cf06341f4868a63d24d8223167b5",
            "_model_module": "@jupyter-widgets/controls",
            "children": [
              "IPY_MODEL_4366c2fc77c04a38b52783f139211531",
              "IPY_MODEL_4bfdf38c792d4beb986cacff085ee2af"
            ]
          }
        },
        "1210cf06341f4868a63d24d8223167b5": {
          "model_module": "@jupyter-widgets/base",
          "model_name": "LayoutModel",
          "state": {
            "_view_name": "LayoutView",
            "grid_template_rows": null,
            "right": null,
            "justify_content": null,
            "_view_module": "@jupyter-widgets/base",
            "overflow": null,
            "_model_module_version": "1.2.0",
            "_view_count": null,
            "flex_flow": null,
            "width": null,
            "min_width": null,
            "border": null,
            "align_items": null,
            "bottom": null,
            "_model_module": "@jupyter-widgets/base",
            "top": null,
            "grid_column": null,
            "overflow_y": null,
            "overflow_x": null,
            "grid_auto_flow": null,
            "grid_area": null,
            "grid_template_columns": null,
            "flex": null,
            "_model_name": "LayoutModel",
            "justify_items": null,
            "grid_row": null,
            "max_height": null,
            "align_content": null,
            "visibility": null,
            "align_self": null,
            "height": null,
            "min_height": null,
            "padding": null,
            "grid_auto_rows": null,
            "grid_gap": null,
            "max_width": null,
            "order": null,
            "_view_module_version": "1.2.0",
            "grid_template_areas": null,
            "object_position": null,
            "object_fit": null,
            "grid_auto_columns": null,
            "margin": null,
            "display": null,
            "left": null
          }
        },
        "4366c2fc77c04a38b52783f139211531": {
          "model_module": "@jupyter-widgets/controls",
          "model_name": "FloatProgressModel",
          "state": {
            "_view_name": "ProgressView",
            "style": "IPY_MODEL_5e9d2629e3cb45c08fa15f743cd08dd9",
            "_dom_classes": [],
            "description": "100%",
            "_model_name": "FloatProgressModel",
            "bar_style": "success",
            "max": 1000,
            "_view_module": "@jupyter-widgets/controls",
            "_model_module_version": "1.5.0",
            "value": 1000,
            "_view_count": null,
            "_view_module_version": "1.5.0",
            "orientation": "horizontal",
            "min": 0,
            "description_tooltip": null,
            "_model_module": "@jupyter-widgets/controls",
            "layout": "IPY_MODEL_f6a8cd2f3cba43408c98072f87e7364f"
          }
        },
        "4bfdf38c792d4beb986cacff085ee2af": {
          "model_module": "@jupyter-widgets/controls",
          "model_name": "HTMLModel",
          "state": {
            "_view_name": "HTMLView",
            "style": "IPY_MODEL_f775ccdb631b4603a60b15134f85154a",
            "_dom_classes": [],
            "description": "",
            "_model_name": "HTMLModel",
            "placeholder": "​",
            "_view_module": "@jupyter-widgets/controls",
            "_model_module_version": "1.5.0",
            "value": " 1000/1000 [00:23&lt;00:00, 43.19it/s]",
            "_view_count": null,
            "_view_module_version": "1.5.0",
            "description_tooltip": null,
            "_model_module": "@jupyter-widgets/controls",
            "layout": "IPY_MODEL_cd2935fa82ad44d493a074800fb0ef0b"
          }
        },
        "5e9d2629e3cb45c08fa15f743cd08dd9": {
          "model_module": "@jupyter-widgets/controls",
          "model_name": "ProgressStyleModel",
          "state": {
            "_view_name": "StyleView",
            "_model_name": "ProgressStyleModel",
            "description_width": "initial",
            "_view_module": "@jupyter-widgets/base",
            "_model_module_version": "1.5.0",
            "_view_count": null,
            "_view_module_version": "1.2.0",
            "bar_color": null,
            "_model_module": "@jupyter-widgets/controls"
          }
        },
        "f6a8cd2f3cba43408c98072f87e7364f": {
          "model_module": "@jupyter-widgets/base",
          "model_name": "LayoutModel",
          "state": {
            "_view_name": "LayoutView",
            "grid_template_rows": null,
            "right": null,
            "justify_content": null,
            "_view_module": "@jupyter-widgets/base",
            "overflow": null,
            "_model_module_version": "1.2.0",
            "_view_count": null,
            "flex_flow": null,
            "width": null,
            "min_width": null,
            "border": null,
            "align_items": null,
            "bottom": null,
            "_model_module": "@jupyter-widgets/base",
            "top": null,
            "grid_column": null,
            "overflow_y": null,
            "overflow_x": null,
            "grid_auto_flow": null,
            "grid_area": null,
            "grid_template_columns": null,
            "flex": null,
            "_model_name": "LayoutModel",
            "justify_items": null,
            "grid_row": null,
            "max_height": null,
            "align_content": null,
            "visibility": null,
            "align_self": null,
            "height": null,
            "min_height": null,
            "padding": null,
            "grid_auto_rows": null,
            "grid_gap": null,
            "max_width": null,
            "order": null,
            "_view_module_version": "1.2.0",
            "grid_template_areas": null,
            "object_position": null,
            "object_fit": null,
            "grid_auto_columns": null,
            "margin": null,
            "display": null,
            "left": null
          }
        },
        "f775ccdb631b4603a60b15134f85154a": {
          "model_module": "@jupyter-widgets/controls",
          "model_name": "DescriptionStyleModel",
          "state": {
            "_view_name": "StyleView",
            "_model_name": "DescriptionStyleModel",
            "description_width": "",
            "_view_module": "@jupyter-widgets/base",
            "_model_module_version": "1.5.0",
            "_view_count": null,
            "_view_module_version": "1.2.0",
            "_model_module": "@jupyter-widgets/controls"
          }
        },
        "cd2935fa82ad44d493a074800fb0ef0b": {
          "model_module": "@jupyter-widgets/base",
          "model_name": "LayoutModel",
          "state": {
            "_view_name": "LayoutView",
            "grid_template_rows": null,
            "right": null,
            "justify_content": null,
            "_view_module": "@jupyter-widgets/base",
            "overflow": null,
            "_model_module_version": "1.2.0",
            "_view_count": null,
            "flex_flow": null,
            "width": null,
            "min_width": null,
            "border": null,
            "align_items": null,
            "bottom": null,
            "_model_module": "@jupyter-widgets/base",
            "top": null,
            "grid_column": null,
            "overflow_y": null,
            "overflow_x": null,
            "grid_auto_flow": null,
            "grid_area": null,
            "grid_template_columns": null,
            "flex": null,
            "_model_name": "LayoutModel",
            "justify_items": null,
            "grid_row": null,
            "max_height": null,
            "align_content": null,
            "visibility": null,
            "align_self": null,
            "height": null,
            "min_height": null,
            "padding": null,
            "grid_auto_rows": null,
            "grid_gap": null,
            "max_width": null,
            "order": null,
            "_view_module_version": "1.2.0",
            "grid_template_areas": null,
            "object_position": null,
            "object_fit": null,
            "grid_auto_columns": null,
            "margin": null,
            "display": null,
            "left": null
          }
        }
      }
    }
  },
  "cells": [
    {
      "cell_type": "markdown",
      "metadata": {
        "id": "view-in-github",
        "colab_type": "text"
      },
      "source": [
        "<a href=\"https://colab.research.google.com/github/JacobSchmitt/Basaa-Machine-Learning/blob/main/basaa/test/Basaa_classic_ML.ipynb\" target=\"_parent\"><img src=\"https://colab.research.google.com/assets/colab-badge.svg\" alt=\"Open In Colab\"/></a>"
      ]
    },
    {
      "cell_type": "markdown",
      "metadata": {
        "id": "aTDhVZ2kgRda"
      },
      "source": [
        "# Upload the data and run the baseline"
      ]
    },
    {
      "cell_type": "code",
      "metadata": {
        "id": "kJ4pIeAerPd1"
      },
      "source": [
        "%%capture\n",
        "!wget -P '/content/baseline' https://raw.githubusercontent.com/JacobSchmitt/Basaa-Machine-Learning/main/basaa/baseline/train.py\n",
        "!wget -P '/content/baseline' https://raw.githubusercontent.com/JacobSchmitt/Basaa-Machine-Learning/main/basaa/baseline/convert.py\n",
        "!wget -P '/content/baseline' https://raw.githubusercontent.com/JacobSchmitt/Basaa-Machine-Learning/main/basaa/baseline/Makefile\n",
        "!wget -P '/content/data' https://raw.githubusercontent.com/JacobSchmitt/Basaa-Machine-Learning/main/basaa/data/train.tsv \n",
        "!wget -P '/content/data' https://raw.githubusercontent.com/JacobSchmitt/Basaa-Machine-Learning/main/basaa/data/dev.tsv "
      ],
      "execution_count": null,
      "outputs": []
    },
    {
      "cell_type": "code",
      "metadata": {
        "id": "kHgVdb6hGZ8r"
      },
      "source": [
        "!wget -q https://raw.githubusercontent.com/JacobSchmitt/Basaa-Machine-Learning/main/basaa/data/train.tsv \n",
        "!wget -q https://raw.githubusercontent.com/JacobSchmitt/Basaa-Machine-Learning/main/basaa/data/dev.tsv \n",
        "!wget -q https://raw.githubusercontent.com/JacobSchmitt/Basaa-Machine-Learning/main/basaa/evaluate.py\n",
        "!wget -q https://raw.githubusercontent.com/JacobSchmitt/Basaa-Machine-Learning/main/basaa/baseline/train.py\n",
        "!wget -q https://raw.githubusercontent.com/ftyers/global-classroom/main/basaa/data/test/test.tsv"
      ],
      "execution_count": null,
      "outputs": []
    },
    {
      "cell_type": "code",
      "metadata": {
        "colab": {
          "base_uri": "https://localhost:8080/"
        },
        "id": "tqTAqwISrUCv",
        "outputId": "4d53bb84-ef34-42b7-9c58-91b4e1caecef"
      },
      "source": [
        "%%bash\n",
        "cd baseline\n",
        "make"
      ],
      "execution_count": null,
      "outputs": [
        {
          "output_type": "stream",
          "text": [
            "python3 train.py ../data/train.tsv model.tsv\n",
            "Stored 14596 words\n",
            "python3 convert.py model.tsv < ../data/dev.tsv > output.tsv\n",
            "python3 ../evaluate.py ../data/dev.tsv output.tsv\n",
            "CER: 16.54687852515551\n",
            "WER: 40.88336922205728\n"
          ],
          "name": "stdout"
        }
      ]
    },
    {
      "cell_type": "code",
      "metadata": {
        "id": "SVgKbf_CGkeJ"
      },
      "source": [
        "import pandas as pd\n",
        "pd.set_option('display.max_colwidth', 1000)\n",
        "train = pd.read_csv('train.tsv', sep ='\\t', names = ['Protestant', 'Academy'])\n",
        "valid = pd.read_csv('dev.tsv', sep ='\\t', names = ['Protestant', 'Academy'])\n",
        "test = pd.read_csv('test.tsv', sep ='\\t', names = ['Protestant', 'Academy'])"
      ],
      "execution_count": null,
      "outputs": []
    },
    {
      "cell_type": "markdown",
      "metadata": {
        "id": "KmPmi0q8D55n"
      },
      "source": [
        "# Create the dictionaries of most common pairs"
      ]
    },
    {
      "cell_type": "code",
      "metadata": {
        "colab": {
          "base_uri": "https://localhost:8080/"
        },
        "id": "1uKWc8H6egTW",
        "outputId": "bf29cdbe-a9f3-4b09-e7e7-dace92fa16ee"
      },
      "source": [
        "!python3 train.py train.tsv t.tsv"
      ],
      "execution_count": null,
      "outputs": [
        {
          "output_type": "stream",
          "text": [
            "Stored 14596 words\n"
          ],
          "name": "stdout"
        }
      ]
    },
    {
      "cell_type": "code",
      "metadata": {
        "id": "HJyiQuAEfaRl"
      },
      "source": [
        "t = pd.read_csv('t.tsv', sep ='\\t', names = ['var', 'prot', 'ac'])"
      ],
      "execution_count": null,
      "outputs": []
    },
    {
      "cell_type": "code",
      "metadata": {
        "id": "WWr4lkyjfgV0"
      },
      "source": [
        "d = t[t['var'] > 0.8].drop('var', axis=1)\n",
        "d_p = d.prot.to_list()\n",
        "d_a = d.ac.to_list()\n",
        "no_change = {d_p[i]:d_a[i] for i in range(len(d_p))}"
      ],
      "execution_count": null,
      "outputs": []
    },
    {
      "cell_type": "code",
      "metadata": {
        "id": "ZriJCwASi9E-"
      },
      "source": [
        "no_change['...Ni'] = '...Ni' \n",
        "no_change['Ni'] = 'Ni' \n",
        "no_change['U'] = 'U' \n",
        "no_change['ntibil'] = 'ntı̄bil'\n",
        "no_change['mbôô'] = 'mɓoô'\n",
        "no_change['Tôôs'] = 'Toôs'\n",
        "no_change['tôôs'] = 'toôs'\n",
        "no_change['Kôôt'] = 'Koôt'\n",
        "no_change['kôôt'] = 'koôt'\n",
        "no_change['mapep.'] = 'màpɛp.'\n",
        "no_change['mbéndha'] = 'm̂ɓêndhā'"
      ],
      "execution_count": null,
      "outputs": []
    },
    {
      "cell_type": "markdown",
      "metadata": {
        "id": "Id_BhDhzEZfo"
      },
      "source": [
        "# Write the rules that will be applied  before the predictions (there is another set for 'post-prediction')"
      ]
    },
    {
      "cell_type": "code",
      "metadata": {
        "id": "JIWZPtMRc-Hi"
      },
      "source": [
        "def rules(x):\n",
        "  double_e = 'e'+'́'\n",
        "  double_o = 'o' + '̂'\n",
        "  double_o_dots = 'o' + '̈'\n",
        "  \n",
        "  for _ in range(10):\n",
        "    if x == 'ba':\n",
        "      x = x.replace('ba', 'ɓa')\n",
        "    elif x == 'bo':\n",
        "      x = x.replace('bo', 'ɓɔ')\n",
        "    elif x == 'yom':\n",
        "      x = x.replace('yom', 'yɔm')\n",
        "    elif 'tjo' in x:\n",
        "      x = x.replace('tjo', 'cɔ')\n",
        "    elif 'tj' in x:\n",
        "      x = x.replace('tj', 'c')   \n",
        "    elif 'ñ' in x:\n",
        "      x = x.replace('ñ', 'ŋ')\n",
        "    elif double_o in x:\n",
        "      x = x.replace(double_o, 'o')\n",
        "    elif double_e in x:\n",
        "      x = x.replace(double_e, 'e')\n",
        "    elif 'e' in x:\n",
        "      x = x.replace('e', 'ɛ')\n",
        "    elif x.startswith(('b', 'm')):\n",
        "      x = x.replace('b', 'ɓ')\n",
        "    \n",
        "  return x"
      ],
      "execution_count": null,
      "outputs": []
    },
    {
      "cell_type": "markdown",
      "metadata": {
        "id": "DVrUshmrD97f"
      },
      "source": [
        "# BPE"
      ]
    },
    {
      "cell_type": "code",
      "metadata": {
        "id": "6TNatdU9HgdB"
      },
      "source": [
        "selected_punc =  '«»—…“”\\'\":;,....\\|/()+!?[]=-1234567890'"
      ],
      "execution_count": null,
      "outputs": []
    },
    {
      "cell_type": "code",
      "metadata": {
        "id": "PmLhqMUOK4Js"
      },
      "source": [
        "def smart_split(x):\n",
        "  double_e = 'e'+'́'\n",
        "  double_o = 'o' + '̂'\n",
        "  double_o_dots = 'o' + '̈'\n",
        "  x = x.replace('é', double_e).replace('ô', double_o).replace('ö', double_o_dots)\n",
        "  word = x\n",
        "  l = list(x)\n",
        "  \n",
        "  vowels = ['ı', 'ŋ', 'ɔ', 'ɛ', 'ñ', 'n', 'a', 'i', 'o', 'e', 'u', 'y']\n",
        "  diacritics = ('̀', '́', '̂', '̄', '̌')\n",
        "  res = []\n",
        "  s = ''\n",
        "  i = 0\n",
        "  while i < len(l):\n",
        "    if l[i] not in vowels and l[i] not in diacritics:\n",
        "      s += l[i]\n",
        "    elif l[i] in vowels:\n",
        "      if x[i:i+2].endswith(diacritics):\n",
        "        s += l[i]+l[i+1]\n",
        "        if i+2 == len(l)-1 and l[i+2] not in vowels:\n",
        "          s+= l[i+2]\n",
        "        res.append(s)\n",
        "        i += 1\n",
        "        s = ''          \n",
        "      else:\n",
        "        s += l[i]\n",
        "        if i+1 == len(l)-1 and l[i+1] not in vowels:\n",
        "          s+= l[i+1]\n",
        "        res.append(s)\n",
        "        s = ''\n",
        "    i += 1\n",
        "  if res:\n",
        "    res[0] = '_'+res[0]\n",
        "    res[-1] = res[-1]+'_'\n",
        "  return word, res"
      ],
      "execution_count": null,
      "outputs": []
    },
    {
      "cell_type": "code",
      "metadata": {
        "id": "6E8Ba-vLf70i"
      },
      "source": [
        "train = train.dropna()"
      ],
      "execution_count": null,
      "outputs": []
    },
    {
      "cell_type": "code",
      "metadata": {
        "id": "sZ-vuQNJ0eSK"
      },
      "source": [
        "train = train.drop(train[train.Protestant == '?'].index)\n",
        "valid = valid.drop(valid[valid.Protestant == '?'].index)\n",
        "test = test.drop(test[test.Protestant == '??'].index)"
      ],
      "execution_count": null,
      "outputs": []
    },
    {
      "cell_type": "code",
      "metadata": {
        "id": "KfuD0Y_hck46"
      },
      "source": [
        "word1 =[]\n",
        "word2 =[]\n",
        "\n",
        "res = []\n",
        "res1 = []\n",
        "\n",
        "for i in range(len(train)):\n",
        "  line1 = train.Protestant.iloc[i].split()\n",
        "  line2 = train.Academy.iloc[i].split()\n",
        "  \n",
        "  for i in range(len(line1)):\n",
        "    if line1[i] in no_change and line2[i] == no_change[line1[i]]:\n",
        "      continue\n",
        "    else:\n",
        "      cl_w = rules(str(line1[i]).strip(selected_punc).lower())\n",
        "      cl_t = str(line2[i]).strip(selected_punc).lower()\n",
        "      w1, x = smart_split(cl_w)\n",
        "      w2, y = smart_split(cl_t)\n",
        "      if len(x) == len(y):\n",
        "        for _ in range(len(x)):\n",
        "          word1.append(w1)\n",
        "          word2.append(w2)\n",
        "        res.extend(x)\n",
        "        res1.extend(y)\n",
        "      else:\n",
        "        print('error in line', i, '\\n', x, '\\n', y)"
      ],
      "execution_count": null,
      "outputs": []
    },
    {
      "cell_type": "code",
      "metadata": {
        "id": "-yKhbznnSLdC"
      },
      "source": [
        "sylls = pd.DataFrame({'input': res, 'output': res1})"
      ],
      "execution_count": null,
      "outputs": []
    },
    {
      "cell_type": "code",
      "metadata": {
        "id": "naEeqhUGo-dH"
      },
      "source": [
        "sylls.to_csv('syll_pairs.tsv', index=False, sep='\\t', header=False)"
      ],
      "execution_count": null,
      "outputs": []
    },
    {
      "cell_type": "code",
      "metadata": {
        "colab": {
          "base_uri": "https://localhost:8080/"
        },
        "id": "i5AAkUe6ol17",
        "outputId": "f2075169-9e41-4724-a4d0-eaa0e658321d"
      },
      "source": [
        "!python3 train.py syll_pairs.tsv syll.tsv"
      ],
      "execution_count": null,
      "outputs": [
        {
          "output_type": "stream",
          "text": [
            "Stored 903 words\n"
          ],
          "name": "stdout"
        }
      ]
    },
    {
      "cell_type": "code",
      "metadata": {
        "id": "PFvqjaJspX5P"
      },
      "source": [
        "t_syll = pd.read_csv('syll.tsv', sep ='\\t', names = ['var', 'prot', 'ac'])"
      ],
      "execution_count": null,
      "outputs": []
    },
    {
      "cell_type": "code",
      "metadata": {
        "id": "8_wK3z7SpcNl"
      },
      "source": [
        "d_syll = t_syll[t_syll['var'] > 0.8].drop('var', axis=1)\n",
        "d_syll_p = d_syll.prot.to_list()\n",
        "d_syll_a = d_syll.ac.to_list()\n",
        "no_change_syll = {d_syll_p[i]:d_syll_a[i] for i in range(len(d_syll_p))}"
      ],
      "execution_count": null,
      "outputs": []
    },
    {
      "cell_type": "markdown",
      "metadata": {
        "id": "CiE0Xb7Eq35n"
      },
      "source": [
        "# Let's save most common syllables to the dictionary and remove them from input_target"
      ]
    },
    {
      "cell_type": "code",
      "metadata": {
        "id": "Lx1-q-5tj-pI"
      },
      "source": [
        "input_target = pd.DataFrame({'input': res, 'output': res1, 'word_inp': word1, 'word_tgt': word2})"
      ],
      "execution_count": null,
      "outputs": []
    },
    {
      "cell_type": "code",
      "metadata": {
        "id": "52e7nXuhrM3H"
      },
      "source": [
        "def sel(x):\n",
        "  if x in no_change_syll:\n",
        "    return False\n",
        "  else:\n",
        "    return True"
      ],
      "execution_count": null,
      "outputs": []
    },
    {
      "cell_type": "code",
      "metadata": {
        "id": "7928CL1Nq3BP"
      },
      "source": [
        "input_target['filt'] = input_target.input.apply(sel)\n",
        "\n",
        "input_target = input_target[input_target.filt == True]\n",
        "input_target = input_target.drop('filt', axis=1)"
      ],
      "execution_count": null,
      "outputs": []
    },
    {
      "cell_type": "code",
      "metadata": {
        "colab": {
          "base_uri": "https://localhost:8080/"
        },
        "id": "WjHVBB_Hr9TV",
        "outputId": "6478bef1-8696-4690-bc2c-2e55d8f978fc"
      },
      "source": [
        "input_target"
      ],
      "execution_count": null,
      "outputs": [
        {
          "output_type": "execute_result",
          "data": {
            "text/html": [
              "<div>\n",
              "<style scoped>\n",
              "    .dataframe tbody tr th:only-of-type {\n",
              "        vertical-align: middle;\n",
              "    }\n",
              "\n",
              "    .dataframe tbody tr th {\n",
              "        vertical-align: top;\n",
              "    }\n",
              "\n",
              "    .dataframe thead th {\n",
              "        text-align: right;\n",
              "    }\n",
              "</style>\n",
              "<table border=\"1\" class=\"dataframe\">\n",
              "  <thead>\n",
              "    <tr style=\"text-align: right;\">\n",
              "      <th></th>\n",
              "      <th>input</th>\n",
              "      <th>output</th>\n",
              "      <th>word_inp</th>\n",
              "      <th>word_tgt</th>\n",
              "    </tr>\n",
              "  </thead>\n",
              "  <tbody>\n",
              "    <tr>\n",
              "      <th>0</th>\n",
              "      <td>_mɛ_</td>\n",
              "      <td>_mɛ̀_</td>\n",
              "      <td>mɛ</td>\n",
              "      <td>mɛ̀</td>\n",
              "    </tr>\n",
              "    <tr>\n",
              "      <th>1</th>\n",
              "      <td>_ɓot_</td>\n",
              "      <td>_ɓɔ̀t_</td>\n",
              "      <td>ɓot</td>\n",
              "      <td>ɓɔ̀t</td>\n",
              "    </tr>\n",
              "    <tr>\n",
              "      <th>2</th>\n",
              "      <td>_ɓô</td>\n",
              "      <td>_ɓo</td>\n",
              "      <td>ɓôdaa</td>\n",
              "      <td>ɓodàa</td>\n",
              "    </tr>\n",
              "    <tr>\n",
              "      <th>4</th>\n",
              "      <td>a_</td>\n",
              "      <td>a_</td>\n",
              "      <td>ɓôdaa</td>\n",
              "      <td>ɓodàa</td>\n",
              "    </tr>\n",
              "    <tr>\n",
              "      <th>5</th>\n",
              "      <td>_n</td>\n",
              "      <td>_n</td>\n",
              "      <td>ni</td>\n",
              "      <td>ni</td>\n",
              "    </tr>\n",
              "    <tr>\n",
              "      <th>...</th>\n",
              "      <td>...</td>\n",
              "      <td>...</td>\n",
              "      <td>...</td>\n",
              "      <td>...</td>\n",
              "    </tr>\n",
              "    <tr>\n",
              "      <th>54523</th>\n",
              "      <td>_mɓus_</td>\n",
              "      <td>_mbūs_</td>\n",
              "      <td>mɓus</td>\n",
              "      <td>mbūs</td>\n",
              "    </tr>\n",
              "    <tr>\n",
              "      <th>54524</th>\n",
              "      <td>_ma</td>\n",
              "      <td>_ma</td>\n",
              "      <td>man</td>\n",
              "      <td>man</td>\n",
              "    </tr>\n",
              "    <tr>\n",
              "      <th>54526</th>\n",
              "      <td>_ka_</td>\n",
              "      <td>_kà_</td>\n",
              "      <td>ka</td>\n",
              "      <td>kà</td>\n",
              "    </tr>\n",
              "    <tr>\n",
              "      <th>54527</th>\n",
              "      <td>_i_</td>\n",
              "      <td>_ı̀_</td>\n",
              "      <td>i</td>\n",
              "      <td>ı̀</td>\n",
              "    </tr>\n",
              "    <tr>\n",
              "      <th>54529</th>\n",
              "      <td>é_</td>\n",
              "      <td>è_</td>\n",
              "      <td>yé</td>\n",
              "      <td>yè</td>\n",
              "    </tr>\n",
              "  </tbody>\n",
              "</table>\n",
              "<p>40435 rows × 4 columns</p>\n",
              "</div>"
            ],
            "text/plain": [
              "        input   output word_inp word_tgt\n",
              "0        _mɛ_    _mɛ̀_       mɛ      mɛ̀\n",
              "1       _ɓot_   _ɓɔ̀t_      ɓot     ɓɔ̀t\n",
              "2        _ɓô      _ɓo   ɓôdaa   ɓodàa\n",
              "4          a_       a_   ɓôdaa   ɓodàa\n",
              "5          _n       _n       ni       ni\n",
              "...       ...      ...      ...      ...\n",
              "54523  _mɓus_  _mbūs_     mɓus    mbūs\n",
              "54524     _ma      _ma      man      man\n",
              "54526    _ka_    _kà_       ka      kà\n",
              "54527     _i_     _ı̀_        i       ı̀\n",
              "54529     é_      è_      yé      yè\n",
              "\n",
              "[40435 rows x 4 columns]"
            ]
          },
          "metadata": {
            "tags": []
          },
          "execution_count": 23
        }
      ]
    },
    {
      "cell_type": "code",
      "metadata": {
        "id": "sMUYSPk2GoWI",
        "colab": {
          "base_uri": "https://localhost:8080/"
        },
        "outputId": "3e52ad2d-9bc0-4218-8d08-cd3a9cb01b16"
      },
      "source": [
        "#repeated lines\n",
        "input_target.groupby(input_target.columns.tolist()).size().reset_index().\\\n",
        "    rename(columns={0:'records'}).sort_values(by=['records'], ascending=False)"
      ],
      "execution_count": null,
      "outputs": [
        {
          "output_type": "execute_result",
          "data": {
            "text/html": [
              "<div>\n",
              "<style scoped>\n",
              "    .dataframe tbody tr th:only-of-type {\n",
              "        vertical-align: middle;\n",
              "    }\n",
              "\n",
              "    .dataframe tbody tr th {\n",
              "        vertical-align: top;\n",
              "    }\n",
              "\n",
              "    .dataframe thead th {\n",
              "        text-align: right;\n",
              "    }\n",
              "</style>\n",
              "<table border=\"1\" class=\"dataframe\">\n",
              "  <thead>\n",
              "    <tr style=\"text-align: right;\">\n",
              "      <th></th>\n",
              "      <th>input</th>\n",
              "      <th>output</th>\n",
              "      <th>word_inp</th>\n",
              "      <th>word_tgt</th>\n",
              "      <th>records</th>\n",
              "    </tr>\n",
              "  </thead>\n",
              "  <tbody>\n",
              "    <tr>\n",
              "      <th>388</th>\n",
              "      <td>_i_</td>\n",
              "      <td>_i_</td>\n",
              "      <td>i</td>\n",
              "      <td>i</td>\n",
              "      <td>2049</td>\n",
              "    </tr>\n",
              "    <tr>\n",
              "      <th>390</th>\n",
              "      <td>_i_</td>\n",
              "      <td>_ı̀_</td>\n",
              "      <td>i</td>\n",
              "      <td>ı̀</td>\n",
              "      <td>789</td>\n",
              "    </tr>\n",
              "    <tr>\n",
              "      <th>2048</th>\n",
              "      <td>_mɛ_</td>\n",
              "      <td>_mɛ̀_</td>\n",
              "      <td>mɛ</td>\n",
              "      <td>mɛ̀</td>\n",
              "      <td>692</td>\n",
              "    </tr>\n",
              "    <tr>\n",
              "      <th>3509</th>\n",
              "      <td>_u_</td>\n",
              "      <td>_ù_</td>\n",
              "      <td>u</td>\n",
              "      <td>ù</td>\n",
              "      <td>681</td>\n",
              "    </tr>\n",
              "    <tr>\n",
              "      <th>6972</th>\n",
              "      <td>i_</td>\n",
              "      <td>ı̀_</td>\n",
              "      <td>ni</td>\n",
              "      <td>nı̀</td>\n",
              "      <td>584</td>\n",
              "    </tr>\n",
              "    <tr>\n",
              "      <th>...</th>\n",
              "      <td>...</td>\n",
              "      <td>...</td>\n",
              "      <td>...</td>\n",
              "      <td>...</td>\n",
              "      <td>...</td>\n",
              "    </tr>\n",
              "    <tr>\n",
              "      <th>4192</th>\n",
              "      <td>_ɓa</td>\n",
              "      <td>_ɓâ</td>\n",
              "      <td>ɓaam</td>\n",
              "      <td>ɓâàm</td>\n",
              "      <td>1</td>\n",
              "    </tr>\n",
              "    <tr>\n",
              "      <th>4191</th>\n",
              "      <td>_ɓa</td>\n",
              "      <td>_ɓà</td>\n",
              "      <td>ɓaɛmɓ</td>\n",
              "      <td>ɓàɛ̀mb</td>\n",
              "      <td>1</td>\n",
              "    </tr>\n",
              "    <tr>\n",
              "      <th>4190</th>\n",
              "      <td>_ɓa</td>\n",
              "      <td>_ɓà</td>\n",
              "      <td>ɓaɓôŋôl</td>\n",
              "      <td>ɓàɓòŋòl</td>\n",
              "      <td>1</td>\n",
              "    </tr>\n",
              "    <tr>\n",
              "      <th>4189</th>\n",
              "      <td>_ɓa</td>\n",
              "      <td>_ɓà</td>\n",
              "      <td>ɓaɓoɓla</td>\n",
              "      <td>ɓàɓɔ̀blà</td>\n",
              "      <td>1</td>\n",
              "    </tr>\n",
              "    <tr>\n",
              "      <th>9780</th>\n",
              "      <td>ɛ’_</td>\n",
              "      <td>ɛ’_</td>\n",
              "      <td>’mɛɛ’</td>\n",
              "      <td>’mɛ̀ɛ’</td>\n",
              "      <td>1</td>\n",
              "    </tr>\n",
              "  </tbody>\n",
              "</table>\n",
              "<p>9781 rows × 5 columns</p>\n",
              "</div>"
            ],
            "text/plain": [
              "     input output   word_inp    word_tgt  records\n",
              "388    _i_    _i_          i           i     2049\n",
              "390    _i_   _ı̀_          i          ı̀      789\n",
              "2048  _mɛ_  _mɛ̀_         mɛ         mɛ̀      692\n",
              "3509   _u_   _ù_          u          ù      681\n",
              "6972    i_    ı̀_         ni         nı̀      584\n",
              "...    ...    ...        ...         ...      ...\n",
              "4192   _ɓa   _ɓâ       ɓaam      ɓâàm        1\n",
              "4191   _ɓa   _ɓà      ɓaɛmɓ     ɓàɛ̀mb        1\n",
              "4190   _ɓa   _ɓà  ɓaɓôŋôl  ɓàɓòŋòl        1\n",
              "4189   _ɓa   _ɓà    ɓaɓoɓla  ɓàɓɔ̀blà        1\n",
              "9780   ɛ’_    ɛ’_      ’mɛɛ’      ’mɛ̀ɛ’        1\n",
              "\n",
              "[9781 rows x 5 columns]"
            ]
          },
          "metadata": {
            "tags": []
          },
          "execution_count": 24
        }
      ]
    },
    {
      "cell_type": "code",
      "metadata": {
        "id": "fNNxDtM8IHk7",
        "colab": {
          "base_uri": "https://localhost:8080/"
        },
        "outputId": "32bd5558-fedc-41d6-94d5-30552ccc7169"
      },
      "source": [
        "# input equals output\n",
        "input_target[input_target.input == input_target.output].groupby(input_target.columns.tolist()).size().reset_index().\\\n",
        "    rename(columns={0:'records'}).sort_values(by=['records'], ascending=False)"
      ],
      "execution_count": null,
      "outputs": [
        {
          "output_type": "execute_result",
          "data": {
            "text/html": [
              "<div>\n",
              "<style scoped>\n",
              "    .dataframe tbody tr th:only-of-type {\n",
              "        vertical-align: middle;\n",
              "    }\n",
              "\n",
              "    .dataframe tbody tr th {\n",
              "        vertical-align: top;\n",
              "    }\n",
              "\n",
              "    .dataframe thead th {\n",
              "        text-align: right;\n",
              "    }\n",
              "</style>\n",
              "<table border=\"1\" class=\"dataframe\">\n",
              "  <thead>\n",
              "    <tr style=\"text-align: right;\">\n",
              "      <th></th>\n",
              "      <th>input</th>\n",
              "      <th>output</th>\n",
              "      <th>word_inp</th>\n",
              "      <th>word_tgt</th>\n",
              "      <th>records</th>\n",
              "    </tr>\n",
              "  </thead>\n",
              "  <tbody>\n",
              "    <tr>\n",
              "      <th>136</th>\n",
              "      <td>_i_</td>\n",
              "      <td>_i_</td>\n",
              "      <td>i</td>\n",
              "      <td>i</td>\n",
              "      <td>2049</td>\n",
              "    </tr>\n",
              "    <tr>\n",
              "      <th>774</th>\n",
              "      <td>_n</td>\n",
              "      <td>_n</td>\n",
              "      <td>ni</td>\n",
              "      <td>nı̀</td>\n",
              "      <td>584</td>\n",
              "    </tr>\n",
              "    <tr>\n",
              "      <th>599</th>\n",
              "      <td>_mɛ_</td>\n",
              "      <td>_mɛ_</td>\n",
              "      <td>mɛ</td>\n",
              "      <td>mɛ</td>\n",
              "      <td>580</td>\n",
              "    </tr>\n",
              "    <tr>\n",
              "      <th>1382</th>\n",
              "      <td>_u_</td>\n",
              "      <td>_u_</td>\n",
              "      <td>u</td>\n",
              "      <td>u</td>\n",
              "      <td>560</td>\n",
              "    </tr>\n",
              "    <tr>\n",
              "      <th>772</th>\n",
              "      <td>_n</td>\n",
              "      <td>_n</td>\n",
              "      <td>ni</td>\n",
              "      <td>ni</td>\n",
              "      <td>211</td>\n",
              "    </tr>\n",
              "    <tr>\n",
              "      <th>...</th>\n",
              "      <td>...</td>\n",
              "      <td>...</td>\n",
              "      <td>...</td>\n",
              "      <td>...</td>\n",
              "      <td>...</td>\n",
              "    </tr>\n",
              "    <tr>\n",
              "      <th>1412</th>\n",
              "      <td>_ŋ</td>\n",
              "      <td>_ŋ</td>\n",
              "      <td>ŋéŋlaha</td>\n",
              "      <td>ŋeŋlaha</td>\n",
              "      <td>1</td>\n",
              "    </tr>\n",
              "    <tr>\n",
              "      <th>1413</th>\n",
              "      <td>_ŋ</td>\n",
              "      <td>_ŋ</td>\n",
              "      <td>ŋéŋlana</td>\n",
              "      <td>ŋèŋlana</td>\n",
              "      <td>1</td>\n",
              "    </tr>\n",
              "    <tr>\n",
              "      <th>1415</th>\n",
              "      <td>_ŋ</td>\n",
              "      <td>_ŋ</td>\n",
              "      <td>ŋgaa</td>\n",
              "      <td>ŋgaà</td>\n",
              "      <td>1</td>\n",
              "    </tr>\n",
              "    <tr>\n",
              "      <th>1418</th>\n",
              "      <td>_ŋ</td>\n",
              "      <td>_ŋ</td>\n",
              "      <td>ŋgaba</td>\n",
              "      <td>ŋgabà</td>\n",
              "      <td>1</td>\n",
              "    </tr>\n",
              "    <tr>\n",
              "      <th>3414</th>\n",
              "      <td>ɛ’_</td>\n",
              "      <td>ɛ’_</td>\n",
              "      <td>’mɛɛ’</td>\n",
              "      <td>’mɛ̀ɛ’</td>\n",
              "      <td>1</td>\n",
              "    </tr>\n",
              "  </tbody>\n",
              "</table>\n",
              "<p>3415 rows × 5 columns</p>\n",
              "</div>"
            ],
            "text/plain": [
              "     input output  word_inp  word_tgt  records\n",
              "136    _i_    _i_         i         i     2049\n",
              "774     _n     _n        ni       nı̀      584\n",
              "599   _mɛ_   _mɛ_        mɛ        mɛ      580\n",
              "1382   _u_    _u_         u         u      560\n",
              "772     _n     _n        ni        ni      211\n",
              "...    ...    ...       ...       ...      ...\n",
              "1412    _ŋ     _ŋ  ŋéŋlaha   ŋeŋlaha        1\n",
              "1413    _ŋ     _ŋ  ŋéŋlana  ŋèŋlana        1\n",
              "1415    _ŋ     _ŋ      ŋgaa     ŋgaà        1\n",
              "1418    _ŋ     _ŋ     ŋgaba    ŋgabà        1\n",
              "3414   ɛ’_    ɛ’_     ’mɛɛ’    ’mɛ̀ɛ’        1\n",
              "\n",
              "[3415 rows x 5 columns]"
            ]
          },
          "metadata": {
            "tags": []
          },
          "execution_count": 25
        }
      ]
    },
    {
      "cell_type": "markdown",
      "metadata": {
        "id": "DNtvrKaJEMvQ"
      },
      "source": [
        "# Encode tones as labels"
      ]
    },
    {
      "cell_type": "code",
      "metadata": {
        "id": "VG96fi03owwo"
      },
      "source": [
        "input_target.loc[input_target.output.str.contains('̀'), 'label'] = 1\n",
        "input_target.loc[input_target.output.str.contains('́'), 'label'] = 2\n",
        "input_target.loc[input_target.output.str.contains('̂'), 'label'] = 3\n",
        "input_target.loc[input_target.output.str.contains('̄'), 'label'] = 4\n",
        "input_target.loc[input_target.output.str.contains('̌'), 'label'] = 5\n",
        "\n",
        "input_target.label = input_target.label.fillna(0)\n",
        "input_target.label = input_target.label.astype(int)"
      ],
      "execution_count": null,
      "outputs": []
    },
    {
      "cell_type": "markdown",
      "metadata": {
        "id": "Lypepp9zEPdu"
      },
      "source": [
        "# Make vectors"
      ]
    },
    {
      "cell_type": "code",
      "metadata": {
        "id": "UDxVjO44kjBl"
      },
      "source": [
        "def prev_diacritic(word, syll):\n",
        "  prev_d = [0, 0, 0, 0, 0]\n",
        "  diacritics = ['̀', '́', '̂', '̄', '̌']\n",
        "  s = syll.replace('_', '')\n",
        "  w = word.split(s)\n",
        "  if w:\n",
        "    for i in range(len(diacritics)):\n",
        "      if diacritics[i] in w[0]:\n",
        "        prev_d[i] = 1\n",
        "  return prev_d"
      ],
      "execution_count": null,
      "outputs": []
    },
    {
      "cell_type": "code",
      "metadata": {
        "id": "yZ4r2VrhQ77T"
      },
      "source": [
        "# def next_diacritic(word, syll):\n",
        "#   next_d = [0, 0, 0, 0, 0]\n",
        "#   diacritics = ['̀', '́', '̂', '̄', '̌']\n",
        "#   s = syll.replace('_', '')\n",
        "#   w = word.split(s)\n",
        "#   w.remove(w[0])\n",
        "#   w = ''.join(w)\n",
        "#   if len(w) > 1:\n",
        "#     for i in range(len(diacritics)):\n",
        "#       if diacritics[i] in w:\n",
        "#         next_d[i] = 1\n",
        "#   return next_d"
      ],
      "execution_count": null,
      "outputs": []
    },
    {
      "cell_type": "code",
      "metadata": {
        "colab": {
          "base_uri": "https://localhost:8080/"
        },
        "id": "HxuVMXXTl3Px",
        "outputId": "9107db0e-12ed-49ea-c85d-7ac86332b917"
      },
      "source": [
        "input_target.head()"
      ],
      "execution_count": null,
      "outputs": [
        {
          "output_type": "execute_result",
          "data": {
            "text/html": [
              "<div>\n",
              "<style scoped>\n",
              "    .dataframe tbody tr th:only-of-type {\n",
              "        vertical-align: middle;\n",
              "    }\n",
              "\n",
              "    .dataframe tbody tr th {\n",
              "        vertical-align: top;\n",
              "    }\n",
              "\n",
              "    .dataframe thead th {\n",
              "        text-align: right;\n",
              "    }\n",
              "</style>\n",
              "<table border=\"1\" class=\"dataframe\">\n",
              "  <thead>\n",
              "    <tr style=\"text-align: right;\">\n",
              "      <th></th>\n",
              "      <th>input</th>\n",
              "      <th>output</th>\n",
              "      <th>word_inp</th>\n",
              "      <th>word_tgt</th>\n",
              "      <th>label</th>\n",
              "    </tr>\n",
              "  </thead>\n",
              "  <tbody>\n",
              "    <tr>\n",
              "      <th>0</th>\n",
              "      <td>_mɛ_</td>\n",
              "      <td>_mɛ̀_</td>\n",
              "      <td>mɛ</td>\n",
              "      <td>mɛ̀</td>\n",
              "      <td>1</td>\n",
              "    </tr>\n",
              "    <tr>\n",
              "      <th>1</th>\n",
              "      <td>_ɓot_</td>\n",
              "      <td>_ɓɔ̀t_</td>\n",
              "      <td>ɓot</td>\n",
              "      <td>ɓɔ̀t</td>\n",
              "      <td>1</td>\n",
              "    </tr>\n",
              "    <tr>\n",
              "      <th>2</th>\n",
              "      <td>_ɓô</td>\n",
              "      <td>_ɓo</td>\n",
              "      <td>ɓôdaa</td>\n",
              "      <td>ɓodàa</td>\n",
              "      <td>0</td>\n",
              "    </tr>\n",
              "    <tr>\n",
              "      <th>4</th>\n",
              "      <td>a_</td>\n",
              "      <td>a_</td>\n",
              "      <td>ɓôdaa</td>\n",
              "      <td>ɓodàa</td>\n",
              "      <td>0</td>\n",
              "    </tr>\n",
              "    <tr>\n",
              "      <th>5</th>\n",
              "      <td>_n</td>\n",
              "      <td>_n</td>\n",
              "      <td>ni</td>\n",
              "      <td>ni</td>\n",
              "      <td>0</td>\n",
              "    </tr>\n",
              "  </tbody>\n",
              "</table>\n",
              "</div>"
            ],
            "text/plain": [
              "   input  output word_inp word_tgt  label\n",
              "0   _mɛ_   _mɛ̀_       mɛ      mɛ̀      1\n",
              "1  _ɓot_  _ɓɔ̀t_      ɓot     ɓɔ̀t      1\n",
              "2   _ɓô     _ɓo   ɓôdaa   ɓodàa      0\n",
              "4     a_      a_   ɓôdaa   ɓodàa      0\n",
              "5     _n      _n       ni       ni      0"
            ]
          },
          "metadata": {
            "tags": []
          },
          "execution_count": 29
        }
      ]
    },
    {
      "cell_type": "code",
      "metadata": {
        "id": "wQXoPb0Ulawr"
      },
      "source": [
        "input_target['prev'] = input_target.apply(lambda x: prev_diacritic(x['word_tgt'], x['output']), axis=1)"
      ],
      "execution_count": null,
      "outputs": []
    },
    {
      "cell_type": "code",
      "metadata": {
        "id": "vNxyFii2R-yv"
      },
      "source": [
        "# input_target['next'] = input_target.apply(lambda x: next_diacritic(x['word_inp'], x['input']), axis=1)"
      ],
      "execution_count": null,
      "outputs": []
    },
    {
      "cell_type": "code",
      "metadata": {
        "id": "zHQ8dgKLiZtr"
      },
      "source": [
        "def features(x):\n",
        "  #feature1 - start \n",
        "  #feature2 - end\n",
        "  #feature3 - middle\n",
        "  vect = [0, 0, 0]\n",
        "  if len(x) == 1:\n",
        "    vect[2] = 1\n",
        "    return vect\n",
        "  elif len(x) > 1:\n",
        "    if x.startswith('_'):\n",
        "      vect[0] = 1\n",
        "      if x.endswith('_'):\n",
        "        vect[1] = 1\n",
        "        return vect\n",
        "      else:\n",
        "        vect[2] = 1\n",
        "        return vect\n",
        "    else:\n",
        "      if x.endswith('_'):\n",
        "        vect[1] = 1\n",
        "        vect[2] = 1\n",
        "        return vect\n",
        "      else:\n",
        "        vect[2] = 1\n",
        "        return vect\n",
        "  return vect     "
      ],
      "execution_count": null,
      "outputs": []
    },
    {
      "cell_type": "code",
      "metadata": {
        "id": "RMDj_NO5hkgo"
      },
      "source": [
        "def vowel_features(x):\n",
        "  #feature1 - starts with vowel \n",
        "  #feature2 - ends with vowel\n",
        "  vowels = ['ı', 'ŋ', 'ɔ', 'ɛ', 'ñ', 'n', 'a', 'i', 'o', 'e', 'u', 'y']\n",
        "  vect = [0, 0]\n",
        "\n",
        "  if len(x) == 1:\n",
        "    if x in vowels:\n",
        "      vect[1] = 1\n",
        "      return vect\n",
        "  elif len(x) == 2 and x[0] in vowels:\n",
        "    vect[0] = 1\n",
        "    vect[1] = 1\n",
        "    return vect\n",
        "  elif x.startswith('_'):\n",
        "    if x[1] in vowels:\n",
        "      vect[0] = 1\n",
        "      if x.endswith('_'):\n",
        "        if x[-2] in vowels:\n",
        "          vect[1] = 1\n",
        "          return vect\n",
        "      else:\n",
        "        if x[-1] in vowels:\n",
        "          vect[1] = 1\n",
        "          return vect\n",
        "    elif x.endswith('_'):\n",
        "      if x[-2] in vowels:\n",
        "        vect[1] = 1\n",
        "        return vect\n",
        "    else:\n",
        "      if x[-1] in vowels:\n",
        "        vect[1] = 1\n",
        "        return vect\n",
        "  else:\n",
        "    if x[0] in vowels:\n",
        "      vect[0] = 1\n",
        "      if x.endswith('_'):\n",
        "        if x[-2] in vowels:\n",
        "          vect[1] = 1\n",
        "          return vect\n",
        "      else:\n",
        "        if x[-1] in vowels:\n",
        "          vect[1] = 1\n",
        "          return vect\n",
        "    elif x.endswith('_'):\n",
        "        if x[-2] in vowels:\n",
        "          vect[1] = 1\n",
        "          return vect\n",
        "    else:\n",
        "      if x[-1] in vowels:\n",
        "        vect[1] = 1\n",
        "        return vect\n",
        "  return vect"
      ],
      "execution_count": null,
      "outputs": []
    },
    {
      "cell_type": "code",
      "metadata": {
        "id": "Jrzt57GBMX7R"
      },
      "source": [
        "# def r_or_w(x):\n",
        "#   # feature1 = r\n",
        "#   # feature2 = w\n",
        "#   vect = [0, 0]\n",
        "#   if 'r' in x:\n",
        "#     vect[0] = 1\n",
        "#   if 'w' in x:\n",
        "#     vect[1] = 1\n",
        "#   return vect"
      ],
      "execution_count": null,
      "outputs": []
    },
    {
      "cell_type": "code",
      "metadata": {
        "id": "uJB1uc8kQFNB"
      },
      "source": [
        "# def j(x):\n",
        "#   if 'j' in x:\n",
        "#     return 1\n",
        "#   else:\n",
        "#     return 0"
      ],
      "execution_count": null,
      "outputs": []
    },
    {
      "cell_type": "code",
      "metadata": {
        "id": "yafLywSy9JV3"
      },
      "source": [
        "def plosives(x):\n",
        "  plosives = ['t','d','k','ɡ','p','b']\n",
        "  vect = [0, 0, 0, 0, 0, 0]\n",
        "  for i in range(len(plosives)):\n",
        "    if plosives[i] in x:\n",
        "      vect[i] = 1\n",
        "  return vect"
      ],
      "execution_count": null,
      "outputs": []
    },
    {
      "cell_type": "code",
      "metadata": {
        "id": "I9FuuhFB-kE8"
      },
      "source": [
        "# def m(x):  \n",
        "#   if 'm' in x:\n",
        "#     return 1\n",
        "#   else:\n",
        "#     return 0"
      ],
      "execution_count": null,
      "outputs": []
    },
    {
      "cell_type": "code",
      "metadata": {
        "id": "OE9F3XRCEP1y"
      },
      "source": [
        "def close(x): \n",
        "  vect = 0\n",
        "  vow = ['ı', 'ŋ', 'ɔ', 'ɛ', 'ñ', 'n', 'a', 'i', 'o', 'e', 'u', 'y']\n",
        "  \n",
        "  for i in range(len(vow)):\n",
        "    if x.endswith('_'):\n",
        "      if x[-2] == vow[i]:\n",
        "        vect = 1\n",
        "        return vect\n",
        "    else:\n",
        "      if x[-1] == vow[i]:\n",
        "        vect = 1\n",
        "        return vect\n",
        "  return vect"
      ],
      "execution_count": null,
      "outputs": []
    },
    {
      "cell_type": "code",
      "metadata": {
        "id": "g-ISH0MEjjm2"
      },
      "source": [
        "input_target['vect_vow'] = input_target.input.apply(vowel_features)"
      ],
      "execution_count": null,
      "outputs": []
    },
    {
      "cell_type": "code",
      "metadata": {
        "id": "iy4w4fTpM2y-"
      },
      "source": [
        "# input_target['r_w'] = input_target.input.apply(r_or_w)"
      ],
      "execution_count": null,
      "outputs": []
    },
    {
      "cell_type": "code",
      "metadata": {
        "id": "GtPSEFU9q9Gw"
      },
      "source": [
        "input_target['vect'] = input_target.input.apply(features)"
      ],
      "execution_count": null,
      "outputs": []
    },
    {
      "cell_type": "code",
      "metadata": {
        "id": "6vItdjkW9ChY"
      },
      "source": [
        "input_target['plosives'] = input_target.input.apply(plosives)"
      ],
      "execution_count": null,
      "outputs": []
    },
    {
      "cell_type": "code",
      "metadata": {
        "colab": {
          "base_uri": "https://localhost:8080/"
        },
        "id": "E_eNkFN6jnMo",
        "outputId": "f413e708-4e75-4b49-c3a4-081d8fb7475d"
      },
      "source": [
        "input_target.head()"
      ],
      "execution_count": null,
      "outputs": [
        {
          "output_type": "execute_result",
          "data": {
            "text/html": [
              "<div>\n",
              "<style scoped>\n",
              "    .dataframe tbody tr th:only-of-type {\n",
              "        vertical-align: middle;\n",
              "    }\n",
              "\n",
              "    .dataframe tbody tr th {\n",
              "        vertical-align: top;\n",
              "    }\n",
              "\n",
              "    .dataframe thead th {\n",
              "        text-align: right;\n",
              "    }\n",
              "</style>\n",
              "<table border=\"1\" class=\"dataframe\">\n",
              "  <thead>\n",
              "    <tr style=\"text-align: right;\">\n",
              "      <th></th>\n",
              "      <th>input</th>\n",
              "      <th>output</th>\n",
              "      <th>word_inp</th>\n",
              "      <th>word_tgt</th>\n",
              "      <th>label</th>\n",
              "      <th>prev</th>\n",
              "      <th>vect_vow</th>\n",
              "      <th>vect</th>\n",
              "      <th>plosives</th>\n",
              "    </tr>\n",
              "  </thead>\n",
              "  <tbody>\n",
              "    <tr>\n",
              "      <th>0</th>\n",
              "      <td>_mɛ_</td>\n",
              "      <td>_mɛ̀_</td>\n",
              "      <td>mɛ</td>\n",
              "      <td>mɛ̀</td>\n",
              "      <td>1</td>\n",
              "      <td>[0, 0, 0, 0, 0]</td>\n",
              "      <td>[0, 1]</td>\n",
              "      <td>[1, 1, 0]</td>\n",
              "      <td>[0, 0, 0, 0, 0, 0]</td>\n",
              "    </tr>\n",
              "    <tr>\n",
              "      <th>1</th>\n",
              "      <td>_ɓot_</td>\n",
              "      <td>_ɓɔ̀t_</td>\n",
              "      <td>ɓot</td>\n",
              "      <td>ɓɔ̀t</td>\n",
              "      <td>1</td>\n",
              "      <td>[0, 0, 0, 0, 0]</td>\n",
              "      <td>[0, 0]</td>\n",
              "      <td>[1, 1, 0]</td>\n",
              "      <td>[1, 0, 0, 0, 0, 0]</td>\n",
              "    </tr>\n",
              "    <tr>\n",
              "      <th>2</th>\n",
              "      <td>_ɓô</td>\n",
              "      <td>_ɓo</td>\n",
              "      <td>ɓôdaa</td>\n",
              "      <td>ɓodàa</td>\n",
              "      <td>0</td>\n",
              "      <td>[0, 0, 0, 0, 0]</td>\n",
              "      <td>[0, 0]</td>\n",
              "      <td>[1, 0, 1]</td>\n",
              "      <td>[0, 0, 0, 0, 0, 0]</td>\n",
              "    </tr>\n",
              "    <tr>\n",
              "      <th>4</th>\n",
              "      <td>a_</td>\n",
              "      <td>a_</td>\n",
              "      <td>ɓôdaa</td>\n",
              "      <td>ɓodàa</td>\n",
              "      <td>0</td>\n",
              "      <td>[0, 0, 0, 0, 0]</td>\n",
              "      <td>[1, 1]</td>\n",
              "      <td>[0, 1, 1]</td>\n",
              "      <td>[0, 0, 0, 0, 0, 0]</td>\n",
              "    </tr>\n",
              "    <tr>\n",
              "      <th>5</th>\n",
              "      <td>_n</td>\n",
              "      <td>_n</td>\n",
              "      <td>ni</td>\n",
              "      <td>ni</td>\n",
              "      <td>0</td>\n",
              "      <td>[0, 0, 0, 0, 0]</td>\n",
              "      <td>[1, 1]</td>\n",
              "      <td>[1, 0, 1]</td>\n",
              "      <td>[0, 0, 0, 0, 0, 0]</td>\n",
              "    </tr>\n",
              "  </tbody>\n",
              "</table>\n",
              "</div>"
            ],
            "text/plain": [
              "   input  output word_inp  ... vect_vow       vect            plosives\n",
              "0   _mɛ_   _mɛ̀_       mɛ  ...   [0, 1]  [1, 1, 0]  [0, 0, 0, 0, 0, 0]\n",
              "1  _ɓot_  _ɓɔ̀t_      ɓot  ...   [0, 0]  [1, 1, 0]  [1, 0, 0, 0, 0, 0]\n",
              "2   _ɓô     _ɓo   ɓôdaa  ...   [0, 0]  [1, 0, 1]  [0, 0, 0, 0, 0, 0]\n",
              "4     a_      a_   ɓôdaa  ...   [1, 1]  [0, 1, 1]  [0, 0, 0, 0, 0, 0]\n",
              "5     _n      _n       ni  ...   [1, 1]  [1, 0, 1]  [0, 0, 0, 0, 0, 0]\n",
              "\n",
              "[5 rows x 9 columns]"
            ]
          },
          "metadata": {
            "tags": []
          },
          "execution_count": 43
        }
      ]
    },
    {
      "cell_type": "markdown",
      "metadata": {
        "id": "0ro2_E1-EUsI"
      },
      "source": [
        "# Transform vector into features"
      ]
    },
    {
      "cell_type": "code",
      "metadata": {
        "id": "46ka8HuxuUKY"
      },
      "source": [
        "def f_gen(x, ind):\n",
        "  return x[ind]"
      ],
      "execution_count": null,
      "outputs": []
    },
    {
      "cell_type": "code",
      "metadata": {
        "colab": {
          "base_uri": "https://localhost:8080/"
        },
        "id": "1B-cuDIOt9iT",
        "outputId": "aa8a96d9-c3a6-4899-d3ed-fa6683016a54"
      },
      "source": [
        "num = 1\n",
        "col = ['prev', 'vect', 'vect_vow', 'r_w', 'next', 'plosives']\n",
        "\n",
        "for c in col:\n",
        "  if c == 'next' or c == 'r_w':\n",
        "    continue\n",
        "  tmp_l = len(input_target[c].iloc[0])\n",
        "  print(tmp_l)\n",
        "  for i in range(tmp_l):\n",
        "    input_target['f'+str(num)] = input_target[c].apply(f_gen, ind=i)\n",
        "    num += 1"
      ],
      "execution_count": null,
      "outputs": [
        {
          "output_type": "stream",
          "text": [
            "5\n",
            "3\n",
            "2\n",
            "6\n"
          ],
          "name": "stdout"
        }
      ]
    },
    {
      "cell_type": "code",
      "metadata": {
        "colab": {
          "base_uri": "https://localhost:8080/"
        },
        "id": "Q9F0cCaGQrF0",
        "outputId": "9523b0f5-f75d-4f87-e8d5-40e5a8fa521d"
      },
      "source": [
        "input_target.head()"
      ],
      "execution_count": null,
      "outputs": [
        {
          "output_type": "execute_result",
          "data": {
            "text/html": [
              "<div>\n",
              "<style scoped>\n",
              "    .dataframe tbody tr th:only-of-type {\n",
              "        vertical-align: middle;\n",
              "    }\n",
              "\n",
              "    .dataframe tbody tr th {\n",
              "        vertical-align: top;\n",
              "    }\n",
              "\n",
              "    .dataframe thead th {\n",
              "        text-align: right;\n",
              "    }\n",
              "</style>\n",
              "<table border=\"1\" class=\"dataframe\">\n",
              "  <thead>\n",
              "    <tr style=\"text-align: right;\">\n",
              "      <th></th>\n",
              "      <th>input</th>\n",
              "      <th>output</th>\n",
              "      <th>word_inp</th>\n",
              "      <th>word_tgt</th>\n",
              "      <th>label</th>\n",
              "      <th>prev</th>\n",
              "      <th>vect_vow</th>\n",
              "      <th>vect</th>\n",
              "      <th>plosives</th>\n",
              "      <th>f1</th>\n",
              "      <th>f2</th>\n",
              "      <th>f3</th>\n",
              "      <th>f4</th>\n",
              "      <th>f5</th>\n",
              "      <th>f6</th>\n",
              "      <th>f7</th>\n",
              "      <th>f8</th>\n",
              "      <th>f9</th>\n",
              "      <th>f10</th>\n",
              "      <th>f11</th>\n",
              "      <th>f12</th>\n",
              "      <th>f13</th>\n",
              "      <th>f14</th>\n",
              "      <th>f15</th>\n",
              "      <th>f16</th>\n",
              "    </tr>\n",
              "  </thead>\n",
              "  <tbody>\n",
              "    <tr>\n",
              "      <th>0</th>\n",
              "      <td>_mɛ_</td>\n",
              "      <td>_mɛ̀_</td>\n",
              "      <td>mɛ</td>\n",
              "      <td>mɛ̀</td>\n",
              "      <td>1</td>\n",
              "      <td>[0, 0, 0, 0, 0]</td>\n",
              "      <td>[0, 1]</td>\n",
              "      <td>[1, 1, 0]</td>\n",
              "      <td>[0, 0, 0, 0, 0, 0]</td>\n",
              "      <td>0</td>\n",
              "      <td>0</td>\n",
              "      <td>0</td>\n",
              "      <td>0</td>\n",
              "      <td>0</td>\n",
              "      <td>1</td>\n",
              "      <td>1</td>\n",
              "      <td>0</td>\n",
              "      <td>0</td>\n",
              "      <td>1</td>\n",
              "      <td>0</td>\n",
              "      <td>0</td>\n",
              "      <td>0</td>\n",
              "      <td>0</td>\n",
              "      <td>0</td>\n",
              "      <td>0</td>\n",
              "    </tr>\n",
              "    <tr>\n",
              "      <th>1</th>\n",
              "      <td>_ɓot_</td>\n",
              "      <td>_ɓɔ̀t_</td>\n",
              "      <td>ɓot</td>\n",
              "      <td>ɓɔ̀t</td>\n",
              "      <td>1</td>\n",
              "      <td>[0, 0, 0, 0, 0]</td>\n",
              "      <td>[0, 0]</td>\n",
              "      <td>[1, 1, 0]</td>\n",
              "      <td>[1, 0, 0, 0, 0, 0]</td>\n",
              "      <td>0</td>\n",
              "      <td>0</td>\n",
              "      <td>0</td>\n",
              "      <td>0</td>\n",
              "      <td>0</td>\n",
              "      <td>1</td>\n",
              "      <td>1</td>\n",
              "      <td>0</td>\n",
              "      <td>0</td>\n",
              "      <td>0</td>\n",
              "      <td>1</td>\n",
              "      <td>0</td>\n",
              "      <td>0</td>\n",
              "      <td>0</td>\n",
              "      <td>0</td>\n",
              "      <td>0</td>\n",
              "    </tr>\n",
              "    <tr>\n",
              "      <th>2</th>\n",
              "      <td>_ɓô</td>\n",
              "      <td>_ɓo</td>\n",
              "      <td>ɓôdaa</td>\n",
              "      <td>ɓodàa</td>\n",
              "      <td>0</td>\n",
              "      <td>[0, 0, 0, 0, 0]</td>\n",
              "      <td>[0, 0]</td>\n",
              "      <td>[1, 0, 1]</td>\n",
              "      <td>[0, 0, 0, 0, 0, 0]</td>\n",
              "      <td>0</td>\n",
              "      <td>0</td>\n",
              "      <td>0</td>\n",
              "      <td>0</td>\n",
              "      <td>0</td>\n",
              "      <td>1</td>\n",
              "      <td>0</td>\n",
              "      <td>1</td>\n",
              "      <td>0</td>\n",
              "      <td>0</td>\n",
              "      <td>0</td>\n",
              "      <td>0</td>\n",
              "      <td>0</td>\n",
              "      <td>0</td>\n",
              "      <td>0</td>\n",
              "      <td>0</td>\n",
              "    </tr>\n",
              "    <tr>\n",
              "      <th>4</th>\n",
              "      <td>a_</td>\n",
              "      <td>a_</td>\n",
              "      <td>ɓôdaa</td>\n",
              "      <td>ɓodàa</td>\n",
              "      <td>0</td>\n",
              "      <td>[0, 0, 0, 0, 0]</td>\n",
              "      <td>[1, 1]</td>\n",
              "      <td>[0, 1, 1]</td>\n",
              "      <td>[0, 0, 0, 0, 0, 0]</td>\n",
              "      <td>0</td>\n",
              "      <td>0</td>\n",
              "      <td>0</td>\n",
              "      <td>0</td>\n",
              "      <td>0</td>\n",
              "      <td>0</td>\n",
              "      <td>1</td>\n",
              "      <td>1</td>\n",
              "      <td>1</td>\n",
              "      <td>1</td>\n",
              "      <td>0</td>\n",
              "      <td>0</td>\n",
              "      <td>0</td>\n",
              "      <td>0</td>\n",
              "      <td>0</td>\n",
              "      <td>0</td>\n",
              "    </tr>\n",
              "    <tr>\n",
              "      <th>5</th>\n",
              "      <td>_n</td>\n",
              "      <td>_n</td>\n",
              "      <td>ni</td>\n",
              "      <td>ni</td>\n",
              "      <td>0</td>\n",
              "      <td>[0, 0, 0, 0, 0]</td>\n",
              "      <td>[1, 1]</td>\n",
              "      <td>[1, 0, 1]</td>\n",
              "      <td>[0, 0, 0, 0, 0, 0]</td>\n",
              "      <td>0</td>\n",
              "      <td>0</td>\n",
              "      <td>0</td>\n",
              "      <td>0</td>\n",
              "      <td>0</td>\n",
              "      <td>1</td>\n",
              "      <td>0</td>\n",
              "      <td>1</td>\n",
              "      <td>1</td>\n",
              "      <td>1</td>\n",
              "      <td>0</td>\n",
              "      <td>0</td>\n",
              "      <td>0</td>\n",
              "      <td>0</td>\n",
              "      <td>0</td>\n",
              "      <td>0</td>\n",
              "    </tr>\n",
              "  </tbody>\n",
              "</table>\n",
              "</div>"
            ],
            "text/plain": [
              "   input  output word_inp word_tgt  label  ... f12 f13 f14 f15  f16\n",
              "0   _mɛ_   _mɛ̀_       mɛ      mɛ̀      1  ...   0   0   0   0    0\n",
              "1  _ɓot_  _ɓɔ̀t_      ɓot     ɓɔ̀t      1  ...   0   0   0   0    0\n",
              "2   _ɓô     _ɓo   ɓôdaa   ɓodàa      0  ...   0   0   0   0    0\n",
              "4     a_      a_   ɓôdaa   ɓodàa      0  ...   0   0   0   0    0\n",
              "5     _n      _n       ni       ni      0  ...   0   0   0   0    0\n",
              "\n",
              "[5 rows x 25 columns]"
            ]
          },
          "metadata": {
            "tags": []
          },
          "execution_count": 46
        }
      ]
    },
    {
      "cell_type": "code",
      "metadata": {
        "id": "F1oNFokQBYSU"
      },
      "source": [
        "input_target['f'+str(num)] = input_target.input.apply(close)\n",
        "# num += 1\n",
        "# input_target['f'+str(num)] = input_target.input.apply(m)"
      ],
      "execution_count": null,
      "outputs": []
    },
    {
      "cell_type": "code",
      "metadata": {
        "id": "mWRiwsbK0NK-"
      },
      "source": [
        "input_target['binary_label'] = input_target.label > 0"
      ],
      "execution_count": null,
      "outputs": []
    },
    {
      "cell_type": "code",
      "metadata": {
        "colab": {
          "base_uri": "https://localhost:8080/"
        },
        "id": "ZF3CwbcvzlAT",
        "outputId": "f95a3de1-f409-48e8-ffe4-f99cbc889d7c"
      },
      "source": [
        "input_target.head()"
      ],
      "execution_count": null,
      "outputs": [
        {
          "output_type": "execute_result",
          "data": {
            "text/html": [
              "<div>\n",
              "<style scoped>\n",
              "    .dataframe tbody tr th:only-of-type {\n",
              "        vertical-align: middle;\n",
              "    }\n",
              "\n",
              "    .dataframe tbody tr th {\n",
              "        vertical-align: top;\n",
              "    }\n",
              "\n",
              "    .dataframe thead th {\n",
              "        text-align: right;\n",
              "    }\n",
              "</style>\n",
              "<table border=\"1\" class=\"dataframe\">\n",
              "  <thead>\n",
              "    <tr style=\"text-align: right;\">\n",
              "      <th></th>\n",
              "      <th>input</th>\n",
              "      <th>output</th>\n",
              "      <th>word_inp</th>\n",
              "      <th>word_tgt</th>\n",
              "      <th>label</th>\n",
              "      <th>prev</th>\n",
              "      <th>vect_vow</th>\n",
              "      <th>vect</th>\n",
              "      <th>plosives</th>\n",
              "      <th>f1</th>\n",
              "      <th>f2</th>\n",
              "      <th>f3</th>\n",
              "      <th>f4</th>\n",
              "      <th>f5</th>\n",
              "      <th>f6</th>\n",
              "      <th>f7</th>\n",
              "      <th>f8</th>\n",
              "      <th>f9</th>\n",
              "      <th>f10</th>\n",
              "      <th>f11</th>\n",
              "      <th>f12</th>\n",
              "      <th>f13</th>\n",
              "      <th>f14</th>\n",
              "      <th>f15</th>\n",
              "      <th>f16</th>\n",
              "      <th>f17</th>\n",
              "      <th>binary_label</th>\n",
              "    </tr>\n",
              "  </thead>\n",
              "  <tbody>\n",
              "    <tr>\n",
              "      <th>0</th>\n",
              "      <td>_mɛ_</td>\n",
              "      <td>_mɛ̀_</td>\n",
              "      <td>mɛ</td>\n",
              "      <td>mɛ̀</td>\n",
              "      <td>1</td>\n",
              "      <td>[0, 0, 0, 0, 0]</td>\n",
              "      <td>[0, 1]</td>\n",
              "      <td>[1, 1, 0]</td>\n",
              "      <td>[0, 0, 0, 0, 0, 0]</td>\n",
              "      <td>0</td>\n",
              "      <td>0</td>\n",
              "      <td>0</td>\n",
              "      <td>0</td>\n",
              "      <td>0</td>\n",
              "      <td>1</td>\n",
              "      <td>1</td>\n",
              "      <td>0</td>\n",
              "      <td>0</td>\n",
              "      <td>1</td>\n",
              "      <td>0</td>\n",
              "      <td>0</td>\n",
              "      <td>0</td>\n",
              "      <td>0</td>\n",
              "      <td>0</td>\n",
              "      <td>0</td>\n",
              "      <td>1</td>\n",
              "      <td>True</td>\n",
              "    </tr>\n",
              "    <tr>\n",
              "      <th>1</th>\n",
              "      <td>_ɓot_</td>\n",
              "      <td>_ɓɔ̀t_</td>\n",
              "      <td>ɓot</td>\n",
              "      <td>ɓɔ̀t</td>\n",
              "      <td>1</td>\n",
              "      <td>[0, 0, 0, 0, 0]</td>\n",
              "      <td>[0, 0]</td>\n",
              "      <td>[1, 1, 0]</td>\n",
              "      <td>[1, 0, 0, 0, 0, 0]</td>\n",
              "      <td>0</td>\n",
              "      <td>0</td>\n",
              "      <td>0</td>\n",
              "      <td>0</td>\n",
              "      <td>0</td>\n",
              "      <td>1</td>\n",
              "      <td>1</td>\n",
              "      <td>0</td>\n",
              "      <td>0</td>\n",
              "      <td>0</td>\n",
              "      <td>1</td>\n",
              "      <td>0</td>\n",
              "      <td>0</td>\n",
              "      <td>0</td>\n",
              "      <td>0</td>\n",
              "      <td>0</td>\n",
              "      <td>0</td>\n",
              "      <td>True</td>\n",
              "    </tr>\n",
              "    <tr>\n",
              "      <th>2</th>\n",
              "      <td>_ɓô</td>\n",
              "      <td>_ɓo</td>\n",
              "      <td>ɓôdaa</td>\n",
              "      <td>ɓodàa</td>\n",
              "      <td>0</td>\n",
              "      <td>[0, 0, 0, 0, 0]</td>\n",
              "      <td>[0, 0]</td>\n",
              "      <td>[1, 0, 1]</td>\n",
              "      <td>[0, 0, 0, 0, 0, 0]</td>\n",
              "      <td>0</td>\n",
              "      <td>0</td>\n",
              "      <td>0</td>\n",
              "      <td>0</td>\n",
              "      <td>0</td>\n",
              "      <td>1</td>\n",
              "      <td>0</td>\n",
              "      <td>1</td>\n",
              "      <td>0</td>\n",
              "      <td>0</td>\n",
              "      <td>0</td>\n",
              "      <td>0</td>\n",
              "      <td>0</td>\n",
              "      <td>0</td>\n",
              "      <td>0</td>\n",
              "      <td>0</td>\n",
              "      <td>0</td>\n",
              "      <td>False</td>\n",
              "    </tr>\n",
              "    <tr>\n",
              "      <th>4</th>\n",
              "      <td>a_</td>\n",
              "      <td>a_</td>\n",
              "      <td>ɓôdaa</td>\n",
              "      <td>ɓodàa</td>\n",
              "      <td>0</td>\n",
              "      <td>[0, 0, 0, 0, 0]</td>\n",
              "      <td>[1, 1]</td>\n",
              "      <td>[0, 1, 1]</td>\n",
              "      <td>[0, 0, 0, 0, 0, 0]</td>\n",
              "      <td>0</td>\n",
              "      <td>0</td>\n",
              "      <td>0</td>\n",
              "      <td>0</td>\n",
              "      <td>0</td>\n",
              "      <td>0</td>\n",
              "      <td>1</td>\n",
              "      <td>1</td>\n",
              "      <td>1</td>\n",
              "      <td>1</td>\n",
              "      <td>0</td>\n",
              "      <td>0</td>\n",
              "      <td>0</td>\n",
              "      <td>0</td>\n",
              "      <td>0</td>\n",
              "      <td>0</td>\n",
              "      <td>1</td>\n",
              "      <td>False</td>\n",
              "    </tr>\n",
              "    <tr>\n",
              "      <th>5</th>\n",
              "      <td>_n</td>\n",
              "      <td>_n</td>\n",
              "      <td>ni</td>\n",
              "      <td>ni</td>\n",
              "      <td>0</td>\n",
              "      <td>[0, 0, 0, 0, 0]</td>\n",
              "      <td>[1, 1]</td>\n",
              "      <td>[1, 0, 1]</td>\n",
              "      <td>[0, 0, 0, 0, 0, 0]</td>\n",
              "      <td>0</td>\n",
              "      <td>0</td>\n",
              "      <td>0</td>\n",
              "      <td>0</td>\n",
              "      <td>0</td>\n",
              "      <td>1</td>\n",
              "      <td>0</td>\n",
              "      <td>1</td>\n",
              "      <td>1</td>\n",
              "      <td>1</td>\n",
              "      <td>0</td>\n",
              "      <td>0</td>\n",
              "      <td>0</td>\n",
              "      <td>0</td>\n",
              "      <td>0</td>\n",
              "      <td>0</td>\n",
              "      <td>1</td>\n",
              "      <td>False</td>\n",
              "    </tr>\n",
              "  </tbody>\n",
              "</table>\n",
              "</div>"
            ],
            "text/plain": [
              "   input  output word_inp word_tgt  label  ... f14 f15 f16 f17  binary_label\n",
              "0   _mɛ_   _mɛ̀_       mɛ      mɛ̀      1  ...   0   0   0   1          True\n",
              "1  _ɓot_  _ɓɔ̀t_      ɓot     ɓɔ̀t      1  ...   0   0   0   0          True\n",
              "2   _ɓô     _ɓo   ɓôdaa   ɓodàa      0  ...   0   0   0   0         False\n",
              "4     a_      a_   ɓôdaa   ɓodàa      0  ...   0   0   0   1         False\n",
              "5     _n      _n       ni       ni      0  ...   0   0   0   1         False\n",
              "\n",
              "[5 rows x 27 columns]"
            ]
          },
          "metadata": {
            "tags": []
          },
          "execution_count": 49
        }
      ]
    },
    {
      "cell_type": "markdown",
      "metadata": {
        "id": "798zu7VIEmZg"
      },
      "source": [
        "# Train the ML models"
      ]
    },
    {
      "cell_type": "code",
      "metadata": {
        "id": "1J5gyWSt0p4M"
      },
      "source": [
        "base_X = input_target.drop(['input', 'output', 'word_inp', 'word_tgt', 'vect_vow', 'vect','label', 'prev',  'plosives', 'binary_label'], axis=1) #'r_w', 'next',\n",
        "base_y = input_target.binary_label"
      ],
      "execution_count": null,
      "outputs": []
    },
    {
      "cell_type": "code",
      "metadata": {
        "id": "K1F4LwQg0Y55"
      },
      "source": [
        "diac = input_target[input_target['binary_label']]"
      ],
      "execution_count": null,
      "outputs": []
    },
    {
      "cell_type": "code",
      "metadata": {
        "id": "I85kWqdzdr24"
      },
      "source": [
        "X = diac.drop(['input', 'output', 'word_inp', 'word_tgt', 'vect_vow','vect','label', 'prev',  'plosives', 'binary_label'], axis=1) # 'next',, 'r_w'\n",
        "y = diac.label"
      ],
      "execution_count": null,
      "outputs": []
    },
    {
      "cell_type": "code",
      "metadata": {
        "id": "ils7O_Gj_N41"
      },
      "source": [
        "df = input_target.drop(['input', 'output', 'word_inp', 'word_tgt', 'vect_vow', 'vect','prev', 'plosives'], axis=1) # 'next',, 'r_w'"
      ],
      "execution_count": null,
      "outputs": []
    },
    {
      "cell_type": "code",
      "metadata": {
        "id": "JfW0M-ld_Tua"
      },
      "source": [
        "df.to_csv('features.csv', index=False)"
      ],
      "execution_count": null,
      "outputs": []
    },
    {
      "cell_type": "code",
      "metadata": {
        "id": "6VxE_ShtBKsP"
      },
      "source": [
        "from sklearn.linear_model import LogisticRegression, SGDClassifier\n",
        "from sklearn.model_selection import train_test_split, GridSearchCV\n",
        "from sklearn.metrics import classification_report\n",
        "import numpy as np "
      ],
      "execution_count": null,
      "outputs": []
    },
    {
      "cell_type": "markdown",
      "metadata": {
        "id": "oCrZXsEC1Fhj"
      },
      "source": [
        "Add a simple logistic regression to predict whether we have to insert diacritic or not"
      ]
    },
    {
      "cell_type": "code",
      "metadata": {
        "id": "zTOG1Tca1X1s"
      },
      "source": [
        "X_train_b, X_test_b, y_train_b, y_test_b = train_test_split(base_X, base_y, test_size = 0.2, random_state=21)"
      ],
      "execution_count": null,
      "outputs": []
    },
    {
      "cell_type": "code",
      "metadata": {
        "colab": {
          "base_uri": "https://localhost:8080/"
        },
        "id": "b5dKYHy_1fes",
        "outputId": "87d1325e-b070-4285-9a40-2624a0255015"
      },
      "source": [
        "logreg = LogisticRegression(max_iter=500, n_jobs=-1)\n",
        "\n",
        "parameters = {'C': np.logspace(-5, 5, 20)}       \n",
        "\n",
        "search = GridSearchCV(logreg, cv=5, param_grid = parameters, scoring = 'f1_macro')\n",
        "\n",
        "# Fit it to the data\n",
        "search.fit(X_train_b, y_train_b)\n",
        "y_pred = search.predict(X_test_b)\n",
        "\n",
        "# Compute and print metrics\n",
        "print(classification_report(y_test_b, y_pred))\n",
        "print(\"Tuned Model Parameters: {}\".format(search.best_params_))"
      ],
      "execution_count": null,
      "outputs": [
        {
          "output_type": "stream",
          "text": [
            "              precision    recall  f1-score   support\n",
            "\n",
            "       False       0.61      0.73      0.66      4262\n",
            "        True       0.61      0.48      0.54      3825\n",
            "\n",
            "    accuracy                           0.61      8087\n",
            "   macro avg       0.61      0.60      0.60      8087\n",
            "weighted avg       0.61      0.61      0.60      8087\n",
            "\n",
            "Tuned Model Parameters: {'C': 0.5455594781168515}\n"
          ],
          "name": "stdout"
        }
      ]
    },
    {
      "cell_type": "code",
      "metadata": {
        "colab": {
          "base_uri": "https://localhost:8080/"
        },
        "id": "FPT-5lbj8dvM",
        "outputId": "8cdaef85-ba13-4591-e1e8-79acd499a632"
      },
      "source": [
        "logreg.set_params(**search.best_params_)\n",
        "logreg.fit(base_X, base_y)"
      ],
      "execution_count": null,
      "outputs": [
        {
          "output_type": "execute_result",
          "data": {
            "text/plain": [
              "LogisticRegression(C=0.5455594781168515, class_weight=None, dual=False,\n",
              "                   fit_intercept=True, intercept_scaling=1, l1_ratio=None,\n",
              "                   max_iter=500, multi_class='auto', n_jobs=-1, penalty='l2',\n",
              "                   random_state=None, solver='lbfgs', tol=0.0001, verbose=0,\n",
              "                   warm_start=False)"
            ]
          },
          "metadata": {
            "tags": []
          },
          "execution_count": 58
        }
      ]
    },
    {
      "cell_type": "markdown",
      "metadata": {
        "id": "XpcH2axN1PfE"
      },
      "source": [
        "Here are more advanced functions to determine which diacritic we will need to add"
      ]
    },
    {
      "cell_type": "code",
      "metadata": {
        "id": "EkdcMfuZpgnr"
      },
      "source": [
        "X_train, X_test, y_train, y_test = train_test_split(X, y, test_size = 0.2, random_state=21)"
      ],
      "execution_count": null,
      "outputs": []
    },
    {
      "cell_type": "code",
      "metadata": {
        "colab": {
          "base_uri": "https://localhost:8080/"
        },
        "id": "QdtU_0fvpXFz",
        "outputId": "59d136a0-f335-49b9-de2c-aac7a65b466e"
      },
      "source": [
        "logreg_features = LogisticRegression(C=0.01, max_iter=1000, n_jobs=-1, tol=0.001,\n",
        "                            class_weight='balanced', \n",
        "                            solver='saga', multi_class = 'multinomial')\n",
        "logreg_features.fit(X_train, y_train)\n",
        "y_pred_q = logreg_features.predict(X_test)\n",
        "print(classification_report(y_test, y_pred_q))"
      ],
      "execution_count": null,
      "outputs": [
        {
          "output_type": "stream",
          "text": [
            "              precision    recall  f1-score   support\n",
            "\n",
            "           1       0.86      0.02      0.04      2680\n",
            "           2       0.02      0.95      0.03        22\n",
            "           3       0.20      0.48      0.28       432\n",
            "           4       0.27      0.38      0.31       594\n",
            "           5       0.10      0.43      0.17       113\n",
            "\n",
            "    accuracy                           0.15      3841\n",
            "   macro avg       0.29      0.46      0.17      3841\n",
            "weighted avg       0.66      0.15      0.11      3841\n",
            "\n"
          ],
          "name": "stdout"
        },
        {
          "output_type": "stream",
          "text": [
            "/usr/local/lib/python3.7/dist-packages/sklearn/linear_model/_sag.py:330: ConvergenceWarning: The max_iter was reached which means the coef_ did not converge\n",
            "  \"the coef_ did not converge\", ConvergenceWarning)\n"
          ],
          "name": "stderr"
        }
      ]
    },
    {
      "cell_type": "code",
      "metadata": {
        "colab": {
          "base_uri": "https://localhost:8080/"
        },
        "id": "cNUNzNbFUn25",
        "outputId": "db9981ec-a99c-4603-c42c-67d388f20e3a"
      },
      "source": [
        "logreg_features.fit(X, y)"
      ],
      "execution_count": null,
      "outputs": [
        {
          "output_type": "stream",
          "text": [
            "/usr/local/lib/python3.7/dist-packages/sklearn/linear_model/_sag.py:330: ConvergenceWarning: The max_iter was reached which means the coef_ did not converge\n",
            "  \"the coef_ did not converge\", ConvergenceWarning)\n"
          ],
          "name": "stderr"
        },
        {
          "output_type": "execute_result",
          "data": {
            "text/plain": [
              "LogisticRegression(C=0.01, class_weight='balanced', dual=False,\n",
              "                   fit_intercept=True, intercept_scaling=1, l1_ratio=None,\n",
              "                   max_iter=1000, multi_class='multinomial', n_jobs=-1,\n",
              "                   penalty='l2', random_state=None, solver='saga', tol=0.001,\n",
              "                   verbose=0, warm_start=False)"
            ]
          },
          "metadata": {
            "tags": []
          },
          "execution_count": 61
        }
      ]
    },
    {
      "cell_type": "code",
      "metadata": {
        "colab": {
          "base_uri": "https://localhost:8080/"
        },
        "id": "zZS3sMGp_pPk",
        "outputId": "d1aa78b1-d280-4a9a-8175-1c6fa4dce9c0"
      },
      "source": [
        "%%time\n",
        "\n",
        "sgd = SGDClassifier(alpha = 0.0001, max_iter=500, n_jobs=-1,  tol=0.0000001,\n",
        "                    random_state=42, class_weight='balanced', loss= 'log')\n",
        "\n",
        "# Fit it to the data\n",
        "sgd.fit(X_train, y_train)\n",
        "y_pred = sgd.predict(X_test)\n",
        "\n",
        "# Compute and print metrics\n",
        "print(classification_report(y_test, y_pred))"
      ],
      "execution_count": null,
      "outputs": [
        {
          "output_type": "stream",
          "text": [
            "              precision    recall  f1-score   support\n",
            "\n",
            "           1       0.77      0.79      0.78      2680\n",
            "           2       0.00      0.00      0.00        22\n",
            "           3       0.34      0.30      0.31       432\n",
            "           4       0.42      0.19      0.26       594\n",
            "           5       0.11      0.43      0.18       113\n",
            "\n",
            "    accuracy                           0.63      3841\n",
            "   macro avg       0.33      0.34      0.31      3841\n",
            "weighted avg       0.64      0.63      0.62      3841\n",
            "\n",
            "CPU times: user 1.02 s, sys: 16 ms, total: 1.04 s\n",
            "Wall time: 634 ms\n"
          ],
          "name": "stdout"
        },
        {
          "output_type": "stream",
          "text": [
            "/usr/local/lib/python3.7/dist-packages/sklearn/metrics/_classification.py:1272: UndefinedMetricWarning: Precision and F-score are ill-defined and being set to 0.0 in labels with no predicted samples. Use `zero_division` parameter to control this behavior.\n",
            "  _warn_prf(average, modifier, msg_start, len(result))\n"
          ],
          "name": "stderr"
        }
      ]
    },
    {
      "cell_type": "code",
      "metadata": {
        "id": "UV9i-uGlFPRd",
        "colab": {
          "base_uri": "https://localhost:8080/"
        },
        "outputId": "8c4b8a10-1d29-4d5b-aa52-fcd1ad74f099"
      },
      "source": [
        "from sklearn.calibration import CalibratedClassifierCV\n",
        "\n",
        "sgd.fit(X,y)\n",
        "calibrator = CalibratedClassifierCV(sgd, cv='prefit')\n",
        "calibrator.fit(X,y)"
      ],
      "execution_count": null,
      "outputs": [
        {
          "output_type": "execute_result",
          "data": {
            "text/plain": [
              "CalibratedClassifierCV(base_estimator=SGDClassifier(alpha=0.0001, average=False,\n",
              "                                                    class_weight='balanced',\n",
              "                                                    early_stopping=False,\n",
              "                                                    epsilon=0.1, eta0=0.0,\n",
              "                                                    fit_intercept=True,\n",
              "                                                    l1_ratio=0.15,\n",
              "                                                    learning_rate='optimal',\n",
              "                                                    loss='log', max_iter=500,\n",
              "                                                    n_iter_no_change=5,\n",
              "                                                    n_jobs=-1, penalty='l2',\n",
              "                                                    power_t=0.5,\n",
              "                                                    random_state=42,\n",
              "                                                    shuffle=True, tol=1e-07,\n",
              "                                                    validation_fraction=0.1,\n",
              "                                                    verbose=0,\n",
              "                                                    warm_start=False),\n",
              "                       cv='prefit', method='sigmoid')"
            ]
          },
          "metadata": {
            "tags": []
          },
          "execution_count": 63
        }
      ]
    },
    {
      "cell_type": "code",
      "metadata": {
        "colab": {
          "base_uri": "https://localhost:8080/"
        },
        "id": "KG9py2mQ4Xsd",
        "outputId": "87c026ba-76a4-42a2-a587-e8fa8399c0a2"
      },
      "source": [
        "from sklearn.discriminant_analysis import QuadraticDiscriminantAnalysis\n",
        "\n",
        "qda = QuadraticDiscriminantAnalysis(reg_param=0.03)\n",
        "\n",
        "qda.fit(X_train, y_train)\n",
        "y_pred = qda.predict(X_test)\n",
        "print(classification_report(y_test, y_pred))\n",
        "\n",
        "qda.fit(X, y)"
      ],
      "execution_count": null,
      "outputs": [
        {
          "output_type": "stream",
          "text": [
            "              precision    recall  f1-score   support\n",
            "\n",
            "           1       0.72      0.78      0.75      2680\n",
            "           2       0.06      0.95      0.12        22\n",
            "           3       0.33      0.25      0.28       432\n",
            "           4       0.49      0.09      0.15       594\n",
            "           5       0.18      0.34      0.23       113\n",
            "\n",
            "    accuracy                           0.60      3841\n",
            "   macro avg       0.36      0.48      0.31      3841\n",
            "weighted avg       0.62      0.60      0.58      3841\n",
            "\n"
          ],
          "name": "stdout"
        },
        {
          "output_type": "stream",
          "text": [
            "/usr/local/lib/python3.7/dist-packages/sklearn/discriminant_analysis.py:691: UserWarning: Variables are collinear\n",
            "  warnings.warn(\"Variables are collinear\")\n",
            "/usr/local/lib/python3.7/dist-packages/sklearn/discriminant_analysis.py:691: UserWarning: Variables are collinear\n",
            "  warnings.warn(\"Variables are collinear\")\n"
          ],
          "name": "stderr"
        },
        {
          "output_type": "execute_result",
          "data": {
            "text/plain": [
              "QuadraticDiscriminantAnalysis(priors=None, reg_param=0.03,\n",
              "                              store_covariance=False, tol=0.0001)"
            ]
          },
          "metadata": {
            "tags": []
          },
          "execution_count": 64
        }
      ]
    },
    {
      "cell_type": "code",
      "metadata": {
        "colab": {
          "base_uri": "https://localhost:8080/"
        },
        "id": "W5vCxDe2yj8Q",
        "outputId": "d0452960-85b4-47ac-f5b9-9a924ec3a966"
      },
      "source": [
        "from sklearn.discriminant_analysis import LinearDiscriminantAnalysis\n",
        "\n",
        "lda = LinearDiscriminantAnalysis()\n",
        "\n",
        "lda.fit(X_train, y_train)\n",
        "y_pred = lda.predict(X_test)\n",
        "print(classification_report(y_test, y_pred))"
      ],
      "execution_count": null,
      "outputs": [
        {
          "output_type": "stream",
          "text": [
            "              precision    recall  f1-score   support\n",
            "\n",
            "           1       0.73      0.93      0.82      2680\n",
            "           2       0.00      0.00      0.00        22\n",
            "           3       0.39      0.19      0.26       432\n",
            "           4       0.41      0.14      0.20       594\n",
            "           5       0.00      0.00      0.00       113\n",
            "\n",
            "    accuracy                           0.69      3841\n",
            "   macro avg       0.31      0.25      0.26      3841\n",
            "weighted avg       0.62      0.69      0.63      3841\n",
            "\n"
          ],
          "name": "stdout"
        },
        {
          "output_type": "stream",
          "text": [
            "/usr/local/lib/python3.7/dist-packages/sklearn/metrics/_classification.py:1272: UndefinedMetricWarning: Precision and F-score are ill-defined and being set to 0.0 in labels with no predicted samples. Use `zero_division` parameter to control this behavior.\n",
            "  _warn_prf(average, modifier, msg_start, len(result))\n"
          ],
          "name": "stderr"
        }
      ]
    },
    {
      "cell_type": "code",
      "metadata": {
        "id": "l8o5SDxr2lib"
      },
      "source": [
        "from collections import Counter\n",
        "\n",
        "def predict(data):\n",
        "  res = 0\n",
        "  filter = logreg.predict(data)[0]\n",
        "  \n",
        "  if filter:\n",
        "    out1 = logreg_features.predict(data)[0]\n",
        "    out2 = calibrator.predict(data)[0]\n",
        "    out3 = qda.predict(data)[0]\n",
        "    out4 = lda.predict(data)[0]\n",
        "    \n",
        "    tot = [out1, out2, out3, out4]\n",
        "    cnt = Counter(tot)\n",
        "    res = [x[0] for x in cnt.most_common()][0]\n",
        "  return res"
      ],
      "execution_count": null,
      "outputs": []
    },
    {
      "cell_type": "code",
      "metadata": {
        "id": "53fUWnRbfc1B"
      },
      "source": [
        "def make_df(sp, word_token, prev_d):\n",
        "\n",
        "  feature_df = [0, 0, 0, 0, 0] #5\n",
        "  feature_df.extend(vowel_features(sp)) #2\n",
        "  # feature_df.extend(r_or_w(sp)) #3\n",
        "  feature_df.extend(features(sp)) #5\n",
        "  # feature_df.extend(next_diacritic(word_token, sp)) #5\n",
        "  feature_df.extend(plosives(sp)) #6\n",
        "  feature_df.append(close(sp)) #1\n",
        "  # feature_df.append(m(sp)) #1\n",
        "\n",
        "  if prev_d != 0:\n",
        "    feature_df[prev_d-1] = 1\n",
        "  X_dummies = pd.DataFrame([feature_df])\n",
        "  \n",
        "  return X_dummies"
      ],
      "execution_count": null,
      "outputs": []
    },
    {
      "cell_type": "markdown",
      "metadata": {
        "id": "2m-ablRZEqxl"
      },
      "source": [
        "# Make predictions"
      ]
    },
    {
      "cell_type": "code",
      "metadata": {
        "id": "o2G_bhBRpvMK"
      },
      "source": [
        "from tqdm.auto import tqdm "
      ],
      "execution_count": null,
      "outputs": []
    },
    {
      "cell_type": "code",
      "metadata": {
        "id": "5CkZt5YOuT9E",
        "colab": {
          "base_uri": "https://localhost:8080/",
          "height": 104,
          "referenced_widgets": [
            "f5df0df96db74397b743244d2682df69",
            "9238a00153be4e04b0171c036668a728",
            "050166f896784b16bc48af84d641bb0f",
            "5f2d4e14d93c4e958f571868441af4b8",
            "b33200e802f74ac296fa19f000a154a6",
            "0a47e3d26a174a9fa84377c5bf9e36cc",
            "a600f47c4b224e2ebcb76d77981ca2fd",
            "893bca04600c428c811b892c59911722"
          ]
        },
        "outputId": "55761ead-97a3-4ef7-ca59-17d834d6e83b"
      },
      "source": [
        "%%time\n",
        "\n",
        "res = []\n",
        "\n",
        "for i in tqdm(range(len(valid))):\n",
        "  tmp = '' # our future line\n",
        "  vowels = ['ı', 'ŋ', 'ɔ', 'ɛ', 'ñ', 'n', 'a', 'i', 'o', 'e', 'u', 'y']\n",
        "  diacritics = ['̀', '́', '̂', '̄', '̌']\n",
        "  funny_a = 'a' + '̀'\n",
        "\n",
        "  line = valid.Protestant.iloc[i].split() # get the words out of the line\n",
        "  for word in line:\n",
        "    prev_diac = 0\n",
        "    # check if the word is in our dictionary\n",
        "    if word in no_change:\n",
        "      tmp += no_change[word] + ' ' #add the part to the line\n",
        "    else:      \n",
        "      # apply pre-defined rules\n",
        "      w = rules(word.lower())\n",
        "      # make byte-pair encoding from the word and get rid of the punctuation\n",
        "      word_token, splits = smart_split(str(word.lower()).strip(selected_punc))\n",
        "      for sp in splits:     \n",
        "        if sp in no_change_syll:\n",
        "          v = no_change_syll[sp]\n",
        "          sp = sp.replace('_', '')\n",
        "          v = v.replace('_', '')\n",
        "          w = w.replace(sp, v)\n",
        "\n",
        "        else:          \n",
        "          # create the vector\n",
        "          tmp_df = make_df(sp, word_token, prev_diac)\n",
        "          # make prediction\n",
        "          pred =  predict(tmp_df)\n",
        "          prev_diac = pred\n",
        "          # replace _ with spaces to replace the parts in the actual word\n",
        "          sp = sp.replace('_', '')\n",
        "          # decode the prediction (replace the class number with corresponding diacritic\n",
        "          vowel = ''\n",
        "          # select the sound we want to apply the diacritic\n",
        "          for v in vowels:\n",
        "            if v in sp:\n",
        "              vowel = v\n",
        "          if vowel == 'i' and pred > 0:\n",
        "            vowel = 'ı'\n",
        "          if pred == 0 and vowel == 'o':\n",
        "            w = w.replace('o', 'ɔ') \n",
        "          if pred:\n",
        "            # pred -1 - is the index of the diacritic in the diacritics list\n",
        "            rep = v + diacritics[pred-1]\n",
        "            tmp_w = sp.replace(v, rep) #changed part\n",
        "            w = w.replace(sp, tmp_w) #replace the part of the word with the part with diacritic\n",
        "           \n",
        "      tmp += w + ' ' \n",
        "  out = tmp.rstrip(' ')\n",
        "  # out = out.replace('  ', ' ')\n",
        "  res.append(out)"
      ],
      "execution_count": null,
      "outputs": [
        {
          "output_type": "display_data",
          "data": {
            "application/vnd.jupyter.widget-view+json": {
              "model_id": "f5df0df96db74397b743244d2682df69",
              "version_minor": 0,
              "version_major": 2
            },
            "text/plain": [
              "HBox(children=(FloatProgress(value=0.0, max=1000.0), HTML(value='')))"
            ]
          },
          "metadata": {
            "tags": []
          }
        },
        {
          "output_type": "stream",
          "text": [
            "\n",
            "CPU times: user 22.4 s, sys: 251 ms, total: 22.7 s\n",
            "Wall time: 22.9 s\n"
          ],
          "name": "stdout"
        }
      ]
    },
    {
      "cell_type": "code",
      "metadata": {
        "id": "nwtDc-lzt-Ug"
      },
      "source": [
        "def one_to_two(x):\n",
        "  double_e = 'e'+'́'\n",
        "  double_o = 'o' + '̂'\n",
        "  double_o_dots = 'o' + '̈'\n",
        "  new_w = x.replace('é', double_e).replace('ô', double_o).replace('ö', double_o_dots)\n",
        "  return new_w"
      ],
      "execution_count": null,
      "outputs": []
    },
    {
      "cell_type": "code",
      "metadata": {
        "id": "Z4yUqt3IOg9Z"
      },
      "source": [
        "import re\n",
        "\n",
        "def diac_a_start(x):\n",
        "  funny_a = ' '+'a'+ '̀' + ' '\n",
        "  if x.startswith('A '):\n",
        "    x = x.replace('A', 'À')\n",
        "  if ' a ' in x:\n",
        "    x = x.replace(' a ', funny_a)\n",
        "  if '; mɛ' in x:\n",
        "    x = x.replace('; mɛ', '; mɛ̀')\n",
        "  if x.startswith('Mɛ '):\n",
        "    x = x.replace('Mɛ ', 'Mɛ̀')     \n",
        "  if re.search('(Ny|(by))ɛɛ', x):\n",
        "    x = re.sub('((Ny)|B)ɛɛ', r'\\1ɛ̀ɛ̀', x)\n",
        "  if 'bɛɛ ' in x and not re.search('( |m)[̀́̂̄̌]?(b|ɓ)ɛɛ ', x):\n",
        "    x = x.replace('bɛɛ ', 'ɓɛ̀ɛ̀ ') \n",
        "  if 'ôô' in x:\n",
        "    x = x.replace('ôô', 'òò')\n",
        "  if 'ɛ mɛ ' in x:\n",
        "    x =  x.replace('ɛ mɛ', 'ɛ mɛ̀')\n",
        "  if re.search('(K|( k)|( m))al ', x):\n",
        "    x = re.sub('(K|( k)|( m))al ', r'\\1ǎl ', x) # 'ŋɛ̀ŋ' 'ŋāŋ'\n",
        "  if 'ŋaŋ' in x:\n",
        "    x = x.replace('ŋaŋ', 'ŋāŋ')\n",
        "  if 'ŋɛ̀ŋ' in x:\n",
        "    x = x.replace('ŋɛŋ', 'ŋɛ̀ŋ')\n",
        "  if ' lɛn' in x:\n",
        "    x = x.replace(' lɛn',' lɛ̀n')\n",
        "  if ' mut' in x:\n",
        "    x = x.replace(' mut', ' mût')\n",
        "  if x.startswith('Ŋk'):\n",
        "    x =  x.replace('Ŋk', 'Ŋ̀k')\n",
        "  if 'kum' in x:\n",
        "    x = x.replace('kum', 'kùm')\n",
        "  if 'koŋ' in x:\n",
        "    x = x.replace('koŋ', 'kɔ̀ŋ')\n",
        "  if 'Lim' in x:\n",
        "    x = x.replace('Lim', 'Lı̀m')\n",
        "  if 'kôt' in x:\n",
        "    x = x.replace('kôt', 'kòt')\n",
        "  if 'atɔh' in x:\n",
        "    x = x.replace('atɔh', 'atɔ̄h') \n",
        "  if 'i lɔm' in x:\n",
        "    x = x.replace('i lɔm','i lɔ̀m')\n",
        "  if 'odɓ' in x:\n",
        "    x = x.replace('odɓ','ɔ̄dɓ')\n",
        "  return x"
      ],
      "execution_count": null,
      "outputs": []
    },
    {
      "cell_type": "code",
      "metadata": {
        "id": "-bCp7M6C2GnP"
      },
      "source": [
        "out_dev = pd.DataFrame({'input': valid.Protestant, 'pred': res})\n",
        "out_dev.pred = out_dev.pred.str.capitalize()\n",
        "out_dev.pred = out_dev.pred.apply(diac_a_start)\n",
        "valid.Academy = valid.Academy.apply(one_to_two)\n",
        "\n",
        "out_dev.to_csv('out.tsv',sep='\\t', index=False, header=False)\n",
        "valid.to_csv('true_dev.tsv',sep='\\t', index=False, header=False)"
      ],
      "execution_count": null,
      "outputs": []
    },
    {
      "cell_type": "code",
      "metadata": {
        "id": "YRfGXtOv54BS"
      },
      "source": [
        "valid.Academy = valid.Academy.apply(one_to_two)\n",
        "\n",
        "out_dev.to_csv('out.tsv',sep='\\t', index=False, header=False)\n",
        "valid.to_csv('true_dev.tsv',sep='\\t', index=False, header=False)"
      ],
      "execution_count": null,
      "outputs": []
    },
    {
      "cell_type": "code",
      "metadata": {
        "colab": {
          "base_uri": "https://localhost:8080/",
          "height": 206
        },
        "id": "_0Hg-gFHJAF7",
        "outputId": "fa85f465-0b6c-43b4-cfbf-0b91d21f6897"
      },
      "source": [
        "out_dev.head()"
      ],
      "execution_count": null,
      "outputs": [
        {
          "output_type": "execute_result",
          "data": {
            "text/html": [
              "<div>\n",
              "<style scoped>\n",
              "    .dataframe tbody tr th:only-of-type {\n",
              "        vertical-align: middle;\n",
              "    }\n",
              "\n",
              "    .dataframe tbody tr th {\n",
              "        vertical-align: top;\n",
              "    }\n",
              "\n",
              "    .dataframe thead th {\n",
              "        text-align: right;\n",
              "    }\n",
              "</style>\n",
              "<table border=\"1\" class=\"dataframe\">\n",
              "  <thead>\n",
              "    <tr style=\"text-align: right;\">\n",
              "      <th></th>\n",
              "      <th>input</th>\n",
              "      <th>pred</th>\n",
              "    </tr>\n",
              "  </thead>\n",
              "  <tbody>\n",
              "    <tr>\n",
              "      <th>0</th>\n",
              "      <td>Malét a mbôñe hyémbi.</td>\n",
              "      <td>Màlêt à mɓōŋɛ hyémbi.</td>\n",
              "    </tr>\n",
              "    <tr>\n",
              "      <th>1</th>\n",
              "      <td>A ntuhul me két (i) nuga.</td>\n",
              "      <td>À ntuhul mɛ kēt (i) nuga.</td>\n",
              "    </tr>\n",
              "    <tr>\n",
              "      <th>2</th>\n",
              "      <td>Ñkum u ñkôs ndoñ, ñkum u nlôôs ndoñ.</td>\n",
              "      <td>Ŋ̀kùm u ŋkôs ndɔŋ, ŋ̀kùm u nlòòs ndɔŋ.</td>\n",
              "    </tr>\n",
              "    <tr>\n",
              "      <th>3</th>\n",
              "      <td>Mañ mut unu u nlo u mboda nyono wotama.</td>\n",
              "      <td>Maŋ mût unu u nlɔ u mɓoda nyɔnɔ wotama.</td>\n",
              "    </tr>\n",
              "    <tr>\n",
              "      <th>4</th>\n",
              "      <td>Boñge ba ñke jogop ba kahal ndugi kôt mañgudga.</td>\n",
              "      <td>Ɓɔ̀ŋgɛ ɓa ŋkɛ jɔ̀gɔ̂p ɓa kahal ndugi kòt maŋgudgà.</td>\n",
              "    </tr>\n",
              "  </tbody>\n",
              "</table>\n",
              "</div>"
            ],
            "text/plain": [
              "                                             input                                                  pred\n",
              "0                            Malét a mbôñe hyémbi.                             Màlêt à mɓōŋɛ hyémbi.\n",
              "1                        A ntuhul me két (i) nuga.                           À ntuhul mɛ kēt (i) nuga.\n",
              "2             Ñkum u ñkôs ndoñ, ñkum u nlôôs ndoñ.            Ŋ̀kùm u ŋkôs ndɔŋ, ŋ̀kùm u nlòòs ndɔŋ.\n",
              "3          Mañ mut unu u nlo u mboda nyono wotama.              Maŋ mût unu u nlɔ u mɓoda nyɔnɔ wotama.\n",
              "4  Boñge ba ñke jogop ba kahal ndugi kôt mañgudga.  Ɓɔ̀ŋgɛ ɓa ŋkɛ jɔ̀gɔ̂p ɓa kahal ndugi kòt maŋgudgà."
            ]
          },
          "metadata": {
            "tags": []
          },
          "execution_count": 74
        }
      ]
    },
    {
      "cell_type": "code",
      "metadata": {
        "colab": {
          "base_uri": "https://localhost:8080/"
        },
        "id": "hEU31q2ZBEwx",
        "outputId": "93a37726-8a4a-46ab-8688-0ff445fbc983"
      },
      "source": [
        "!python3 evaluate.py true_dev.tsv out.tsv"
      ],
      "execution_count": null,
      "outputs": [
        {
          "output_type": "stream",
          "text": [
            "CER: 18.2899700164426\n",
            "WER: 50.82327459294053\n"
          ],
          "name": "stdout"
        }
      ]
    },
    {
      "cell_type": "markdown",
      "metadata": {
        "id": "IdTvr1FSLAzb"
      },
      "source": [
        "CER: 18.2899700164426\n",
        "\n",
        "WER: 50.851449196115134"
      ]
    },
    {
      "cell_type": "markdown",
      "metadata": {
        "id": "Nc_9rQQ42Xo7"
      },
      "source": [
        "# Test data"
      ]
    },
    {
      "cell_type": "code",
      "metadata": {
        "id": "owtKh0Rm1e36",
        "colab": {
          "base_uri": "https://localhost:8080/",
          "height": 104,
          "referenced_widgets": [
            "4ea7b91845364fc98306023bd01c660d",
            "1210cf06341f4868a63d24d8223167b5",
            "4366c2fc77c04a38b52783f139211531",
            "4bfdf38c792d4beb986cacff085ee2af",
            "5e9d2629e3cb45c08fa15f743cd08dd9",
            "f6a8cd2f3cba43408c98072f87e7364f",
            "f775ccdb631b4603a60b15134f85154a",
            "cd2935fa82ad44d493a074800fb0ef0b"
          ]
        },
        "outputId": "80a9a7d7-72d3-493f-b2d4-969a03eef5bf"
      },
      "source": [
        "%%time\n",
        "\n",
        "res_test = []\n",
        "\n",
        "for i in tqdm(range(len(test))):\n",
        "  tmp = '' # our future line\n",
        "  vowels = ['ı', 'ŋ', 'ɔ', 'ɛ', 'ñ', 'n', 'a', 'i', 'o', 'e', 'u', 'y']\n",
        "  diacritics = ['̀', '́', '̂', '̄', '̌']\n",
        "  line = test.Protestant.iloc[i].split() # get the words out of the line\n",
        "  for word in line:\n",
        "    prev_diac = 0\n",
        "    # check if the word is in our dictionary\n",
        "    if word in no_change:\n",
        "      tmp += no_change[word] + ' ' #add the part to the line\n",
        "\n",
        "    else:      \n",
        "      # apply pre-defined rules\n",
        "      w = rules(word.lower())\n",
        "      # make byte-pair encoding from the word and get rid of the punctuation\n",
        "      word_token, splits = smart_split(str(word.lower()).strip(selected_punc))\n",
        "      for sp in splits:     \n",
        "        if sp in no_change_syll:\n",
        "          v = no_change_syll[sp]\n",
        "          sp = sp.replace('_', '')\n",
        "          v = v.replace('_', '')\n",
        "          w = w.replace(sp, v)\n",
        "\n",
        "        else:          \n",
        "          # create the vector\n",
        "          tmp_df = make_df(sp, word_token, prev_diac)\n",
        "          # make prediction\n",
        "          pred =  predict(tmp_df)\n",
        "          prev_diac = pred\n",
        "          # replace _ with spaces to replace the parts in the actual word\n",
        "          sp = sp.replace('_', '')\n",
        "          # decode the prediction (replace the class number with corresponding diacritic\n",
        "          vowel = ''\n",
        "          # select the sound we want to apply the diacritic\n",
        "          for v in vowels:\n",
        "            if v in sp:\n",
        "              vowel = v\n",
        "          if vowel == 'i' and pred > 0:\n",
        "            vowel = 'ı'\n",
        "          if pred == 0 and vowel == 'o':\n",
        "              w = w.replace('o', 'ɔ') \n",
        "          if pred:\n",
        "            # pred -1 - is the index of the diacritic in the diacritics list\n",
        "            rep = v + diacritics[pred-1]\n",
        "            tmp_w = sp.replace(v, rep) #changed part\n",
        "            w = w.replace(sp, tmp_w) #replace the part of the word with the part with diacritic\n",
        "           \n",
        "      tmp += w + ' ' \n",
        "  out = tmp.strip(' ')\n",
        "  out = out.replace('  ', ' ')\n",
        "  res_test.append(out)"
      ],
      "execution_count": null,
      "outputs": [
        {
          "output_type": "display_data",
          "data": {
            "application/vnd.jupyter.widget-view+json": {
              "model_id": "4ea7b91845364fc98306023bd01c660d",
              "version_minor": 0,
              "version_major": 2
            },
            "text/plain": [
              "HBox(children=(FloatProgress(value=0.0, max=1000.0), HTML(value='')))"
            ]
          },
          "metadata": {
            "tags": []
          }
        },
        {
          "output_type": "stream",
          "text": [
            "\n",
            "CPU times: user 22.6 s, sys: 268 ms, total: 22.9 s\n",
            "Wall time: 23 s\n"
          ],
          "name": "stdout"
        }
      ]
    },
    {
      "cell_type": "code",
      "metadata": {
        "id": "CIo6t7ZP1SZv"
      },
      "source": [
        "out_test = pd.DataFrame({'input': test.Protestant, 'pred': res_test})\n",
        "out_test.pred = out_test.pred.str.capitalize()\n",
        "out_test.pred = out_test.pred.apply(diac_a_start)\n",
        "test.Academy = test.Academy.apply(one_to_two)"
      ],
      "execution_count": null,
      "outputs": []
    },
    {
      "cell_type": "code",
      "metadata": {
        "colab": {
          "base_uri": "https://localhost:8080/",
          "height": 206
        },
        "id": "0ltz2-rh-L3W",
        "outputId": "73aa9fd1-e4bc-4a45-e543-7c672166ee90"
      },
      "source": [
        "out_test.head()"
      ],
      "execution_count": null,
      "outputs": [
        {
          "output_type": "execute_result",
          "data": {
            "text/html": [
              "<div>\n",
              "<style scoped>\n",
              "    .dataframe tbody tr th:only-of-type {\n",
              "        vertical-align: middle;\n",
              "    }\n",
              "\n",
              "    .dataframe tbody tr th {\n",
              "        vertical-align: top;\n",
              "    }\n",
              "\n",
              "    .dataframe thead th {\n",
              "        text-align: right;\n",
              "    }\n",
              "</style>\n",
              "<table border=\"1\" class=\"dataframe\">\n",
              "  <thead>\n",
              "    <tr style=\"text-align: right;\">\n",
              "      <th></th>\n",
              "      <th>input</th>\n",
              "      <th>pred</th>\n",
              "    </tr>\n",
              "  </thead>\n",
              "  <tbody>\n",
              "    <tr>\n",
              "      <th>0</th>\n",
              "      <td>Ndudu yem i kôli béé ni mut mpe.</td>\n",
              "      <td>Ndudu yɛ̂m i kôli ɓéé ni mût m̂pɛ.</td>\n",
              "    </tr>\n",
              "    <tr>\n",
              "      <th>1</th>\n",
              "      <td>Malép ma mpél podpot.</td>\n",
              "      <td>Màlep ma mpèl pɔdpɔt.</td>\n",
              "    </tr>\n",
              "    <tr>\n",
              "      <th>2</th>\n",
              "      <td>Béba mut i ñkéñha bape.</td>\n",
              "      <td>Ɓeba mût i ŋkéŋha ɓàpɛ.</td>\n",
              "    </tr>\n",
              "    <tr>\n",
              "      <th>3</th>\n",
              "      <td>Bitep bi yé we i jis.</td>\n",
              "      <td>Ɓitɛp bi yé wɛ i jis.</td>\n",
              "    </tr>\n",
              "    <tr>\n",
              "      <th>4</th>\n",
              "      <td>Hinjela hyem hi wom hi mput.</td>\n",
              "      <td>Hinjɛla hyɛ̂m hi wɔm hi mput.</td>\n",
              "    </tr>\n",
              "  </tbody>\n",
              "</table>\n",
              "</div>"
            ],
            "text/plain": [
              "                              input                                 pred\n",
              "0  Ndudu yem i kôli béé ni mut mpe.  Ndudu yɛ̂m i kôli ɓéé ni mût m̂pɛ.\n",
              "1             Malép ma mpél podpot.              Màlep ma mpèl pɔdpɔt.\n",
              "2           Béba mut i ñkéñha bape.            Ɓeba mût i ŋkéŋha ɓàpɛ.\n",
              "3             Bitep bi yé we i jis.                Ɓitɛp bi yé wɛ i jis.\n",
              "4      Hinjela hyem hi wom hi mput.        Hinjɛla hyɛ̂m hi wɔm hi mput."
            ]
          },
          "metadata": {
            "tags": []
          },
          "execution_count": 78
        }
      ]
    },
    {
      "cell_type": "code",
      "metadata": {
        "id": "EuO8-6oZ5w4X"
      },
      "source": [
        "test.to_csv('true.tsv',sep='\\t', index=False, header=False)\n",
        "out_test.to_csv('out_test.tsv',sep='\\t', index=False, header=False)"
      ],
      "execution_count": null,
      "outputs": []
    },
    {
      "cell_type": "code",
      "metadata": {
        "colab": {
          "base_uri": "https://localhost:8080/"
        },
        "id": "BoZ_U5XRa6c4",
        "outputId": "8d4f3982-42c1-48de-a50b-dc1151d9ba74"
      },
      "source": [
        "!python3 evaluate.py true.tsv out_test.tsv"
      ],
      "execution_count": null,
      "outputs": [
        {
          "output_type": "stream",
          "text": [
            "CER: 17.77620624256646\n",
            "WER: 50.88492484124065\n"
          ],
          "name": "stdout"
        }
      ]
    },
    {
      "cell_type": "markdown",
      "metadata": {
        "id": "DEB960Lc__3R"
      },
      "source": [
        "CER: 17.77620624256646\n",
        "\n",
        "WER: 50.88492484124065"
      ]
    },
    {
      "cell_type": "code",
      "metadata": {
        "id": "l4hDdjuczs7T"
      },
      "source": [
        "!python3 /content/baseline/convert.py /content/baseline/model.tsv < /content/test.tsv > output_test.tsv"
      ],
      "execution_count": null,
      "outputs": []
    },
    {
      "cell_type": "code",
      "metadata": {
        "colab": {
          "base_uri": "https://localhost:8080/"
        },
        "id": "SQxDQ6af0plB",
        "outputId": "9127615f-8aa5-49db-857f-e7e139b29f73"
      },
      "source": [
        "!python3 evaluate.py test.tsv output_test.tsv"
      ],
      "execution_count": null,
      "outputs": [
        {
          "output_type": "stream",
          "text": [
            "CER: 15.57748561509531\n",
            "WER: 41.06452100531048\n"
          ],
          "name": "stdout"
        }
      ]
    },
    {
      "cell_type": "markdown",
      "metadata": {
        "id": "JD1IJ9A3P2qO"
      },
      "source": [
        "# Check"
      ]
    },
    {
      "cell_type": "code",
      "metadata": {
        "id": "kvcDUfCRraBP"
      },
      "source": [
        "baseline = pd.read_csv('/content/baseline/output.tsv', sep='\\t', names = ['input', 'baseline'])"
      ],
      "execution_count": null,
      "outputs": []
    },
    {
      "cell_type": "code",
      "metadata": {
        "id": "CvJcDj7ur-RD"
      },
      "source": [
        "baseline['true'] = valid.Academy.apply(one_to_two)\n",
        "baseline['our_model'] = out_dev.pred"
      ],
      "execution_count": null,
      "outputs": []
    },
    {
      "cell_type": "code",
      "metadata": {
        "id": "87tGVXNSsN55"
      },
      "source": [
        "b = baseline.drop('input', axis=1)"
      ],
      "execution_count": null,
      "outputs": []
    },
    {
      "cell_type": "code",
      "metadata": {
        "colab": {
          "base_uri": "https://localhost:8080/",
          "height": 112
        },
        "id": "tYEIb7VmIDdQ",
        "outputId": "10b407e9-420d-4e15-89d8-e8a99e33a566"
      },
      "source": [
        "b.iloc[[17, 197]]"
      ],
      "execution_count": null,
      "outputs": [
        {
          "output_type": "execute_result",
          "data": {
            "text/html": [
              "<div>\n",
              "<style scoped>\n",
              "    .dataframe tbody tr th:only-of-type {\n",
              "        vertical-align: middle;\n",
              "    }\n",
              "\n",
              "    .dataframe tbody tr th {\n",
              "        vertical-align: top;\n",
              "    }\n",
              "\n",
              "    .dataframe thead th {\n",
              "        text-align: right;\n",
              "    }\n",
              "</style>\n",
              "<table border=\"1\" class=\"dataframe\">\n",
              "  <thead>\n",
              "    <tr style=\"text-align: right;\">\n",
              "      <th></th>\n",
              "      <th>baseline</th>\n",
              "      <th>true</th>\n",
              "      <th>our_model</th>\n",
              "    </tr>\n",
              "  </thead>\n",
              "  <tbody>\n",
              "    <tr>\n",
              "      <th>17</th>\n",
              "      <td>Nimblene mɛ̀ ŋkòò.</td>\n",
              "      <td>Nı̀mblɛnɛ mɛ̀ ŋ̀kòò.</td>\n",
              "      <td>Nimblɛnɛ mɛ̀ ŋkòò.</td>\n",
              "    </tr>\n",
              "    <tr>\n",
              "      <th>197</th>\n",
              "      <td>À ntidha mɛ̀ ntuba ŋgı̀ minsôa, dı̀ ntidha makɔ̀ndɔ̀ mes.</td>\n",
              "      <td>À ǹtı̂dha mɛ ǹtùbà ŋgı̀ mı̀nsòa, dı̀ ǹtı̂dha makɔ̀ndɔ̀ mes.</td>\n",
              "      <td>À ntidha mɛ ntuba ŋgi minsôa, di ntidha makɔndɔ mes.</td>\n",
              "    </tr>\n",
              "  </tbody>\n",
              "</table>\n",
              "</div>"
            ],
            "text/plain": [
              "                                                       baseline  ...                                              our_model\n",
              "17                                         Nimblene mɛ̀ ŋkòò.  ...                                   Nimblɛnɛ mɛ̀ ŋkòò.\n",
              "197  À ntidha mɛ̀ ntuba ŋgı̀ minsôa, dı̀ ntidha makɔ̀ndɔ̀ mes.  ...  À ntidha mɛ ntuba ŋgi minsôa, di ntidha makɔndɔ mes.\n",
              "\n",
              "[2 rows x 3 columns]"
            ]
          },
          "metadata": {
            "tags": []
          },
          "execution_count": 352
        }
      ]
    },
    {
      "cell_type": "code",
      "metadata": {
        "colab": {
          "base_uri": "https://localhost:8080/",
          "height": 143
        },
        "id": "kyZrG6FCgudW",
        "outputId": "f0bf813d-d05e-460c-eed0-e30b51d1aee3"
      },
      "source": [
        "baseline[baseline.input.str.contains('i lom')] "
      ],
      "execution_count": null,
      "outputs": [
        {
          "output_type": "execute_result",
          "data": {
            "text/html": [
              "<div>\n",
              "<style scoped>\n",
              "    .dataframe tbody tr th:only-of-type {\n",
              "        vertical-align: middle;\n",
              "    }\n",
              "\n",
              "    .dataframe tbody tr th {\n",
              "        vertical-align: top;\n",
              "    }\n",
              "\n",
              "    .dataframe thead th {\n",
              "        text-align: right;\n",
              "    }\n",
              "</style>\n",
              "<table border=\"1\" class=\"dataframe\">\n",
              "  <thead>\n",
              "    <tr style=\"text-align: right;\">\n",
              "      <th></th>\n",
              "      <th>input</th>\n",
              "      <th>baseline</th>\n",
              "      <th>true</th>\n",
              "      <th>our_model</th>\n",
              "    </tr>\n",
              "  </thead>\n",
              "  <tbody>\n",
              "    <tr>\n",
              "      <th>10</th>\n",
              "      <td>Kel i biyél me yani i lom.</td>\n",
              "      <td>Kɛl i biyél mɛ̀ yani i lɔ̂m.</td>\n",
              "      <td>Kɛl ı̀ biyēl mɛ yàni i lɔ̀m.</td>\n",
              "      <td>Kɛl i ɓiyél mɛ yani i lom.</td>\n",
              "    </tr>\n",
              "    <tr>\n",
              "      <th>703</th>\n",
              "      <td>Balop tjobi ba nha nsôñ i lom.</td>\n",
              "      <td>Balop cɔbı̄ ɓa ǹha ǹsôŋ i lɔ̂m.</td>\n",
              "      <td>Ɓàlɔp cɔ̀bi ɓa nha nsòŋ i lɔ̀m.</td>\n",
              "      <td>Ɓalɔp cobi ɓa nha nsôŋ i lom.</td>\n",
              "    </tr>\n",
              "    <tr>\n",
              "      <th>757</th>\n",
              "      <td>Nyemb i lép i mbés bôdaa ok i lom.</td>\n",
              "      <td>Nyɛ̌mb i lep i mbés ɓòdàa ɔ̄k i lɔ̂m.</td>\n",
              "      <td>Nyɛ̌mb ı̀ lep ı̀ mɓēs ɓodàà ɔk i lɔ̀m.</td>\n",
              "      <td>Nyɛ̌mb i lép i mɓés ɓôdàa ɔk i lom.</td>\n",
              "    </tr>\n",
              "  </tbody>\n",
              "</table>\n",
              "</div>"
            ],
            "text/plain": [
              "                                  input  ...                             our_model\n",
              "10           Kel i biyél me yani i lom.  ...            Kɛl i ɓiyél mɛ yani i lom.\n",
              "703      Balop tjobi ba nha nsôñ i lom.  ...         Ɓalɔp cobi ɓa nha nsôŋ i lom.\n",
              "757  Nyemb i lép i mbés bôdaa ok i lom.  ...  Nyɛ̌mb i lép i mɓés ɓôdàa ɔk i lom.\n",
              "\n",
              "[3 rows x 4 columns]"
            ]
          },
          "metadata": {
            "tags": []
          },
          "execution_count": 353
        }
      ]
    },
    {
      "cell_type": "code",
      "metadata": {
        "colab": {
          "base_uri": "https://localhost:8080/",
          "height": 332
        },
        "id": "Ygog18qm1Gob",
        "outputId": "1d9d5ab5-70f6-4208-b84a-4ba56b3aca04"
      },
      "source": [
        "baseline[baseline.true.str.contains('cɔ')] "
      ],
      "execution_count": null,
      "outputs": [
        {
          "output_type": "execute_result",
          "data": {
            "text/html": [
              "<div>\n",
              "<style scoped>\n",
              "    .dataframe tbody tr th:only-of-type {\n",
              "        vertical-align: middle;\n",
              "    }\n",
              "\n",
              "    .dataframe tbody tr th {\n",
              "        vertical-align: top;\n",
              "    }\n",
              "\n",
              "    .dataframe thead th {\n",
              "        text-align: right;\n",
              "    }\n",
              "</style>\n",
              "<table border=\"1\" class=\"dataframe\">\n",
              "  <thead>\n",
              "    <tr style=\"text-align: right;\">\n",
              "      <th></th>\n",
              "      <th>input</th>\n",
              "      <th>baseline</th>\n",
              "      <th>true</th>\n",
              "      <th>our_model</th>\n",
              "    </tr>\n",
              "  </thead>\n",
              "  <tbody>\n",
              "    <tr>\n",
              "      <th>109</th>\n",
              "      <td>E i nsayi= tjay tjéé di ñkudi tjodisô??</td>\n",
              "      <td>Ɛ i nsayi= cǎy cee dı̀ ŋkudı̄ tjodisô??</td>\n",
              "      <td>Ɛ i nsayı̂= cǎy cee di ŋkudı̄ cɔdisô??</td>\n",
              "      <td>Ɛ i nsayi= cay cee di ŋkudı̄ codisô??</td>\n",
              "    </tr>\n",
              "    <tr>\n",
              "      <th>155</th>\n",
              "      <td>Gwagwa le u somb tjobi ha nyaga béé.</td>\n",
              "      <td>Gwàgwà lɛ u sɔ̄mb cɔbı̄ ha nyàgà ɓee.</td>\n",
              "      <td>Gwàgwà lɛ ù sɔmb cɔbı̄ hà nyàgà ɓee.</td>\n",
              "      <td>Gwàgwà lɛ u sɔmb cobi ha nyaga ɓéé.</td>\n",
              "    </tr>\n",
              "    <tr>\n",
              "      <th>158</th>\n",
              "      <td>Hitjo hi mbodbe nye ni dinoo .</td>\n",
              "      <td>Hı̀cɔ hi mbodbe nyɛ nı̀ dinɔ̀ɔ .</td>\n",
              "      <td>Hı̀cɔ hi mɓɔ̄dɓɛ nyɛ nı̀ dı̀nɔ̀ɔ .</td>\n",
              "      <td>Hicɔ hi mɓɔ̄dɓɛ nyɛ ni dinɔ̀ɔ .</td>\n",
              "    </tr>\n",
              "    <tr>\n",
              "      <th>224</th>\n",
              "      <td>Nuu mañge a bitjogop ñgandak.</td>\n",
              "      <td>Nuu màŋgɛ à bitjogop ŋgandàk.</td>\n",
              "      <td>Nuu màŋgɛ à ɓicɔ̄gɔp ŋgandàk.</td>\n",
              "      <td>Nuu maŋgɛ à ɓicogɔ̂p ŋgandàk.</td>\n",
              "    </tr>\n",
              "    <tr>\n",
              "      <th>280</th>\n",
              "      <td>Nyañgô a nnéyés dibee tjodisô .</td>\n",
              "      <td>Nyàŋgo à nnéyés diɓɛ̀ɛ cɔdisô .</td>\n",
              "      <td>Nyàŋgo à ǹneyēs diɓɛ̀ɛ̀ cɔdisô .</td>\n",
              "      <td>Nyàŋgo à nnéyés diɓɛ̀ɛ̀ cɔdisô .</td>\n",
              "    </tr>\n",
              "    <tr>\n",
              "      <th>350</th>\n",
              "      <td>Ke tjo kabi.</td>\n",
              "      <td>Kɛ̀ cɔ kabi.</td>\n",
              "      <td>Kɛ̀ cɔ kàbi.</td>\n",
              "      <td>Kɛ̀ cɔ kabi.</td>\n",
              "    </tr>\n",
              "    <tr>\n",
              "      <th>458</th>\n",
              "      <td>Ba nligis hitjo i ndap Jop.</td>\n",
              "      <td>Ɓa nligis hı̀cɔ i ndap Jɔ̌p.</td>\n",
              "      <td>Ɓa nlı̄gis hicɔ i ndāp Jɔ̌p.</td>\n",
              "      <td>Ɓa nligis hicɔ i ndap jɔ̌p.</td>\n",
              "    </tr>\n",
              "    <tr>\n",
              "      <th>703</th>\n",
              "      <td>Balop tjobi ba nha nsôñ i lom.</td>\n",
              "      <td>Balop cɔbı̄ ɓa ǹha ǹsôŋ i lɔ̂m.</td>\n",
              "      <td>Ɓàlɔp cɔ̀bi ɓa nha nsòŋ i lɔ̀m.</td>\n",
              "      <td>Ɓalɔp cobi ɓa nha nsôŋ i lom.</td>\n",
              "    </tr>\n",
              "    <tr>\n",
              "      <th>872</th>\n",
              "      <td>Njéé i njena; basaa ba njena kii tjobi.</td>\n",
              "      <td>Njèe i njena; ɓasàa ɓa njɛ̄na kı̀i cɔ̀bi.</td>\n",
              "      <td>Njèe ı̀ njɛ̄na; ɓàsàa ɓa njɛ̄na kı̀i cɔ̀bi.</td>\n",
              "      <td>Njèe i njɛna; ɓasaa ɓa njɛ̄na kı̀i cobi.</td>\n",
              "    </tr>\n",
              "  </tbody>\n",
              "</table>\n",
              "</div>"
            ],
            "text/plain": [
              "                                       input  ...                                  our_model\n",
              "109  E i nsayi= tjay tjéé di ñkudi tjodisô??  ...      Ɛ i nsayi= cay cee di ŋkudı̄ codisô??\n",
              "155     Gwagwa le u somb tjobi ha nyaga béé.  ...      Gwàgwà lɛ u sɔmb cobi ha nyaga ɓéé.\n",
              "158           Hitjo hi mbodbe nye ni dinoo .  ...            Hicɔ hi mɓɔ̄dɓɛ nyɛ ni dinɔ̀ɔ .\n",
              "224            Nuu mañge a bitjogop ñgandak.  ...            Nuu maŋgɛ à ɓicogɔ̂p ŋgandàk.\n",
              "280          Nyañgô a nnéyés dibee tjodisô .  ...        Nyàŋgo à nnéyés diɓɛ̀ɛ̀ cɔdisô .\n",
              "350                             Ke tjo kabi.  ...                               Kɛ̀ cɔ kabi.\n",
              "458              Ba nligis hitjo i ndap Jop.  ...                Ɓa nligis hicɔ i ndap jɔ̌p.\n",
              "703           Balop tjobi ba nha nsôñ i lom.  ...              Ɓalɔp cobi ɓa nha nsôŋ i lom.\n",
              "872  Njéé i njena; basaa ba njena kii tjobi.  ...  Njèe i njɛna; ɓasaa ɓa njɛ̄na kı̀i cobi.\n",
              "\n",
              "[9 rows x 4 columns]"
            ]
          },
          "metadata": {
            "tags": []
          },
          "execution_count": 366
        }
      ]
    },
    {
      "cell_type": "code",
      "metadata": {
        "colab": {
          "base_uri": "https://localhost:8080/",
          "height": 81
        },
        "id": "ss5RRiItHEd1",
        "outputId": "2de224f7-d4eb-4371-c1d3-4b4da6531b37"
      },
      "source": [
        "baseline[baseline.true.str.contains('m̂ɓendha')] "
      ],
      "execution_count": null,
      "outputs": [
        {
          "output_type": "execute_result",
          "data": {
            "text/html": [
              "<div>\n",
              "<style scoped>\n",
              "    .dataframe tbody tr th:only-of-type {\n",
              "        vertical-align: middle;\n",
              "    }\n",
              "\n",
              "    .dataframe tbody tr th {\n",
              "        vertical-align: top;\n",
              "    }\n",
              "\n",
              "    .dataframe thead th {\n",
              "        text-align: right;\n",
              "    }\n",
              "</style>\n",
              "<table border=\"1\" class=\"dataframe\">\n",
              "  <thead>\n",
              "    <tr style=\"text-align: right;\">\n",
              "      <th></th>\n",
              "      <th>input</th>\n",
              "      <th>baseline</th>\n",
              "      <th>true</th>\n",
              "      <th>our_model</th>\n",
              "    </tr>\n",
              "  </thead>\n",
              "  <tbody>\n",
              "    <tr>\n",
              "      <th>993</th>\n",
              "      <td>U mbéndha me mapep.</td>\n",
              "      <td>Ù m̂ɓêndhā mɛ̀ mapɛp.</td>\n",
              "      <td>Ù m̂ɓendha mɛ màpɛp.</td>\n",
              "      <td>U m̂ɓêndhā mɛ màpɛp.</td>\n",
              "    </tr>\n",
              "  </tbody>\n",
              "</table>\n",
              "</div>"
            ],
            "text/plain": [
              "                   input  ...                our_model\n",
              "993  U mbéndha me mapep.  ...  U m̂ɓêndhā mɛ màpɛp.\n",
              "\n",
              "[1 rows x 4 columns]"
            ]
          },
          "metadata": {
            "tags": []
          },
          "execution_count": 356
        }
      ]
    },
    {
      "cell_type": "code",
      "metadata": {
        "id": "R8gC3a5e2UmF"
      },
      "source": [
        ""
      ],
      "execution_count": null,
      "outputs": []
    },
    {
      "cell_type": "code",
      "metadata": {
        "colab": {
          "base_uri": "https://localhost:8080/",
          "height": 206
        },
        "id": "zWXASkzn0ni8",
        "outputId": "1e9d91a3-9643-4eb7-b841-6403a9494b40"
      },
      "source": [
        "b[b.our_model.str.contains('co')]"
      ],
      "execution_count": null,
      "outputs": [
        {
          "output_type": "execute_result",
          "data": {
            "text/html": [
              "<div>\n",
              "<style scoped>\n",
              "    .dataframe tbody tr th:only-of-type {\n",
              "        vertical-align: middle;\n",
              "    }\n",
              "\n",
              "    .dataframe tbody tr th {\n",
              "        vertical-align: top;\n",
              "    }\n",
              "\n",
              "    .dataframe thead th {\n",
              "        text-align: right;\n",
              "    }\n",
              "</style>\n",
              "<table border=\"1\" class=\"dataframe\">\n",
              "  <thead>\n",
              "    <tr style=\"text-align: right;\">\n",
              "      <th></th>\n",
              "      <th>baseline</th>\n",
              "      <th>true</th>\n",
              "      <th>our_model</th>\n",
              "    </tr>\n",
              "  </thead>\n",
              "  <tbody>\n",
              "    <tr>\n",
              "      <th>109</th>\n",
              "      <td>Ɛ i nsayi= cǎy cee dı̀ ŋkudı̄ tjodisô??</td>\n",
              "      <td>Ɛ i nsayı̂= cǎy cee di ŋkudı̄ cɔdisô??</td>\n",
              "      <td>Ɛ i nsayi= cay cee di ŋkudı̄ codisô??</td>\n",
              "    </tr>\n",
              "    <tr>\n",
              "      <th>155</th>\n",
              "      <td>Gwàgwà lɛ u sɔ̄mb cɔbı̄ ha nyàgà ɓee.</td>\n",
              "      <td>Gwàgwà lɛ ù sɔmb cɔbı̄ hà nyàgà ɓee.</td>\n",
              "      <td>Gwàgwà lɛ u sɔmb cobi ha nyaga ɓéé.</td>\n",
              "    </tr>\n",
              "    <tr>\n",
              "      <th>224</th>\n",
              "      <td>Nuu màŋgɛ à bitjogop ŋgandàk.</td>\n",
              "      <td>Nuu màŋgɛ à ɓicɔ̄gɔp ŋgandàk.</td>\n",
              "      <td>Nuu maŋgɛ à ɓicogɔ̂p ŋgandàk.</td>\n",
              "    </tr>\n",
              "    <tr>\n",
              "      <th>703</th>\n",
              "      <td>Balop cɔbı̄ ɓa ǹha ǹsôŋ i lɔ̂m.</td>\n",
              "      <td>Ɓàlɔp cɔ̀bi ɓa nha nsòŋ i lɔ̀m.</td>\n",
              "      <td>Ɓalɔp cobi ɓa nha nsôŋ i lom.</td>\n",
              "    </tr>\n",
              "    <tr>\n",
              "      <th>872</th>\n",
              "      <td>Njèe i njena; ɓasàa ɓa njɛ̄na kı̀i cɔ̀bi.</td>\n",
              "      <td>Njèe ı̀ njɛ̄na; ɓàsàa ɓa njɛ̄na kı̀i cɔ̀bi.</td>\n",
              "      <td>Njèe i njɛna; ɓasaa ɓa njɛ̄na kı̀i cobi.</td>\n",
              "    </tr>\n",
              "  </tbody>\n",
              "</table>\n",
              "</div>"
            ],
            "text/plain": [
              "                                        baseline  ...                                  our_model\n",
              "109     Ɛ i nsayi= cǎy cee dı̀ ŋkudı̄ tjodisô??  ...      Ɛ i nsayi= cay cee di ŋkudı̄ codisô??\n",
              "155    Gwàgwà lɛ u sɔ̄mb cɔbı̄ ha nyàgà ɓee.  ...      Gwàgwà lɛ u sɔmb cobi ha nyaga ɓéé.\n",
              "224             Nuu màŋgɛ à bitjogop ŋgandàk.  ...            Nuu maŋgɛ à ɓicogɔ̂p ŋgandàk.\n",
              "703           Balop cɔbı̄ ɓa ǹha ǹsôŋ i lɔ̂m.  ...              Ɓalɔp cobi ɓa nha nsôŋ i lom.\n",
              "872  Njèe i njena; ɓasàa ɓa njɛ̄na kı̀i cɔ̀bi.  ...  Njèe i njɛna; ɓasaa ɓa njɛ̄na kı̀i cobi.\n",
              "\n",
              "[5 rows x 3 columns]"
            ]
          },
          "metadata": {
            "tags": []
          },
          "execution_count": 367
        }
      ]
    },
    {
      "cell_type": "code",
      "metadata": {
        "colab": {
          "base_uri": "https://localhost:8080/",
          "height": 81
        },
        "id": "8T7qDQy3-6ks",
        "outputId": "95978419-bf5e-4559-836d-1f0574645590"
      },
      "source": [
        "b[b.true.str.contains('ɔ̄dɓ')]"
      ],
      "execution_count": null,
      "outputs": [
        {
          "output_type": "execute_result",
          "data": {
            "text/html": [
              "<div>\n",
              "<style scoped>\n",
              "    .dataframe tbody tr th:only-of-type {\n",
              "        vertical-align: middle;\n",
              "    }\n",
              "\n",
              "    .dataframe tbody tr th {\n",
              "        vertical-align: top;\n",
              "    }\n",
              "\n",
              "    .dataframe thead th {\n",
              "        text-align: right;\n",
              "    }\n",
              "</style>\n",
              "<table border=\"1\" class=\"dataframe\">\n",
              "  <thead>\n",
              "    <tr style=\"text-align: right;\">\n",
              "      <th></th>\n",
              "      <th>baseline</th>\n",
              "      <th>true</th>\n",
              "      <th>our_model</th>\n",
              "    </tr>\n",
              "  </thead>\n",
              "  <tbody>\n",
              "    <tr>\n",
              "      <th>158</th>\n",
              "      <td>Hı̀cɔ hi mbodbe nyɛ nı̀ dinɔ̀ɔ .</td>\n",
              "      <td>Hı̀cɔ hi mɓɔ̄dɓɛ nyɛ nı̀ dı̀nɔ̀ɔ .</td>\n",
              "      <td>Hicɔ hi mɓodɓɛ nyɛ ni dinɔ̀ɔ .</td>\n",
              "    </tr>\n",
              "  </tbody>\n",
              "</table>\n",
              "</div>"
            ],
            "text/plain": [
              "                             baseline  ...                       our_model\n",
              "158  Hı̀cɔ hi mbodbe nyɛ nı̀ dinɔ̀ɔ .  ...  Hicɔ hi mɓodɓɛ nyɛ ni dinɔ̀ɔ .\n",
              "\n",
              "[1 rows x 3 columns]"
            ]
          },
          "metadata": {
            "tags": []
          },
          "execution_count": 298
        }
      ]
    },
    {
      "cell_type": "code",
      "metadata": {
        "id": "iHbu8WjZwzwF"
      },
      "source": [
        "def word_error(true, x):\n",
        "  l_t = true.split()\n",
        "  l_x = x.split()\n",
        "  er = 0\n",
        "  if len(l_x) < len(l_t):\n",
        "    er += len(l_t) - len(l_x)\n",
        "    for i in range(len(l_x)):\n",
        "      if l_t[i] != l_x[i]:\n",
        "        er += 1\n",
        "  else:\n",
        "     for i in range(len(l_t)):\n",
        "      if l_t[i] != l_x[i]:\n",
        "        er += 1\n",
        "  return er"
      ],
      "execution_count": null,
      "outputs": []
    },
    {
      "cell_type": "code",
      "metadata": {
        "id": "o4oUurgPPwVA"
      },
      "source": [
        "c = baseline.drop('baseline', axis=1)\n",
        "\n",
        "c['our_model_word_error'] = c.apply(lambda x: word_error(x['true'], x['our_model']), axis=1)\n",
        "c.to_excel('report.xlsx')"
      ],
      "execution_count": null,
      "outputs": []
    },
    {
      "cell_type": "code",
      "metadata": {
        "id": "DPiaCvHpxehX"
      },
      "source": [
        "b['our_model_word_error'] = b.apply(lambda x: word_error(x['true'], x['our_model']), axis=1)\n",
        "b['base_model_word_error'] = b.apply(lambda x: word_error(x['true'], x['baseline']), axis=1)"
      ],
      "execution_count": null,
      "outputs": []
    },
    {
      "cell_type": "code",
      "metadata": {
        "colab": {
          "base_uri": "https://localhost:8080/",
          "height": 441
        },
        "id": "07hilmFvxo3z",
        "outputId": "9065ff1d-d7a3-4aff-cb53-5d53989aa264"
      },
      "source": [
        "b[b['our_model_word_error'] <= b['base_model_word_error']] "
      ],
      "execution_count": null,
      "outputs": [
        {
          "output_type": "execute_result",
          "data": {
            "text/html": [
              "<div>\n",
              "<style scoped>\n",
              "    .dataframe tbody tr th:only-of-type {\n",
              "        vertical-align: middle;\n",
              "    }\n",
              "\n",
              "    .dataframe tbody tr th {\n",
              "        vertical-align: top;\n",
              "    }\n",
              "\n",
              "    .dataframe thead th {\n",
              "        text-align: right;\n",
              "    }\n",
              "</style>\n",
              "<table border=\"1\" class=\"dataframe\">\n",
              "  <thead>\n",
              "    <tr style=\"text-align: right;\">\n",
              "      <th></th>\n",
              "      <th>baseline</th>\n",
              "      <th>true</th>\n",
              "      <th>our_model</th>\n",
              "      <th>our_model_word_error</th>\n",
              "      <th>base_model_word_error</th>\n",
              "    </tr>\n",
              "  </thead>\n",
              "  <tbody>\n",
              "    <tr>\n",
              "      <th>1</th>\n",
              "      <td>À ntuhul mɛ̀ kēt (i) nugā.</td>\n",
              "      <td>À ǹtuhul mɛ kēt (i) nugā.</td>\n",
              "      <td>À ntuhul mɛ kēt (i) nuga.</td>\n",
              "      <td>2</td>\n",
              "      <td>2</td>\n",
              "    </tr>\n",
              "    <tr>\n",
              "      <th>2</th>\n",
              "      <td>Ñkum u ŋ̀kôs ndoñ, ŋ̀kùm u ǹloōs ndɔŋ.</td>\n",
              "      <td>Ŋ̀kùm u ŋkòs ndɔŋ, ŋ̀kùm u nlòos ndɔŋ.</td>\n",
              "      <td>Ŋ̀kùm u ŋkôs ndɔŋ, ŋ̀kùm u nlòòs ndɔŋ.</td>\n",
              "      <td>2</td>\n",
              "      <td>4</td>\n",
              "    </tr>\n",
              "    <tr>\n",
              "      <th>3</th>\n",
              "      <td>Maŋ mùt unu u nlɔ̀ u mboda nyɔ̀nɔ wotama.</td>\n",
              "      <td>Maŋ mût unu u nlɔ ū mɓɔ̄da nyɔnɔ̄ wɔtāma.</td>\n",
              "      <td>Maŋ mût unu u nlɔ u mɓoda nyɔnɔ wotama.</td>\n",
              "      <td>4</td>\n",
              "      <td>6</td>\n",
              "    </tr>\n",
              "    <tr>\n",
              "      <th>4</th>\n",
              "      <td>Ɓɔ̀ŋgɛ ɓa ŋkɛ̀ jɔ̀gɔ̂p ɓa kahal ndugi kòt mañgudga.</td>\n",
              "      <td>Ɓɔ̀ŋgɛ ɓa ŋkɛ̂ jɔ̀gɔ̂p ɓa kahal ndugi kòt maŋgudga.</td>\n",
              "      <td>Ɓɔ̀ŋgɛ ɓa ŋkɛ jɔ̀gɔ̂p ɓa kahal ndugi kòt maŋgudgà.</td>\n",
              "      <td>2</td>\n",
              "      <td>2</td>\n",
              "    </tr>\n",
              "    <tr>\n",
              "      <th>5</th>\n",
              "      <td>Bihégél bi ndap u ǹlama yɔŋ yı̄hɛ lɛ jàm li sɛt ɓâŋ.</td>\n",
              "      <td>Bihègel bi ndap ù nlama yɔ̂ŋ yihɛ lɛ jàm li sɛ̀t ɓâŋ.</td>\n",
              "      <td>Ɓihégél bi ndap u nlama yoŋ yihɛ lɛ jàm li sɛt ɓâŋ.</td>\n",
              "      <td>4</td>\n",
              "      <td>6</td>\n",
              "    </tr>\n",
              "    <tr>\n",
              "      <th>...</th>\n",
              "      <td>...</td>\n",
              "      <td>...</td>\n",
              "      <td>...</td>\n",
              "      <td>...</td>\n",
              "      <td>...</td>\n",
              "    </tr>\n",
              "    <tr>\n",
              "      <th>993</th>\n",
              "      <td>Ù m̂ɓêndhā mɛ̀ mapɛp.</td>\n",
              "      <td>Ù m̂ɓendha mɛ màpɛp.</td>\n",
              "      <td>U m̂ɓêndhā mɛ mapɛp.</td>\n",
              "      <td>3</td>\n",
              "      <td>3</td>\n",
              "    </tr>\n",
              "    <tr>\n",
              "      <th>996</th>\n",
              "      <td>Maŋ mùt unu u ñeñ màen hi kôkôwa.</td>\n",
              "      <td>Maŋ mût unu u ŋɛ̀ŋ maen hi kokōwa.</td>\n",
              "      <td>Maŋ mût unu u ŋɛŋ màen hi kôkôwà.</td>\n",
              "      <td>3</td>\n",
              "      <td>4</td>\n",
              "    </tr>\n",
              "    <tr>\n",
              "      <th>997</th>\n",
              "      <td>Limbee li mût.</td>\n",
              "      <td>Lı̀mbɛ̀ɛ̀ li mût.</td>\n",
              "      <td>Lı̀mbɛɛ li mût.</td>\n",
              "      <td>1</td>\n",
              "      <td>1</td>\n",
              "    </tr>\n",
              "    <tr>\n",
              "      <th>998</th>\n",
              "      <td>Ndi wɛ̂, ŋgèdà u nsôga jɛ, hɔ̄ɔ ŋɔ wɔŋ mòo, u sɔ̀ɔ ki su woñ...(Mt 6,17).</td>\n",
              "      <td>Ndi wɛ̀, ŋgèdà ù nsōga jɛ, hɔɔ ŋ̀ɔ wɔŋ mòo, u sɔɔ̄ kı̀ su wɔŋ...(Mt 6,17).</td>\n",
              "      <td>Ndi wɛ, ŋgèdà u nsôga jɛ, hɔɔ ŋɔ woŋ mòo, u sɔ̀ɔ ki su woŋ...(mt 6,17).</td>\n",
              "      <td>8</td>\n",
              "      <td>8</td>\n",
              "    </tr>\n",
              "    <tr>\n",
              "      <th>999</th>\n",
              "      <td>Ɓɛɛ i nhuna.</td>\n",
              "      <td>Ɓɛɛ i nhunà.</td>\n",
              "      <td>Ɓɛɛ i nhuna.</td>\n",
              "      <td>1</td>\n",
              "      <td>1</td>\n",
              "    </tr>\n",
              "  </tbody>\n",
              "</table>\n",
              "<p>534 rows × 5 columns</p>\n",
              "</div>"
            ],
            "text/plain": [
              "                                                                         baseline  ... base_model_word_error\n",
              "1                                                   À ntuhul mɛ̀ kēt (i) nugā.  ...                     2\n",
              "2                                      Ñkum u ŋ̀kôs ndoñ, ŋ̀kùm u ǹloōs ndɔŋ.  ...                     4\n",
              "3                                      Maŋ mùt unu u nlɔ̀ u mboda nyɔ̀nɔ wotama.  ...                     6\n",
              "4                            Ɓɔ̀ŋgɛ ɓa ŋkɛ̀ jɔ̀gɔ̂p ɓa kahal ndugi kòt mañgudga.  ...                     2\n",
              "5                         Bihégél bi ndap u ǹlama yɔŋ yı̄hɛ lɛ jàm li sɛt ɓâŋ.  ...                     6\n",
              "..                                                                            ...  ...                   ...\n",
              "993                                                      Ù m̂ɓêndhā mɛ̀ mapɛp.  ...                     3\n",
              "996                                           Maŋ mùt unu u ñeñ màen hi kôkôwa.  ...                     4\n",
              "997                                                               Limbee li mût.  ...                     1\n",
              "998  Ndi wɛ̂, ŋgèdà u nsôga jɛ, hɔ̄ɔ ŋɔ wɔŋ mòo, u sɔ̀ɔ ki su woñ...(Mt 6,17).  ...                     8\n",
              "999                                                                  Ɓɛɛ i nhuna.  ...                     1\n",
              "\n",
              "[534 rows x 5 columns]"
            ]
          },
          "metadata": {
            "tags": []
          },
          "execution_count": 81
        }
      ]
    },
    {
      "cell_type": "code",
      "metadata": {
        "id": "lcCOG6Dpmnk8"
      },
      "source": [
        "b.to_excel('report.xlsx')"
      ],
      "execution_count": null,
      "outputs": []
    },
    {
      "cell_type": "code",
      "metadata": {
        "colab": {
          "base_uri": "https://localhost:8080/",
          "height": 206
        },
        "id": "LAu59fOFxhcg",
        "outputId": "cc084fbb-3822-4a5d-cf66-62b773a6867b"
      },
      "source": [
        "b.head()"
      ],
      "execution_count": null,
      "outputs": [
        {
          "output_type": "execute_result",
          "data": {
            "text/html": [
              "<div>\n",
              "<style scoped>\n",
              "    .dataframe tbody tr th:only-of-type {\n",
              "        vertical-align: middle;\n",
              "    }\n",
              "\n",
              "    .dataframe tbody tr th {\n",
              "        vertical-align: top;\n",
              "    }\n",
              "\n",
              "    .dataframe thead th {\n",
              "        text-align: right;\n",
              "    }\n",
              "</style>\n",
              "<table border=\"1\" class=\"dataframe\">\n",
              "  <thead>\n",
              "    <tr style=\"text-align: right;\">\n",
              "      <th></th>\n",
              "      <th>baseline</th>\n",
              "      <th>true</th>\n",
              "      <th>our_model</th>\n",
              "      <th>our_model_word_error</th>\n",
              "      <th>base_model_word_error</th>\n",
              "    </tr>\n",
              "  </thead>\n",
              "  <tbody>\n",
              "    <tr>\n",
              "      <th>0</th>\n",
              "      <td>Màlêt à mɓōŋɛ hyembi.</td>\n",
              "      <td>Màlêt à m̂ɓoŋɛ hyembi.</td>\n",
              "      <td>Màlêt a mɓōŋɛ hyémbi.</td>\n",
              "      <td>3</td>\n",
              "      <td>1</td>\n",
              "    </tr>\n",
              "    <tr>\n",
              "      <th>1</th>\n",
              "      <td>À ntuhul mɛ̀ kēt (i) nugā.</td>\n",
              "      <td>À ǹtuhul mɛ kēt (i) nugā.</td>\n",
              "      <td>À ntuhul mɛ kēt (i) nuga.</td>\n",
              "      <td>2</td>\n",
              "      <td>2</td>\n",
              "    </tr>\n",
              "    <tr>\n",
              "      <th>2</th>\n",
              "      <td>Ñkum u ŋ̀kôs ndoñ, ŋ̀kùm u ǹloōs ndɔŋ.</td>\n",
              "      <td>Ŋ̀kùm u ŋkòs ndɔŋ, ŋ̀kùm u nlòos ndɔŋ.</td>\n",
              "      <td>Ŋkum u ŋkôs ndɔŋ, ŋ̀kùm u nlôôs ndɔŋ.</td>\n",
              "      <td>3</td>\n",
              "      <td>4</td>\n",
              "    </tr>\n",
              "    <tr>\n",
              "      <th>3</th>\n",
              "      <td>Maŋ mùt unu u nlɔ̀ u mboda nyɔ̀nɔ wotama.</td>\n",
              "      <td>Maŋ mût unu u nlɔ ū mɓɔ̄da nyɔnɔ̄ wɔtāma.</td>\n",
              "      <td>Maŋ mut unu u nlɔ u mɓoda nyɔnɔ wotama.</td>\n",
              "      <td>5</td>\n",
              "      <td>6</td>\n",
              "    </tr>\n",
              "    <tr>\n",
              "      <th>4</th>\n",
              "      <td>Ɓɔ̀ŋgɛ ɓa ŋkɛ̀ jɔ̀gɔ̂p ɓa kahal ndugi kòt mañgudga.</td>\n",
              "      <td>Ɓɔ̀ŋgɛ ɓa ŋkɛ̂ jɔ̀gɔ̂p ɓa kahal ndugi kòt maŋgudga.</td>\n",
              "      <td>Ɓɔ̀ŋgɛ ɓa ŋkɛ jɔ̀gɔ̂p ɓa kahal ndugi kôt maŋgudgà.</td>\n",
              "      <td>3</td>\n",
              "      <td>2</td>\n",
              "    </tr>\n",
              "  </tbody>\n",
              "</table>\n",
              "</div>"
            ],
            "text/plain": [
              "                                               baseline  ... base_model_word_error\n",
              "0                             Màlêt à mɓōŋɛ hyembi.  ...                     1\n",
              "1                         À ntuhul mɛ̀ kēt (i) nugā.  ...                     2\n",
              "2            Ñkum u ŋ̀kôs ndoñ, ŋ̀kùm u ǹloōs ndɔŋ.  ...                     4\n",
              "3            Maŋ mùt unu u nlɔ̀ u mboda nyɔ̀nɔ wotama.  ...                     6\n",
              "4  Ɓɔ̀ŋgɛ ɓa ŋkɛ̀ jɔ̀gɔ̂p ɓa kahal ndugi kòt mañgudga.  ...                     2\n",
              "\n",
              "[5 rows x 5 columns]"
            ]
          },
          "metadata": {
            "tags": []
          },
          "execution_count": 214
        }
      ]
    },
    {
      "cell_type": "markdown",
      "metadata": {
        "id": "Zyjyx2aDxlfy"
      },
      "source": [
        "# Ensemble"
      ]
    },
    {
      "cell_type": "code",
      "metadata": {
        "colab": {
          "resources": {
            "http://localhost:8080/nbextensions/google.colab/files.js": {
              "data": "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",
              "ok": true,
              "headers": [
                [
                  "content-type",
                  "application/javascript"
                ]
              ],
              "status": 200,
              "status_text": "OK"
            }
          },
          "base_uri": "https://localhost:8080/",
          "height": 112
        },
        "id": "w6U9x-1cxo4D",
        "outputId": "cd6ef75f-2516-4715-9a8c-b91e3d483612"
      },
      "source": [
        "from google.colab import files\n",
        "uploaded = files.upload()"
      ],
      "execution_count": null,
      "outputs": [
        {
          "output_type": "display_data",
          "data": {
            "text/html": [
              "\n",
              "     <input type=\"file\" id=\"files-0e4c0e4f-2568-443d-99f1-2eb00f06bc20\" name=\"files[]\" multiple disabled\n",
              "        style=\"border:none\" />\n",
              "     <output id=\"result-0e4c0e4f-2568-443d-99f1-2eb00f06bc20\">\n",
              "      Upload widget is only available when the cell has been executed in the\n",
              "      current browser session. Please rerun this cell to enable.\n",
              "      </output>\n",
              "      <script src=\"/nbextensions/google.colab/files.js\"></script> "
            ],
            "text/plain": [
              "<IPython.core.display.HTML object>"
            ]
          },
          "metadata": {
            "tags": []
          }
        },
        {
          "output_type": "stream",
          "text": [
            "Saving mbart_5.tsv to mbart_5.tsv\n",
            "Saving mbart_5_test.tsv to mbart_5_test.tsv\n"
          ],
          "name": "stdout"
        }
      ]
    },
    {
      "cell_type": "markdown",
      "metadata": {
        "id": "oH901uKaxy4N"
      },
      "source": [
        "## Dev"
      ]
    },
    {
      "cell_type": "code",
      "metadata": {
        "id": "F6ofEb2t1XVB"
      },
      "source": [
        "out1 = pd.read_csv('/content/baseline/output.tsv', sep ='\\t', names = ['Protestant', 'Academy'])\n",
        "out2 = pd.read_csv('out.tsv', sep ='\\t', names = ['Protestant', 'Academy'])\n",
        "out3 = pd.read_csv('mbart_5.tsv', sep ='\\t', names = ['Protestant', 'Academy'])"
      ],
      "execution_count": null,
      "outputs": []
    },
    {
      "cell_type": "code",
      "metadata": {
        "id": "bSQnnJzmDyTi"
      },
      "source": [
        "def one_to_two(x):\n",
        "  double_e = 'e'+'́'\n",
        "  double_o = 'o' + '̂'\n",
        "  double_o_dots = 'o' + '̈'\n",
        "  new_w = x.replace('é', double_e).replace('ô', double_o).replace('ö', double_o_dots)\n",
        "  return new_w"
      ],
      "execution_count": null,
      "outputs": []
    },
    {
      "cell_type": "code",
      "metadata": {
        "id": "_3HPM2SwDzuU"
      },
      "source": [
        "out1.Academy = out1.Academy.apply(one_to_two)\n",
        "out2.Academy = out2.Academy.apply(one_to_two)\n",
        "out3.Academy = out3.Academy.apply(one_to_two)"
      ],
      "execution_count": null,
      "outputs": []
    },
    {
      "cell_type": "code",
      "metadata": {
        "id": "6FeBJdrQ1yJx"
      },
      "source": [
        "def spl(x):\n",
        "  return x.split()"
      ],
      "execution_count": null,
      "outputs": []
    },
    {
      "cell_type": "code",
      "metadata": {
        "id": "gfmFoEZa12Dn"
      },
      "source": [
        "out1.Academy = out1.Academy.apply(spl)\n",
        "out2.Academy = out2.Academy.apply(spl)\n",
        "out3.Academy = out3.Academy.apply(spl)"
      ],
      "execution_count": null,
      "outputs": []
    },
    {
      "cell_type": "code",
      "metadata": {
        "id": "WYsv2KxGnUMA"
      },
      "source": [
        "def zoo(out1, *args):\n",
        "  res = []\n",
        "  x = [arg for arg in args if len(arg)>=len(out1)]\n",
        "  for w in range(len(out1)):\n",
        "    ww = []\n",
        "    ww.append(out1[w])\n",
        "    for arg in args:\n",
        "      if arg in x:\n",
        "        ww.append(arg[w])\n",
        "    tmp = c(*ww)\n",
        "    res.append(tmp)\n",
        "  return ' '.join(res)"
      ],
      "execution_count": null,
      "outputs": []
    },
    {
      "cell_type": "code",
      "metadata": {
        "id": "enOtazwbz3Co"
      },
      "source": [
        "from collections import Counter\n",
        "def c(*args):\n",
        "  words = []\n",
        "  for arg in args:\n",
        "    words.append(arg)\n",
        "  cnt = Counter(words)\n",
        "  return [x[0] for x in cnt.most_common()][0]"
      ],
      "execution_count": null,
      "outputs": []
    },
    {
      "cell_type": "code",
      "metadata": {
        "id": "GfMb2pNY2Jut"
      },
      "source": [
        "a = []\n",
        "\n",
        "for i in range(1000):\n",
        "  tmp = zoo(out1.Academy.to_list()[i], out2.Academy.to_list()[i], out3.Academy.to_list()[i])\n",
        "  a.append(tmp)"
      ],
      "execution_count": null,
      "outputs": []
    },
    {
      "cell_type": "code",
      "metadata": {
        "id": "qdhMuCYbOSrn"
      },
      "source": [
        "df1 =  pd.DataFrame({'input': valid['Protestant'], 'pred':a})\n",
        "df1.to_csv('out_ans.tsv',sep='\\t', index=False, header=False)"
      ],
      "execution_count": null,
      "outputs": []
    },
    {
      "cell_type": "code",
      "metadata": {
        "id": "eXWVUQG-Rc_g"
      },
      "source": [
        "test = test.drop(test[test.Protestant == '?'].index)"
      ],
      "execution_count": null,
      "outputs": []
    },
    {
      "cell_type": "code",
      "metadata": {
        "id": "HIvvMQmDE9u3"
      },
      "source": [
        "valid.Academy = valid.Academy.apply(one_to_two)\n",
        "valid.to_csv('valid.tsv',sep='\\t', index=False, header=False)"
      ],
      "execution_count": null,
      "outputs": []
    },
    {
      "cell_type": "code",
      "metadata": {
        "colab": {
          "base_uri": "https://localhost:8080/"
        },
        "id": "mFhL1lyQyBRN",
        "outputId": "0f1de9e3-026e-4e4d-fd9c-0669b3d6ff79"
      },
      "source": [
        "!python3 evaluate.py valid.tsv out_ans.tsv"
      ],
      "execution_count": null,
      "outputs": [
        {
          "output_type": "stream",
          "text": [
            "CER: 15.07237966276558\n",
            "WER: 39.15383098251907\n"
          ],
          "name": "stdout"
        }
      ]
    },
    {
      "cell_type": "markdown",
      "metadata": {
        "id": "kG3R9Ou7x06P"
      },
      "source": [
        "## Test"
      ]
    },
    {
      "cell_type": "code",
      "metadata": {
        "id": "e6AqDqm2x5Zw"
      },
      "source": [
        "out1_test = pd.read_csv('output_test.tsv', sep ='\\t', names = ['Protestant', 'Academy'])\n",
        "out2_test = pd.read_csv('out_test.tsv', sep ='\\t', names = ['Protestant', 'Academy'])\n",
        "out3_test = pd.read_csv('mbart_5_test.tsv', sep ='\\t', names = ['Protestant', 'Academy'])"
      ],
      "execution_count": null,
      "outputs": []
    },
    {
      "cell_type": "code",
      "metadata": {
        "id": "0ocdCh6Ox5Zx"
      },
      "source": [
        "out1_test.Academy = out1_test.Academy.apply(one_to_two)\n",
        "out2_test.Academy = out2_test.Academy.apply(one_to_two)\n",
        "out3_test.Academy = out3_test.Academy.apply(one_to_two)"
      ],
      "execution_count": null,
      "outputs": []
    },
    {
      "cell_type": "code",
      "metadata": {
        "id": "gxxAYCvux5Zx"
      },
      "source": [
        "out1_test.Academy = out1_test.Academy.apply(spl)\n",
        "out2_test.Academy = out2_test.Academy.apply(spl)\n",
        "out3_test.Academy = out3_test.Academy.apply(spl)"
      ],
      "execution_count": null,
      "outputs": []
    },
    {
      "cell_type": "code",
      "metadata": {
        "id": "aIjW2X0tx5Zx"
      },
      "source": [
        "a = []\n",
        "\n",
        "for i in range(1000):\n",
        "  tmp = zoo(out1_test.Academy.to_list()[i], out2_test.Academy.to_list()[i], out3_test.Academy.to_list()[i])\n",
        "  a.append(tmp)"
      ],
      "execution_count": null,
      "outputs": []
    },
    {
      "cell_type": "code",
      "metadata": {
        "id": "JptijKzVx5Zy"
      },
      "source": [
        "df1_test =  pd.DataFrame({'input': test['Protestant'], 'pred':a})\n",
        "df1_test.to_csv('out_ans_test.tsv',sep='\\t', index=False, header=False)"
      ],
      "execution_count": null,
      "outputs": []
    },
    {
      "cell_type": "code",
      "metadata": {
        "id": "KIzhfnGmx5Zy"
      },
      "source": [
        "test.Academy = test.Academy.apply(one_to_two)\n",
        "test.to_csv('test.tsv',sep='\\t', index=False, header=False)"
      ],
      "execution_count": null,
      "outputs": []
    },
    {
      "cell_type": "code",
      "metadata": {
        "colab": {
          "base_uri": "https://localhost:8080/"
        },
        "id": "BfiM6tpix5Zy",
        "outputId": "4716fa57-5088-4beb-b536-257fd4d3edf1"
      },
      "source": [
        "!python3 evaluate.py test.tsv out_ans_test.tsv"
      ],
      "execution_count": null,
      "outputs": [
        {
          "output_type": "stream",
          "text": [
            "CER: 14.153460413385194\n",
            "WER: 39.51744127948075\n"
          ],
          "name": "stdout"
        }
      ]
    }
  ]
}