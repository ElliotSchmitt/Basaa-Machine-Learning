{
  "nbformat": 4,
  "nbformat_minor": 0,
  "metadata": {
    "colab": {
      "name": "Basaa_playground.ipynb",
      "provenance": [],
      "collapsed_sections": [],
      "include_colab_link": true
    },
    "kernelspec": {
      "name": "python3",
      "display_name": "Python 3"
    }
  },
  "cells": [
    {
      "cell_type": "markdown",
      "metadata": {
        "id": "view-in-github",
        "colab_type": "text"
      },
      "source": [
        "<a href=\"https://colab.research.google.com/github/JacobSchmitt/Basaa-Machine-Learning/blob/main/Basaa_playground.ipynb\" target=\"_parent\"><img src=\"https://colab.research.google.com/assets/colab-badge.svg\" alt=\"Open In Colab\"/></a>"
      ]
    },
    {
      "cell_type": "markdown",
      "metadata": {
        "id": "UFDBEHhq0tgV"
      },
      "source": [
        "# Download Files"
      ]
    },
    {
      "cell_type": "code",
      "metadata": {
        "id": "yutGFZlkuWu9"
      },
      "source": [
        "%%capture\r\n",
        "!wget -P '/content/baseline' https://raw.githubusercontent.com/JacobSchmitt/Basaa-Machine-Learning/main/basaa/baseline/train.py\r\n",
        "!wget -P '/content/baseline' https://raw.githubusercontent.com/JacobSchmitt/Basaa-Machine-Learning/main/basaa/baseline/convert.py\r\n",
        "!wget -P '/content/baseline' https://raw.githubusercontent.com/JacobSchmitt/Basaa-Machine-Learning/main/basaa/baseline/Makefile\r\n",
        "!wget https://raw.githubusercontent.com/JacobSchmitt/Basaa-Machine-Learning/main/basaa/evaluate.py\r\n",
        "!wget -P '/content/data' https://raw.githubusercontent.com/JacobSchmitt/Basaa-Machine-Learning/main/basaa/data/train.tsv \r\n",
        "!wget -P '/content/data' https://raw.githubusercontent.com/JacobSchmitt/Basaa-Machine-Learning/main/basaa/data/dev.tsv "
      ],
      "execution_count": 1,
      "outputs": []
    },
    {
      "cell_type": "markdown",
      "metadata": {
        "id": "DY_RaDUO0qq4"
      },
      "source": [
        "# Run Baseline"
      ]
    },
    {
      "cell_type": "code",
      "metadata": {
        "colab": {
          "base_uri": "https://localhost:8080/"
        },
        "id": "c-E0BCatzBcw",
        "outputId": "480550a3-5d8f-4051-c6d1-e0163dd757a7"
      },
      "source": [
        "%%bash\r\n",
        "cd baseline\r\n",
        "make"
      ],
      "execution_count": null,
      "outputs": [
        {
          "output_type": "stream",
          "text": [
            "python3 train.py ../data/train.tsv model.tsv\n",
            "Stored 14596 words\n",
            "python3 convert.py model.tsv < ../data/dev.tsv > output.tsv\n",
            "python3 ../evaluate.py ../data/dev.tsv output.tsv\n",
            "CER: 16.54687852515551\n",
            "WER: 40.88336922205728\n"
          ],
          "name": "stdout"
        }
      ]
    },
    {
      "cell_type": "markdown",
      "metadata": {
        "id": "FUX4UHXK0xwr"
      },
      "source": [
        "# Explore the data"
      ]
    },
    {
      "cell_type": "code",
      "metadata": {
        "id": "oyRlwrAiVmKg"
      },
      "source": [
        "import matplotlib.pyplot as plt\r\n",
        "from string import punctuation\r\n",
        "import sys\r\n",
        "import difflib\r\n",
        "import numpy\r\n",
        "from difflib import SequenceMatcher\r\n",
        "punct = punctuation + \"«»—…“”\"\r\n",
        "from collections import Counter\r\n",
        "import numpy as np\r\n",
        "plt.rcParams['figure.figsize'] = [20, 6]"
      ],
      "execution_count": 2,
      "outputs": []
    },
    {
      "cell_type": "code",
      "metadata": {
        "id": "jTacnEECurvE"
      },
      "source": [
        "import pandas as pd\r\n",
        "pd.set_option('display.max_colwidth', 1000)"
      ],
      "execution_count": 3,
      "outputs": []
    },
    {
      "cell_type": "code",
      "metadata": {
        "id": "GwpfBxA4vBex"
      },
      "source": [
        "train = pd.read_csv('./data/train.tsv', sep ='\\t', names = ['Protestant', 'Academy'])\r\n",
        "test = pd.read_csv('./data/dev.tsv', sep ='\\t', names = ['Protestant', 'Academy'])"
      ],
      "execution_count": 4,
      "outputs": []
    },
    {
      "cell_type": "code",
      "metadata": {
        "colab": {
          "base_uri": "https://localhost:8080/",
          "height": 206
        },
        "id": "clz0pAgGvO7x",
        "outputId": "9579ede2-20b3-4bef-8141-4dc8b2ab5b6f"
      },
      "source": [
        "train.head()"
      ],
      "execution_count": null,
      "outputs": [
        {
          "output_type": "execute_result",
          "data": {
            "text/html": [
              "<div>\n",
              "<style scoped>\n",
              "    .dataframe tbody tr th:only-of-type {\n",
              "        vertical-align: middle;\n",
              "    }\n",
              "\n",
              "    .dataframe tbody tr th {\n",
              "        vertical-align: top;\n",
              "    }\n",
              "\n",
              "    .dataframe thead th {\n",
              "        text-align: right;\n",
              "    }\n",
              "</style>\n",
              "<table border=\"1\" class=\"dataframe\">\n",
              "  <thead>\n",
              "    <tr style=\"text-align: right;\">\n",
              "      <th></th>\n",
              "      <th>Protestant</th>\n",
              "      <th>Academy</th>\n",
              "    </tr>\n",
              "  </thead>\n",
              "  <tbody>\n",
              "    <tr>\n",
              "      <th>0</th>\n",
              "      <td>Ti me bot yem.</td>\n",
              "      <td>Ti mɛ̀ ɓɔ̀t yɛ̂m.</td>\n",
              "    </tr>\n",
              "    <tr>\n",
              "      <th>1</th>\n",
              "      <td>Mimañ mi bôdaa mi ñañna ni jomol.</td>\n",
              "      <td>Mı̀maŋ mi ɓodàa mi ŋâŋnā ni jɔ̀mɔ̂l.</td>\n",
              "    </tr>\n",
              "    <tr>\n",
              "      <th>2</th>\n",
              "      <td>Me bibagla ni bôt bem, me bibagla bôt bem.</td>\n",
              "      <td>Mɛ̀ biɓāgla ni ɓòt ɓɛ̂m, mɛ̀ biɓāgla ɓôt ɓɛ̂m.</td>\n",
              "    </tr>\n",
              "    <tr>\n",
              "      <th>3</th>\n",
              "      <td>Nu a ñôm bés ni béé makôô isi siñ siñ i Kristô... (2kor.1,21).</td>\n",
              "      <td>Nu à ŋōm ɓes nı̀ ɓèe makòò isı̄ sı̂ŋ sı̀ŋ i Krı̌stò... (2Kɔ̀r.1,21).</td>\n",
              "    </tr>\n",
              "    <tr>\n",
              "      <th>4</th>\n",
              "      <td>Me galo ga ha, ni tehe.</td>\n",
              "      <td>Mɛ̀ galɔ̀ ga hâ, ni tɛhɛ.</td>\n",
              "    </tr>\n",
              "  </tbody>\n",
              "</table>\n",
              "</div>"
            ],
            "text/plain": [
              "                                                       Protestant                                                                     Academy\n",
              "0                                                  Ti me bot yem.                                                           Ti mɛ̀ ɓɔ̀t yɛ̂m.\n",
              "1                               Mimañ mi bôdaa mi ñañna ni jomol.                                     Mı̀maŋ mi ɓodàa mi ŋâŋnā ni jɔ̀mɔ̂l.\n",
              "2                      Me bibagla ni bôt bem, me bibagla bôt bem.                          Mɛ̀ biɓāgla ni ɓòt ɓɛ̂m, mɛ̀ biɓāgla ɓôt ɓɛ̂m.\n",
              "3  Nu a ñôm bés ni béé makôô isi siñ siñ i Kristô... (2kor.1,21).  Nu à ŋōm ɓes nı̀ ɓèe makòò isı̄ sı̂ŋ sı̀ŋ i Krı̌stò... (2Kɔ̀r.1,21).\n",
              "4                                         Me galo ga ha, ni tehe.                                                  Mɛ̀ galɔ̀ ga hâ, ni tɛhɛ."
            ]
          },
          "metadata": {
            "tags": []
          },
          "execution_count": 5
        }
      ]
    },
    {
      "cell_type": "code",
      "metadata": {
        "colab": {
          "base_uri": "https://localhost:8080/"
        },
        "id": "atodMKFYRdYV",
        "outputId": "ddce5b5d-36cf-485c-daaf-ba32530b86ff"
      },
      "source": [
        "train['Academy'].isna().sum()"
      ],
      "execution_count": null,
      "outputs": [
        {
          "output_type": "execute_result",
          "data": {
            "text/plain": [
              "2"
            ]
          },
          "metadata": {
            "tags": []
          },
          "execution_count": 9
        }
      ]
    },
    {
      "cell_type": "code",
      "metadata": {
        "colab": {
          "base_uri": "https://localhost:8080/"
        },
        "id": "MookUf6VRa1E",
        "outputId": "bd5c1f21-dc17-415d-8b6e-79982f6ccfa6"
      },
      "source": [
        "train['Protestant'].isna().sum()"
      ],
      "execution_count": null,
      "outputs": [
        {
          "output_type": "execute_result",
          "data": {
            "text/plain": [
              "0"
            ]
          },
          "metadata": {
            "tags": []
          },
          "execution_count": 10
        }
      ]
    },
    {
      "cell_type": "markdown",
      "metadata": {
        "id": "gtsWFOPxSAIa"
      },
      "source": [
        "We have rows with missing values, so let's drop them"
      ]
    },
    {
      "cell_type": "code",
      "metadata": {
        "id": "2GaMuCyrSFzq"
      },
      "source": [
        "train = train.dropna()"
      ],
      "execution_count": 5,
      "outputs": []
    },
    {
      "cell_type": "code",
      "metadata": {
        "id": "YNzf5_dX26JD"
      },
      "source": [
        "def wordlist(x): \r\n",
        "  y = x.strip(punct)\r\n",
        "  return set(y.split())"
      ],
      "execution_count": null,
      "outputs": []
    },
    {
      "cell_type": "code",
      "metadata": {
        "id": "bxCwZu9g2vQ-"
      },
      "source": [
        "train['word2convert'] = train['Protestant'].apply(wordlist) - train['Academy'].apply(wordlist)"
      ],
      "execution_count": null,
      "outputs": []
    },
    {
      "cell_type": "code",
      "metadata": {
        "colab": {
          "base_uri": "https://localhost:8080/",
          "height": 206
        },
        "id": "kdzfOmIwSabc",
        "outputId": "895e3e5f-50a6-4424-bf88-ad7791193b84"
      },
      "source": [
        "train.head()"
      ],
      "execution_count": null,
      "outputs": [
        {
          "output_type": "execute_result",
          "data": {
            "text/html": [
              "<div>\n",
              "<style scoped>\n",
              "    .dataframe tbody tr th:only-of-type {\n",
              "        vertical-align: middle;\n",
              "    }\n",
              "\n",
              "    .dataframe tbody tr th {\n",
              "        vertical-align: top;\n",
              "    }\n",
              "\n",
              "    .dataframe thead th {\n",
              "        text-align: right;\n",
              "    }\n",
              "</style>\n",
              "<table border=\"1\" class=\"dataframe\">\n",
              "  <thead>\n",
              "    <tr style=\"text-align: right;\">\n",
              "      <th></th>\n",
              "      <th>Protestant</th>\n",
              "      <th>Academy</th>\n",
              "      <th>word2convert</th>\n",
              "    </tr>\n",
              "  </thead>\n",
              "  <tbody>\n",
              "    <tr>\n",
              "      <th>0</th>\n",
              "      <td>Ti me bot yem.</td>\n",
              "      <td>Ti mɛ̀ ɓɔ̀t yɛ̂m.</td>\n",
              "      <td>{me, yem, bot}</td>\n",
              "    </tr>\n",
              "    <tr>\n",
              "      <th>1</th>\n",
              "      <td>Mimañ mi bôdaa mi ñañna ni jomol.</td>\n",
              "      <td>Mı̀maŋ mi ɓodàa mi ŋâŋnā ni jɔ̀mɔ̂l.</td>\n",
              "      <td>{Mimañ, jomol, ñañna, bôdaa}</td>\n",
              "    </tr>\n",
              "    <tr>\n",
              "      <th>2</th>\n",
              "      <td>Me bibagla ni bôt bem, me bibagla bôt bem.</td>\n",
              "      <td>Mɛ̀ biɓāgla ni ɓòt ɓɛ̂m, mɛ̀ biɓāgla ɓôt ɓɛ̂m.</td>\n",
              "      <td>{bem, Me, bibagla, bem,, bôt, me}</td>\n",
              "    </tr>\n",
              "    <tr>\n",
              "      <th>3</th>\n",
              "      <td>Nu a ñôm bés ni béé makôô isi siñ siñ i Kristô... (2kor.1,21).</td>\n",
              "      <td>Nu à ŋōm ɓes nı̀ ɓèe makòò isı̄ sı̂ŋ sı̀ŋ i Krı̌stò... (2Kɔ̀r.1,21).</td>\n",
              "      <td>{bés, Kristô..., (2kor.1,21, a, béé, ñôm, siñ, ni, makôô, isi}</td>\n",
              "    </tr>\n",
              "    <tr>\n",
              "      <th>4</th>\n",
              "      <td>Me galo ga ha, ni tehe.</td>\n",
              "      <td>Mɛ̀ galɔ̀ ga hâ, ni tɛhɛ.</td>\n",
              "      <td>{ha,, Me, galo, tehe}</td>\n",
              "    </tr>\n",
              "  </tbody>\n",
              "</table>\n",
              "</div>"
            ],
            "text/plain": [
              "                                                       Protestant  ...                                                    word2convert\n",
              "0                                                  Ti me bot yem.  ...                                                  {me, yem, bot}\n",
              "1                               Mimañ mi bôdaa mi ñañna ni jomol.  ...                                    {Mimañ, jomol, ñañna, bôdaa}\n",
              "2                      Me bibagla ni bôt bem, me bibagla bôt bem.  ...                               {bem, Me, bibagla, bem,, bôt, me}\n",
              "3  Nu a ñôm bés ni béé makôô isi siñ siñ i Kristô... (2kor.1,21).  ...  {bés, Kristô..., (2kor.1,21, a, béé, ñôm, siñ, ni, makôô, isi}\n",
              "4                                         Me galo ga ha, ni tehe.  ...                                           {ha,, Me, galo, tehe}\n",
              "\n",
              "[5 rows x 3 columns]"
            ]
          },
          "metadata": {
            "tags": []
          },
          "execution_count": 14
        }
      ]
    },
    {
      "cell_type": "code",
      "metadata": {
        "id": "O8Idgw0a1RaN",
        "colab": {
          "base_uri": "https://localhost:8080/",
          "height": 206
        },
        "outputId": "b888988a-3070-4a58-c7ad-a2ab59560553"
      },
      "source": [
        "test.head()"
      ],
      "execution_count": null,
      "outputs": [
        {
          "output_type": "execute_result",
          "data": {
            "text/html": [
              "<div>\n",
              "<style scoped>\n",
              "    .dataframe tbody tr th:only-of-type {\n",
              "        vertical-align: middle;\n",
              "    }\n",
              "\n",
              "    .dataframe tbody tr th {\n",
              "        vertical-align: top;\n",
              "    }\n",
              "\n",
              "    .dataframe thead th {\n",
              "        text-align: right;\n",
              "    }\n",
              "</style>\n",
              "<table border=\"1\" class=\"dataframe\">\n",
              "  <thead>\n",
              "    <tr style=\"text-align: right;\">\n",
              "      <th></th>\n",
              "      <th>Protestant</th>\n",
              "      <th>Academy</th>\n",
              "    </tr>\n",
              "  </thead>\n",
              "  <tbody>\n",
              "    <tr>\n",
              "      <th>0</th>\n",
              "      <td>Malét a mbôñe hyémbi.</td>\n",
              "      <td>Màlêt à m̂ɓoŋɛ hyembi.</td>\n",
              "    </tr>\n",
              "    <tr>\n",
              "      <th>1</th>\n",
              "      <td>A ntuhul me két (i) nuga.</td>\n",
              "      <td>À ǹtuhul mɛ kēt (i) nugā.</td>\n",
              "    </tr>\n",
              "    <tr>\n",
              "      <th>2</th>\n",
              "      <td>Ñkum u ñkôs ndoñ, ñkum u nlôôs ndoñ.</td>\n",
              "      <td>Ŋ̀kùm u ŋkòs ndɔŋ, ŋ̀kùm u nlòos ndɔŋ.</td>\n",
              "    </tr>\n",
              "    <tr>\n",
              "      <th>3</th>\n",
              "      <td>Mañ mut unu u nlo u mboda nyono wotama.</td>\n",
              "      <td>Maŋ mût unu u nlɔ ū mɓɔ̄da nyɔnɔ̄ wɔtāma.</td>\n",
              "    </tr>\n",
              "    <tr>\n",
              "      <th>4</th>\n",
              "      <td>Boñge ba ñke jogop ba kahal ndugi kôt mañgudga.</td>\n",
              "      <td>Ɓɔ̀ŋgɛ ɓa ŋkɛ̂ jɔ̀gɔ̂p ɓa kahal ndugi kòt maŋgudga.</td>\n",
              "    </tr>\n",
              "  </tbody>\n",
              "</table>\n",
              "</div>"
            ],
            "text/plain": [
              "                                        Protestant                                               Academy\n",
              "0                            Malét a mbôñe hyémbi.                             Màlêt à m̂ɓoŋɛ hyembi.\n",
              "1                        A ntuhul me két (i) nuga.                         À ǹtuhul mɛ kēt (i) nugā.\n",
              "2             Ñkum u ñkôs ndoñ, ñkum u nlôôs ndoñ.            Ŋ̀kùm u ŋkòs ndɔŋ, ŋ̀kùm u nlòos ndɔŋ.\n",
              "3          Mañ mut unu u nlo u mboda nyono wotama.          Maŋ mût unu u nlɔ ū mɓɔ̄da nyɔnɔ̄ wɔtāma.\n",
              "4  Boñge ba ñke jogop ba kahal ndugi kôt mañgudga.  Ɓɔ̀ŋgɛ ɓa ŋkɛ̂ jɔ̀gɔ̂p ɓa kahal ndugi kòt maŋgudga."
            ]
          },
          "metadata": {
            "tags": []
          },
          "execution_count": 15
        }
      ]
    },
    {
      "cell_type": "markdown",
      "metadata": {
        "id": "r9qEdXWyUYz1"
      },
      "source": [
        "Let's build the frequency dictionary of words that need to be converted\r\n"
      ]
    },
    {
      "cell_type": "code",
      "metadata": {
        "id": "LZEC-mdaSgaa"
      },
      "source": [
        "words2_convert = train['word2convert'].tolist()"
      ],
      "execution_count": null,
      "outputs": []
    },
    {
      "cell_type": "code",
      "metadata": {
        "colab": {
          "base_uri": "https://localhost:8080/"
        },
        "id": "aVaZNDOwTM5G",
        "outputId": "e0e3b851-150f-404c-a707-b1bbe3f094bc"
      },
      "source": [
        "list(words2_convert[:10])"
      ],
      "execution_count": null,
      "outputs": [
        {
          "output_type": "execute_result",
          "data": {
            "text/plain": [
              "[{'bot', 'me', 'yem'},\n",
              " {'Mimañ', 'bôdaa', 'jomol', 'ñañna'},\n",
              " {'Me', 'bem', 'bem,', 'bibagla', 'bôt', 'me'},\n",
              " {'(2kor.1,21',\n",
              "  'Kristô...',\n",
              "  'a',\n",
              "  'bés',\n",
              "  'béé',\n",
              "  'isi',\n",
              "  'makôô',\n",
              "  'ni',\n",
              "  'siñ',\n",
              "  'ñôm'},\n",
              " {'Me', 'galo', 'ha,', 'tehe'},\n",
              " {'A', 'kwade', 'mbéhha', 'me'},\n",
              " {'Me', 'e', 'koo', 'ñwabal'},\n",
              " {'A', 'hala', 'nlem'},\n",
              " {'matjél', 'mbôô', 'me', 'Ñem'},\n",
              " {'Kôp', 'bon', 'i', 'ñkek'}]"
            ]
          },
          "metadata": {
            "tags": []
          },
          "execution_count": 17
        }
      ]
    },
    {
      "cell_type": "code",
      "metadata": {
        "id": "AZJo8oU3VFc0"
      },
      "source": [
        "def build_vocab(data):\r\n",
        "  vocab = []\r\n",
        "  for i in range(len(data)):\r\n",
        "    vocab.append(list(data[i]))\r\n",
        "  vocab = [item for sublist in vocab for item in sublist]\r\n",
        "  return vocab"
      ],
      "execution_count": null,
      "outputs": []
    },
    {
      "cell_type": "code",
      "metadata": {
        "id": "njavYMKtWbOi",
        "colab": {
          "base_uri": "https://localhost:8080/"
        },
        "outputId": "ea230f20-f62c-4dd8-9b4d-a603d15216b2"
      },
      "source": [
        "vocab = build_vocab(words2_convert)\n",
        "freq_dict =  pd.Series(vocab)\n",
        "vc = freq_dict.value_counts()\n",
        "print(vc[:10])"
      ],
      "execution_count": null,
      "outputs": [
        {
          "output_type": "stream",
          "text": [
            "a      1823\n",
            "me     1352\n",
            "A       979\n",
            "Me      758\n",
            "i       748\n",
            "yé      729\n",
            "ba      680\n",
            "mut     497\n",
            "nye     472\n",
            "ni      463\n",
            "dtype: int64\n"
          ],
          "name": "stdout"
        }
      ]
    },
    {
      "cell_type": "code",
      "metadata": {
        "colab": {
          "base_uri": "https://localhost:8080/",
          "height": 441
        },
        "id": "NsNQfQY6iHxv",
        "outputId": "52e94c02-1377-4371-ab19-ff275680232b"
      },
      "source": [
        "_ = plt.title('50 most frequent words')\r\n",
        "vc[:50].plot(kind='bar', colormap = 'Pastel1')"
      ],
      "execution_count": null,
      "outputs": [
        {
          "output_type": "execute_result",
          "data": {
            "text/plain": [
              "<matplotlib.axes._subplots.AxesSubplot at 0x7f08a03585f8>"
            ]
          },
          "metadata": {
            "tags": []
          },
          "execution_count": 41
        },
        {
          "output_type": "display_data",
          "data": {
            "image/png": "[encoded data removed]",
            "text/plain": [
              "<Figure size 1440x432 with 1 Axes>"
            ]
          },
          "metadata": {
            "tags": [],
            "needs_background": "light"
          }
        }
      ]
    },
    {
      "cell_type": "markdown",
      "metadata": {
        "id": "J9Oq-s8SvS5H"
      },
      "source": [
        "# Try different algorithms here"
      ]
    },
    {
      "cell_type": "code",
      "metadata": {
        "id": "lX8fX77C_GfQ",
        "colab": {
          "base_uri": "https://localhost:8080/"
        },
        "outputId": "f351e5b4-1fdf-4a25-c126-d883d2790167"
      },
      "source": [
        "whole_text = train['Protestant'] + ' ' + train['Academy']\n",
        "print(whole_text)"
      ],
      "execution_count": 6,
      "outputs": [
        {
          "output_type": "stream",
          "text": [
            "0                                                                                                                Ti me bot yem. Ti mɛ̀ ɓɔ̀t yɛ̂m.\n",
            "1                                                                       Mimañ mi bôdaa mi ñañna ni jomol. Mı̀maŋ mi ɓodàa mi ŋâŋnā ni jɔ̀mɔ̂l.\n",
            "2                                                   Me bibagla ni bôt bem, me bibagla bôt bem. Mɛ̀ biɓāgla ni ɓòt ɓɛ̂m, mɛ̀ biɓāgla ɓôt ɓɛ̂m.\n",
            "3       Nu a ñôm bés ni béé makôô isi siñ siñ i Kristô... (2kor.1,21). Nu à ŋōm ɓes nı̀ ɓèe makòò isı̄ sı̂ŋ sı̀ŋ i Krı̌stò... (2Kɔ̀r.1,21).\n",
            "4                                                                                              Me galo ga ha, ni tehe. Mɛ̀ galɔ̀ ga hâ, ni tɛhɛ.\n",
            "                                                                          ...                                                                    \n",
            "9995                                                                                                       Mudaa a ñkondop. Mùdàa à ŋ̀kɔndɔ̀p.\n",
            "9996                                                                                                         Hijébjép hi mut. Hı̀jèbjep hi mût.\n",
            "9997                                                            Man nyen a nnyet, bañga mut i pobok. Màn nyɛn à nnyɛ̀t, ɓàŋga mùt ı̀ pɔ̀bɔ̀k.\n",
            "9998                                              Me gabana bôdôl i mbus matémbna ma man wem. Mɛ̀ gaɓāna ɓodôl i mbūs màtèmbnà ma man wɛ̂m.\n",
            "9999                                                                                                               I ka i yé le. I kà ı̀ yè lɛ.\n",
            "Length: 9998, dtype: object\n"
          ],
          "name": "stdout"
        }
      ]
    },
    {
      "cell_type": "code",
      "metadata": {
        "id": "RRWY_ayi_2Qz"
      },
      "source": [
        "%%capture\r\n",
        "!pip3 install razdel"
      ],
      "execution_count": 8,
      "outputs": []
    },
    {
      "cell_type": "code",
      "metadata": {
        "colab": {
          "base_uri": "https://localhost:8080/"
        },
        "id": "W7V0vi31nGLF",
        "outputId": "57d2e5df-d94d-4083-cde3-71feac061a23"
      },
      "source": [
        "from razdel import tokenize as razdel_tokenize\n",
        "from gensim.models.word2vec import Word2Vec\n",
        "from gensim.models import FastText\n",
        "\n",
        "def normalize(text):\n",
        "    words = [word.strip(punct) for word in text.lower().split()]\n",
        "    return ' '.join(words)\n",
        "\n",
        "def tokenize(text):\n",
        "    tokens = [token.text for token in list(razdel_tokenize(text))]\n",
        "    tokens = [token for token in tokens if token.isalnum()]\n",
        "    return ' '.join(tokens)\n",
        "\n",
        "data_norm = [normalize(tokenize(text)) for text in whole_text]\n",
        "data_norm = [text for text in data_norm if text]\n",
        "\n",
        "fasttext = FastText([text.split() for text in data_norm], size=50, min_n=1, max_n=8) \n",
        "print('done')"
      ],
      "execution_count": 9,
      "outputs": [
        {
          "output_type": "stream",
          "text": [
            "done\n"
          ],
          "name": "stdout"
        }
      ]
    },
    {
      "cell_type": "code",
      "metadata": {
        "colab": {
          "base_uri": "https://localhost:8080/"
        },
        "id": "uyxhfnOQspSJ",
        "outputId": "50798092-b7fb-420f-8079-e5c420554063"
      },
      "source": [
        "print(fasttext)"
      ],
      "execution_count": null,
      "outputs": [
        {
          "output_type": "stream",
          "text": [
            "FastText(vocab=1607, size=50, alpha=0.025)\n"
          ],
          "name": "stdout"
        }
      ]
    },
    {
      "cell_type": "code",
      "metadata": {
        "colab": {
          "base_uri": "https://localhost:8080/"
        },
        "id": "AaUu5x-NozOA",
        "outputId": "3dd670c3-46dd-4b3e-a3c1-349e8515ae4f"
      },
      "source": [
        "print(fasttext.most_similar('ɓɔ̀t'))"
      ],
      "execution_count": null,
      "outputs": [
        {
          "output_type": "stream",
          "text": [
            "[('béba', 0.9927377700805664), ('bañ', 0.9922951459884644), ('bas', 0.9916104674339294), ('bap', 0.9913110733032227), ('bay', 0.9911091327667236), ('bak', 0.9906681180000305), ('béa', 0.9906035661697388), ('bahba', 0.9901837706565857), ('ɓɔ', 0.9890789985656738), ('bo', 0.9883771538734436)]\n"
          ],
          "name": "stdout"
        },
        {
          "output_type": "stream",
          "text": [
            "/usr/local/lib/python3.6/dist-packages/ipykernel_launcher.py:1: DeprecationWarning: Call to deprecated `most_similar` (Method will be removed in 4.0.0, use self.wv.most_similar() instead).\n",
            "  \"\"\"Entry point for launching an IPython kernel.\n"
          ],
          "name": "stderr"
        }
      ]
    },
    {
      "cell_type": "code",
      "metadata": {
        "colab": {
          "base_uri": "https://localhost:8080/",
          "height": 72
        },
        "id": "iSSxprFJABqn",
        "outputId": "50718ede-e3ab-4d9b-cebf-4eb60affe00b"
      },
      "source": [
        "fasttext.most_similar('ɓɔ̀t')[-1][0]"
      ],
      "execution_count": null,
      "outputs": [
        {
          "output_type": "stream",
          "text": [
            "/usr/local/lib/python3.6/dist-packages/ipykernel_launcher.py:1: DeprecationWarning: Call to deprecated `most_similar` (Method will be removed in 4.0.0, use self.wv.most_similar() instead).\n",
            "  \"\"\"Entry point for launching an IPython kernel.\n"
          ],
          "name": "stderr"
        },
        {
          "output_type": "execute_result",
          "data": {
            "application/vnd.google.colaboratory.intrinsic+json": {
              "type": "string"
            },
            "text/plain": [
              "'bo'"
            ]
          },
          "metadata": {
            "tags": []
          },
          "execution_count": 63
        }
      ]
    },
    {
      "cell_type": "code",
      "metadata": {
        "id": "7d1WdQ6OAHT2"
      },
      "source": [
        "def simple_fast_text(x):\r\n",
        "  new = ''\r\n",
        "  for i in x.split():\r\n",
        "    i = i.strip(punct).lower()\r\n",
        "    if i:\r\n",
        "      y = [(a,b) for a,b in fasttext.most_similar(i) if i[0] == a[0]]\r\n",
        "      if y:\r\n",
        "        new += y[0][0] + ' '\r\n",
        "      else:\r\n",
        "        new += i + ' '\r\n",
        "    else:\r\n",
        "      new += i + ' '\r\n",
        "  return new.strip(' ')"
      ],
      "execution_count": null,
      "outputs": []
    },
    {
      "cell_type": "code",
      "metadata": {
        "colab": {
          "base_uri": "https://localhost:8080/"
        },
        "id": "NDx2hqtyAhsw",
        "outputId": "4ea66fb6-0ccf-4618-8693-c6c7e2a25be5"
      },
      "source": [
        "train['changed'] = train['Protestant'].apply(simple_fast_text)"
      ],
      "execution_count": null,
      "outputs": [
        {
          "output_type": "stream",
          "text": [
            "/usr/local/lib/python3.6/dist-packages/ipykernel_launcher.py:6: DeprecationWarning: Call to deprecated `most_similar` (Method will be removed in 4.0.0, use self.wv.most_similar() instead).\n",
            "  \n"
          ],
          "name": "stderr"
        }
      ]
    },
    {
      "cell_type": "code",
      "metadata": {
        "id": "qMN32-YQOTln"
      },
      "source": [
        "ac_norm = [normalize(tokenize(text)) for text in train['Academy'].tolist()]\r\n",
        "train['norm'] = ac_norm"
      ],
      "execution_count": null,
      "outputs": []
    },
    {
      "cell_type": "code",
      "metadata": {
        "colab": {
          "base_uri": "https://localhost:8080/",
          "height": 206
        },
        "id": "BxpyD-hkAq-W",
        "outputId": "08cdebdc-4af7-447a-c972-a924e53f9f1f"
      },
      "source": [
        "train.head()"
      ],
      "execution_count": null,
      "outputs": [
        {
          "output_type": "execute_result",
          "data": {
            "text/html": [
              "<div>\n",
              "<style scoped>\n",
              "    .dataframe tbody tr th:only-of-type {\n",
              "        vertical-align: middle;\n",
              "    }\n",
              "\n",
              "    .dataframe tbody tr th {\n",
              "        vertical-align: top;\n",
              "    }\n",
              "\n",
              "    .dataframe thead th {\n",
              "        text-align: right;\n",
              "    }\n",
              "</style>\n",
              "<table border=\"1\" class=\"dataframe\">\n",
              "  <thead>\n",
              "    <tr style=\"text-align: right;\">\n",
              "      <th></th>\n",
              "      <th>Protestant</th>\n",
              "      <th>Academy</th>\n",
              "      <th>changed</th>\n",
              "      <th>norm</th>\n",
              "    </tr>\n",
              "  </thead>\n",
              "  <tbody>\n",
              "    <tr>\n",
              "      <th>0</th>\n",
              "      <td>Ti me bot yem.</td>\n",
              "      <td>Ti mɛ̀ ɓɔ̀t yɛ̂m.</td>\n",
              "      <td>tjibi mt bok yom</td>\n",
              "      <td>ti</td>\n",
              "    </tr>\n",
              "    <tr>\n",
              "      <th>1</th>\n",
              "      <td>Mimañ mi bôdaa mi ñañna ni jomol.</td>\n",
              "      <td>Mı̀maŋ mi ɓodàa mi ŋâŋnā ni jɔ̀mɔ̂l.</td>\n",
              "      <td>masiñ mbebi batan mbebi ñañna niñi jogop</td>\n",
              "      <td>mi mi ni</td>\n",
              "    </tr>\n",
              "    <tr>\n",
              "      <th>2</th>\n",
              "      <td>Me bibagla ni bôt bem, me bibagla bôt bem.</td>\n",
              "      <td>Mɛ̀ biɓāgla ni ɓòt ɓɛ̂m, mɛ̀ biɓāgla ɓôt ɓɛ̂m.</td>\n",
              "      <td>mt bisay niñi boo bikaat mt bisay boo bikaat</td>\n",
              "      <td>ni</td>\n",
              "    </tr>\n",
              "    <tr>\n",
              "      <th>3</th>\n",
              "      <td>Nu a ñôm bés ni béé makôô isi siñ siñ i Kristô... (2kor.1,21).</td>\n",
              "      <td>Nu à ŋōm ɓes nı̀ ɓèe makòò isı̄ sı̂ŋ sı̀ŋ i Krı̌stò... (2Kɔ̀r.1,21).</td>\n",
              "      <td>nuu a ñom boy niñi bet matéô isi siñ siñ ii kôy 2kor.1,21</td>\n",
              "      <td>nu ɓes i 2</td>\n",
              "    </tr>\n",
              "    <tr>\n",
              "      <th>4</th>\n",
              "      <td>Me galo ga ha, ni tehe.</td>\n",
              "      <td>Mɛ̀ galɔ̀ ga hâ, ni tɛhɛ.</td>\n",
              "      <td>mt galo ga hala niñi tee</td>\n",
              "      <td>ga ni tɛhɛ</td>\n",
              "    </tr>\n",
              "  </tbody>\n",
              "</table>\n",
              "</div>"
            ],
            "text/plain": [
              "                                                       Protestant  ...        norm\n",
              "0                                                  Ti me bot yem.  ...          ti\n",
              "1                               Mimañ mi bôdaa mi ñañna ni jomol.  ...    mi mi ni\n",
              "2                      Me bibagla ni bôt bem, me bibagla bôt bem.  ...          ni\n",
              "3  Nu a ñôm bés ni béé makôô isi siñ siñ i Kristô... (2kor.1,21).  ...  nu ɓes i 2\n",
              "4                                         Me galo ga ha, ni tehe.  ...  ga ni tɛhɛ\n",
              "\n",
              "[5 rows x 4 columns]"
            ]
          },
          "metadata": {
            "tags": []
          },
          "execution_count": 15
        }
      ]
    },
    {
      "cell_type": "code",
      "metadata": {
        "id": "h7RKP9TPBX3I"
      },
      "source": [
        "class WER:\r\n",
        "\r\n",
        "    \r\n",
        "    def editDistance(self, r, h):\r\n",
        "        '''\r\n",
        "        This function is to calculate the edit distance of reference sentence and the hypothesis sentence.\r\n",
        "    \r\n",
        "        Main algorithm used is dynamic programming.\r\n",
        "    \r\n",
        "        Attributes: \r\n",
        "            r -> the list of words produced by splitting reference sentence.\r\n",
        "            h -> the list of words produced by splitting hypothesis sentence.\r\n",
        "        '''\r\n",
        "        d = numpy.zeros((len(r)+1)*(len(h)+1), dtype=numpy.uint8).reshape((len(r)+1, len(h)+1))\r\n",
        "        for i in range(len(r)+1):\r\n",
        "            d[i][0] = i\r\n",
        "        for j in range(len(h)+1):\r\n",
        "            d[0][j] = j\r\n",
        "        for i in range(1, len(r)+1):\r\n",
        "            for j in range(1, len(h)+1):\r\n",
        "                if r[i-1] == h[j-1]:\r\n",
        "                    d[i][j] = d[i-1][j-1]\r\n",
        "                else:\r\n",
        "                    substitute = d[i-1][j-1] + 1\r\n",
        "                    insert = d[i][j-1] + 1\r\n",
        "                    delete = d[i-1][j] + 1\r\n",
        "                    d[i][j] = min(substitute, insert, delete)\r\n",
        "        return d\r\n",
        "    \r\n",
        "    def getStepList(self, r, h, d):\r\n",
        "        '''\r\n",
        "        This function is to get the list of steps in the process of dynamic programming.\r\n",
        "    \r\n",
        "        Attributes: \r\n",
        "            r -> the list of words produced by splitting reference sentence.\r\n",
        "            h -> the list of words produced by splitting hypothesis sentence.\r\n",
        "            d -> the matrix built when calulating the editting distance of h and r.\r\n",
        "        '''\r\n",
        "        x = len(r)\r\n",
        "        y = len(h)\r\n",
        "        l = []\r\n",
        "        while True:\r\n",
        "            if x == 0 and y == 0: \r\n",
        "                break\r\n",
        "            elif x >= 1 and y >= 1 and d[x][y] == d[x-1][y-1] and r[x-1] == h[y-1]: \r\n",
        "                l.append(\"e\")\r\n",
        "                x = x - 1\r\n",
        "                y = y - 1\r\n",
        "            elif y >= 1 and d[x][y] == d[x][y-1]+1:\r\n",
        "                l.append(\"i\")\r\n",
        "                x = x\r\n",
        "                y = y - 1\r\n",
        "            elif x >= 1 and y >= 1 and d[x][y] == d[x-1][y-1]+1:\r\n",
        "                l.append(\"s\")\r\n",
        "                x = x - 1\r\n",
        "                y = y - 1\r\n",
        "            else:\r\n",
        "                l.append(\"d\")\r\n",
        "                x = x - 1\r\n",
        "                y = y\r\n",
        "        return l[::-1]\r\n",
        "    \r\n",
        "    def alignedPrint(self, l, r, h, result):\r\n",
        "        '''\r\n",
        "        This funcition is to print the result of comparing reference and hypothesis sentences in an aligned way.\r\n",
        "        \r\n",
        "        Attributes:\r\n",
        "            l   -> the list of steps.\r\n",
        "            r      -> the list of words produced by splitting reference sentence.\r\n",
        "            h      -> the list of words produced by splitting hypothesis sentence.\r\n",
        "            result -> the rate calculated based on edit distance.\r\n",
        "        '''\r\n",
        "        print(\"REF:\", end=\" \")\r\n",
        "        for i in range(len(l)):\r\n",
        "            if l[i] == \"i\":\r\n",
        "                count = 0\r\n",
        "                for j in range(i):\r\n",
        "                    if l[j] == \"d\":\r\n",
        "                        count += 1\r\n",
        "                index = i - count\r\n",
        "                print(\" \"*(len(h[index])), end=\" \")\r\n",
        "            elif l[i] == \"s\":\r\n",
        "                count1 = 0\r\n",
        "                for j in range(i):\r\n",
        "                    if l[j] == \"i\":\r\n",
        "                        count1 += 1\r\n",
        "                index1 = i - count1\r\n",
        "                count2 = 0\r\n",
        "                for j in range(i):\r\n",
        "                    if l[j] == \"d\":\r\n",
        "                        count2 += 1\r\n",
        "                index2 = i - count2\r\n",
        "                if len(r[index1]) < len(h[index2]):\r\n",
        "                    print(r[index1] + \" \" * (len(h[index2])-len(r[index1])), end=\" \")\r\n",
        "                else:\r\n",
        "                    print(r[index1], end=\" \"),\r\n",
        "            else:\r\n",
        "                count = 0\r\n",
        "                for j in range(i):\r\n",
        "                    if l[j] == \"i\":\r\n",
        "                        count += 1\r\n",
        "                index = i - count\r\n",
        "                print(r[index], end=\" \"),\r\n",
        "        print(\"\\nHYP:\", end=\" \")\r\n",
        "        for i in range(len(l)):\r\n",
        "            if l[i] == \"d\":\r\n",
        "                count = 0\r\n",
        "                for j in range(i):\r\n",
        "                    if l[j] == \"i\":\r\n",
        "                        count += 1\r\n",
        "                index = i - count\r\n",
        "                print(\" \" * (len(r[index])), end=\" \")\r\n",
        "            elif l[i] == \"s\":\r\n",
        "                count1 = 0\r\n",
        "                for j in range(i):\r\n",
        "                    if l[j] == \"i\":\r\n",
        "                        count1 += 1\r\n",
        "                index1 = i - count1\r\n",
        "                count2 = 0\r\n",
        "                for j in range(i):\r\n",
        "                    if l[j] == \"d\":\r\n",
        "                        count2 += 1\r\n",
        "                index2 = i - count2\r\n",
        "                if len(r[index1]) > len(h[index2]):\r\n",
        "                    print(h[index2] + \" \" * (len(r[index1])-len(h[index2])), end=\" \")\r\n",
        "                else:\r\n",
        "                    print(h[index2], end=\" \")\r\n",
        "            else:\r\n",
        "                count = 0\r\n",
        "                for j in range(i):\r\n",
        "                    if l[j] == \"d\":\r\n",
        "                        count += 1\r\n",
        "                index = i - count\r\n",
        "                print(h[index], end=\" \")\r\n",
        "        print(\"\\nEVA:\", end=\" \")\r\n",
        "        for i in range(len(l)):\r\n",
        "            if l[i] == \"d\":\r\n",
        "                count = 0\r\n",
        "                for j in range(i):\r\n",
        "                    if l[j] == \"i\":\r\n",
        "                        count += 1\r\n",
        "                index = i - count\r\n",
        "                print(\"D\" + \" \" * (len(r[index])-1), end=\" \")\r\n",
        "            elif l[i] == \"i\":\r\n",
        "                count = 0\r\n",
        "                for j in range(i):\r\n",
        "                    if l[j] == \"d\":\r\n",
        "                        count += 1\r\n",
        "                index = i - count\r\n",
        "                print(\"I\" + \" \" * (len(h[index])-1), end=\" \")\r\n",
        "            elif l[i] == \"s\":\r\n",
        "                count1 = 0\r\n",
        "                for j in range(i):\r\n",
        "                    if l[j] == \"i\":\r\n",
        "                        count1 += 1\r\n",
        "                index1 = i - count1\r\n",
        "                count2 = 0\r\n",
        "                for j in range(i):\r\n",
        "                    if l[j] == \"d\":\r\n",
        "                        count2 += 1\r\n",
        "                index2 = i - count2\r\n",
        "                if len(r[index1]) > len(h[index2]):\r\n",
        "                    print(\"S\" + \" \" * (len(r[index1])-1), end=\" \")\r\n",
        "                else:\r\n",
        "                    print(\"S\" + \" \" * (len(h[index2])-1), end=\" \")\r\n",
        "            else:\r\n",
        "                count = 0\r\n",
        "                for j in range(i):\r\n",
        "                    if l[j] == \"i\":\r\n",
        "                        count += 1\r\n",
        "                index = i - count\r\n",
        "                print(\" \" * (len(r[index])), end=\" \")\r\n",
        "        print(\"\\nWER: \" + result)\r\n",
        "    \r\n",
        "    def wer(self, r, h):\r\n",
        "        \"\"\"\r\n",
        "        This is a function that calculate the word error rate in ASR.\r\n",
        "        You can use it like this: wer(\"what is it\".split(), \"what is\".split()) \r\n",
        "        \"\"\"\r\n",
        "        # build the matrix\r\n",
        "        d = self.editDistance(r, h)\r\n",
        "    \r\n",
        "        l = self.getStepList(r, h, d)\r\n",
        "    \r\n",
        "        result = float(d[len(r)][len(h)]) / len(r) * 100\r\n",
        "        word_error=d[len(r)][len(h)]\r\n",
        "        words=len(r)\r\n",
        "        return result\r\n",
        "\r\n",
        "    def evaluate(self, ref_lines, tst_lines):\r\n",
        "        total = 0.0\r\n",
        "        n_lines = 0\r\n",
        "        for (r, h) in zip(ref_lines, tst_lines):\r\n",
        "            r = ' '.join(r)\r\n",
        "            h = ' '.join(h)\r\n",
        "            w = self.wer(r.split(' '), h.split(' '))\r\n",
        "#            print(w, n_lines)\r\n",
        "            total += w\r\n",
        "            n_lines += 1\r\n",
        "\r\n",
        "#        print('T:', total, n_lines)\r\n",
        "        return total/n_lines"
      ],
      "execution_count": null,
      "outputs": []
    },
    {
      "cell_type": "code",
      "metadata": {
        "id": "o0e9XFSRBiFc"
      },
      "source": [
        "class CER:\r\n",
        "\r\n",
        "    def __init__(self):\r\n",
        "        self.x = True\r\n",
        "    \r\n",
        "    def diffLines(self, rows, origin_st, target_st):\r\n",
        "        \r\n",
        "        s1=list(origin_st)\r\n",
        "        s2=list(target_st)\r\n",
        "    \r\n",
        "        diff=[]\r\n",
        "        num_charas=len(s1)\r\n",
        "        num_delete=0\r\n",
        "        num_insert=0\r\n",
        "        num_replace=0\r\n",
        "    \r\n",
        "        matcher = difflib.SequenceMatcher(None, s1, s2)\r\n",
        "        for tag, i1, i2, j1, j2 in matcher.get_opcodes():\r\n",
        "            if tag == 'delete':\r\n",
        "                diff.append('del'+''.join(s1[i1:i2]))\r\n",
        "                num_delete+=i2-i1\r\n",
        "            elif tag == 'equal':\r\n",
        "                pass\r\n",
        "            elif tag == 'insert':\r\n",
        "                diff.append('ins'+''.join(s2[j1:j2]))\r\n",
        "                num_insert+=j2-j1\r\n",
        "            elif tag == 'replace':\r\n",
        "                diff.append('rep'+''.join(s1[i1:i2])+'->'+''.join(s2[j1:j2]))\r\n",
        "                num_replace+=i2-i1\r\n",
        "    \r\n",
        "        return num_charas, (num_delete+num_insert+num_replace)\r\n",
        "   \r\n",
        "    def evaluate(self, ref_lines, tst_lines):\r\n",
        "        total_chara=0\r\n",
        "        total_diff_chara=0\r\n",
        "    \r\n",
        "        for i in range(len(ref_lines)):\r\n",
        "            str1=ref_lines[i]\r\n",
        "            str2=tst_lines[i]\r\n",
        "            num_charas, diff_charas = self.diffLines(i+1,str1,str2)\r\n",
        "    \r\n",
        "            total_chara+=num_charas\r\n",
        "            total_diff_chara+=diff_charas\r\n",
        "\r\n",
        "        return total_diff_chara/total_chara   "
      ],
      "execution_count": null,
      "outputs": []
    },
    {
      "cell_type": "code",
      "metadata": {
        "id": "NFJ412omB7ND"
      },
      "source": [
        "ref = pd.DataFrame({'ref': train['Academy']})\r\n",
        "alg = pd.DataFrame({'algorithm': train['changed']})"
      ],
      "execution_count": null,
      "outputs": []
    },
    {
      "cell_type": "code",
      "metadata": {
        "id": "kf_E5myfCMXX"
      },
      "source": [
        "ref.to_csv('ref.tsv', sep = '\\t', index = False, header = False)\r\n",
        "alg.to_csv('alg.tsv', sep = '\\t', index = False, header = False)"
      ],
      "execution_count": null,
      "outputs": []
    },
    {
      "cell_type": "code",
      "metadata": {
        "id": "1eNFtyDrC8Ti"
      },
      "source": [
        "with open('ref.tsv') as f:\r\n",
        "  f1 = f.readlines()\r\n",
        "\r\n",
        "with open('alg.tsv') as f0:\r\n",
        "  f2 = f0.readlines()"
      ],
      "execution_count": null,
      "outputs": []
    },
    {
      "cell_type": "code",
      "metadata": {
        "id": "nJi7kxybDVvj"
      },
      "source": [
        "ref_lines = [i.strip().split('\\t') for i in f1]\r\n",
        "tst_lines = [i.strip().split('\\t') for i in f2]"
      ],
      "execution_count": null,
      "outputs": []
    },
    {
      "cell_type": "code",
      "metadata": {
        "colab": {
          "base_uri": "https://localhost:8080/"
        },
        "id": "-qVIvJJ8Bl4-",
        "outputId": "fd2272ad-0ab8-4819-9620-8fb81af07368"
      },
      "source": [
        "cer = CER()\r\n",
        "wer = WER()\r\n",
        "\r\n",
        "res = cer.evaluate(ref_lines, tst_lines)\r\n",
        "\r\n",
        "print('CER:', res*100)\r\n",
        "\r\n",
        "res = wer.evaluate(ref_lines, tst_lines)\r\n",
        "\r\n",
        "print('WER:', res)"
      ],
      "execution_count": null,
      "outputs": [
        {
          "output_type": "stream",
          "text": [
            "CER: 100.0\n",
            "WER: 97.96632195600208\n"
          ],
          "name": "stdout"
        }
      ]
    },
    {
      "cell_type": "code",
      "metadata": {
        "id": "-Lc6e6DcHHSC"
      },
      "source": [
        "import torch\n",
        "import torch.nn as nn\n",
        "import torch.optim as optim\n",
        "\n",
        "from torchtext.datasets import Multi30k\n",
        "from torchtext.data import Field, BucketIterator\n",
        "\n",
        "import spacy\n",
        "import numpy as np\n",
        "\n",
        "import random\n",
        "import math\n",
        "import time"
      ],
      "execution_count": 10,
      "outputs": []
    },
    {
      "cell_type": "code",
      "metadata": {
        "id": "JibwnE0yHQp5"
      },
      "source": [
        "SEED = 1234\n",
        "\n",
        "random.seed(SEED)\n",
        "np.random.seed(SEED)\n",
        "torch.manual_seed(SEED)\n",
        "torch.cuda.manual_seed(SEED)\n",
        "torch.backends.cudnn.deterministic = True"
      ],
      "execution_count": 11,
      "outputs": []
    },
    {
      "cell_type": "code",
      "metadata": {
        "id": "tCTOVvwbHVWQ"
      },
      "source": [
        "from razdel import tokenize as razdel_tokenize\n",
        "from gensim.models.word2vec import Word2Vec\n",
        "from gensim.models import FastText\n",
        "\n",
        "def normalize(text):\n",
        "    words = [word.strip(punct) for word in text.lower().split()]\n",
        "    return ' '.join(words)\n",
        "\n",
        "def tokenize(text):\n",
        "    tokens = [token.text for token in list(razdel_tokenize(text))]\n",
        "    tokens = [token for token in tokens if token.isalnum()]\n",
        "    return ' '.join(tokens)\n",
        "\n",
        "data_norm_src = [normalize(tokenize(text)) for text in train['Protestant']]\n",
        "# data_norm_src = ['<sos>'+text+ '<eos>' for text in data_norm_src if text]\n",
        "\n",
        "data_norm_trg = [normalize(tokenize(text)) for text in train['Academy']]\n",
        "# data_norm_trg = ['<sos>'+text+ '<eos>' for text in data_norm_trg if text]"
      ],
      "execution_count": 24,
      "outputs": []
    },
    {
      "cell_type": "code",
      "metadata": {
        "id": "2BfdNHTCbvFi"
      },
      "source": [
        "def tokenize_de(text):\r\n",
        "    \"\"\"\r\n",
        "    Tokenizes German text from a string into a list of strings (tokens) and reverses it\r\n",
        "    \"\"\"\r\n",
        "    return [normalize(tokenize(text)) for text in train['Protestant']][::-1]\r\n",
        "\r\n",
        "def tokenize_en(text):\r\n",
        "    \"\"\"\r\n",
        "    Tokenizes English text from a string into a list of strings (tokens)\r\n",
        "    \"\"\"\r\n",
        "    return [normalize(tokenize(text)) for text in train['Academy']]"
      ],
      "execution_count": 16,
      "outputs": []
    },
    {
      "cell_type": "code",
      "metadata": {
        "id": "0MzxZh_za5ou"
      },
      "source": [
        "SRC = Field(tokenize = tokenize_de, \r\n",
        "            init_token = '<sos>', \r\n",
        "            eos_token = '<eos>', \r\n",
        "            lower = True)\r\n",
        "\r\n",
        "TRG = Field(tokenize = tokenize_en, \r\n",
        "            init_token = '<sos>', \r\n",
        "            eos_token = '<eos>', \r\n",
        "            lower = True)"
      ],
      "execution_count": 17,
      "outputs": []
    },
    {
      "cell_type": "code",
      "metadata": {
        "id": "-Siyc4rIN_ao"
      },
      "source": [
        "class Encoder(nn.Module):\n",
        "    def __init__(self, input_dim, emb_dim, hid_dim, n_layers, dropout):\n",
        "        super().__init__()\n",
        "        \n",
        "        self.hid_dim = hid_dim\n",
        "        self.n_layers = n_layers\n",
        "        \n",
        "        self.embedding = nn.Embedding(input_dim, emb_dim)\n",
        "        \n",
        "        self.rnn = nn.LSTM(emb_dim, hid_dim, n_layers, dropout = dropout)\n",
        "        \n",
        "        self.dropout = nn.Dropout(dropout)\n",
        "        \n",
        "    def forward(self, src):\n",
        "        \n",
        "        #src = [src len, batch size]\n",
        "        \n",
        "        embedded = self.dropout(self.embedding(src))\n",
        "        \n",
        "        #embedded = [src len, batch size, emb dim]\n",
        "        \n",
        "        outputs, (hidden, cell) = self.rnn(embedded)\n",
        "        \n",
        "        #outputs = [src len, batch size, hid dim * n directions]\n",
        "        #hidden = [n layers * n directions, batch size, hid dim]\n",
        "        #cell = [n layers * n directions, batch size, hid dim]\n",
        "        \n",
        "        #outputs are always from the top hidden layer\n",
        "        \n",
        "        return hidden, cell"
      ],
      "execution_count": 18,
      "outputs": []
    },
    {
      "cell_type": "code",
      "metadata": {
        "id": "fa4qVrsEOA_2"
      },
      "source": [
        "class Decoder(nn.Module):\n",
        "    def __init__(self, output_dim, emb_dim, hid_dim, n_layers, dropout):\n",
        "        super().__init__()\n",
        "        \n",
        "        self.output_dim = output_dim\n",
        "        self.hid_dim = hid_dim\n",
        "        self.n_layers = n_layers\n",
        "        \n",
        "        self.embedding = nn.Embedding(output_dim, emb_dim)\n",
        "        \n",
        "        self.rnn = nn.LSTM(emb_dim, hid_dim, n_layers, dropout = dropout)\n",
        "        \n",
        "        self.fc_out = nn.Linear(hid_dim, output_dim)\n",
        "        \n",
        "        self.dropout = nn.Dropout(dropout)\n",
        "        \n",
        "    def forward(self, input, hidden, cell):\n",
        "        \n",
        "        #input = [batch size]\n",
        "        #hidden = [n layers * n directions, batch size, hid dim]\n",
        "        #cell = [n layers * n directions, batch size, hid dim]\n",
        "        \n",
        "        #n directions in the decoder will both always be 1, therefore:\n",
        "        #hidden = [n layers, batch size, hid dim]\n",
        "        #context = [n layers, batch size, hid dim]\n",
        "        \n",
        "        input = input.unsqueeze(0)\n",
        "        \n",
        "        #input = [1, batch size]\n",
        "        \n",
        "        embedded = self.dropout(self.embedding(input))\n",
        "        \n",
        "        #embedded = [1, batch size, emb dim]\n",
        "                \n",
        "        output, (hidden, cell) = self.rnn(embedded, (hidden, cell))\n",
        "        \n",
        "        #output = [seq len, batch size, hid dim * n directions]\n",
        "        #hidden = [n layers * n directions, batch size, hid dim]\n",
        "        #cell = [n layers * n directions, batch size, hid dim]\n",
        "        \n",
        "        #seq len and n directions will always be 1 in the decoder, therefore:\n",
        "        #output = [1, batch size, hid dim]\n",
        "        #hidden = [n layers, batch size, hid dim]\n",
        "        #cell = [n layers, batch size, hid dim]\n",
        "        \n",
        "        prediction = self.fc_out(output.squeeze(0))\n",
        "        \n",
        "        #prediction = [batch size, output dim]\n",
        "        \n",
        "        return prediction, hidden, cell"
      ],
      "execution_count": 19,
      "outputs": []
    },
    {
      "cell_type": "code",
      "metadata": {
        "id": "BKiTJd3tOOHC"
      },
      "source": [
        "class Seq2Seq(nn.Module):\n",
        "    def __init__(self, encoder, decoder, device):\n",
        "        super().__init__()\n",
        "        \n",
        "        self.encoder = encoder\n",
        "        self.decoder = decoder\n",
        "        self.device = device\n",
        "        \n",
        "        assert encoder.hid_dim == decoder.hid_dim, \\\n",
        "            \"Hidden dimensions of encoder and decoder must be equal!\"\n",
        "        assert encoder.n_layers == decoder.n_layers, \\\n",
        "            \"Encoder and decoder must have equal number of layers!\"\n",
        "        \n",
        "    def forward(self, src, trg, teacher_forcing_ratio = 0.5):\n",
        "        \n",
        "        #src = [src len, batch size]\n",
        "        #trg = [trg len, batch size]\n",
        "        #teacher_forcing_ratio is probability to use teacher forcing\n",
        "        #e.g. if teacher_forcing_ratio is 0.75 we use ground-truth inputs 75% of the time\n",
        "        \n",
        "        batch_size = trg.shape[1]\n",
        "        trg_len = trg.shape[0]\n",
        "        trg_vocab_size = self.decoder.output_dim\n",
        "        \n",
        "        #tensor to store decoder outputs\n",
        "        outputs = torch.zeros(trg_len, batch_size, trg_vocab_size).to(self.device)\n",
        "        \n",
        "        #last hidden state of the encoder is used as the initial hidden state of the decoder\n",
        "        hidden, cell = self.encoder(src)\n",
        "        \n",
        "        #first input to the decoder is the <sos> tokens\n",
        "        input = trg[0,:]\n",
        "        \n",
        "        for t in range(1, trg_len):\n",
        "            \n",
        "            #insert input token embedding, previous hidden and previous cell states\n",
        "            #receive output tensor (predictions) and new hidden and cell states\n",
        "            output, hidden, cell = self.decoder(input, hidden, cell)\n",
        "            \n",
        "            #place predictions in a tensor holding predictions for each token\n",
        "            outputs[t] = output\n",
        "            \n",
        "            #decide if we are going to use teacher forcing or not\n",
        "            teacher_force = random.random() < teacher_forcing_ratio\n",
        "            \n",
        "            #get the highest predicted token from our predictions\n",
        "            top1 = output.argmax(1) \n",
        "            \n",
        "            #if teacher forcing, use actual next token as next input\n",
        "            #if not, use predicted token\n",
        "            input = trg[t] if teacher_force else top1\n",
        "        \n",
        "        return outputs"
      ],
      "execution_count": 20,
      "outputs": []
    },
    {
      "cell_type": "code",
      "metadata": {
        "id": "-UaSyDTeXX5_"
      },
      "source": [
        "device = torch.device('cuda' if torch.cuda.is_available() else 'cpu')"
      ],
      "execution_count": 21,
      "outputs": []
    },
    {
      "cell_type": "code",
      "metadata": {
        "id": "wyRtOiH4b_zl",
        "outputId": "c62bbe53-82d4-4e41-833a-61ba80ede2d6",
        "colab": {
          "base_uri": "https://localhost:8080/",
          "height": 172
        }
      },
      "source": [
        "SRC_vocab"
      ],
      "execution_count": 23,
      "outputs": [
        {
          "output_type": "error",
          "ename": "NameError",
          "evalue": "ignored",
          "traceback": [
            "\u001b[0;31m---------------------------------------------------------------------------\u001b[0m",
            "\u001b[0;31mNameError\u001b[0m                                 Traceback (most recent call last)",
            "\u001b[0;32m<ipython-input-23-c89eb2a1cbf6>\u001b[0m in \u001b[0;36m<module>\u001b[0;34m()\u001b[0m\n\u001b[0;32m----> 1\u001b[0;31m \u001b[0mSRC_vocab\u001b[0m\u001b[0;34m\u001b[0m\u001b[0;34m\u001b[0m\u001b[0m\n\u001b[0m",
            "\u001b[0;31mNameError\u001b[0m: name 'SRC_vocab' is not defined"
          ]
        }
      ]
    },
    {
      "cell_type": "code",
      "metadata": {
        "id": "8cItVPchP-ws"
      },
      "source": [
        "INPUT_DIM = len(data_norm_src)\n",
        "OUTPUT_DIM = len(data_norm_trg)\n",
        "ENC_EMB_DIM = 256\n",
        "DEC_EMB_DIM = 256\n",
        "HID_DIM = 512\n",
        "N_LAYERS = 2\n",
        "ENC_DROPOUT = 0.5\n",
        "DEC_DROPOUT = 0.5\n",
        "\n",
        "enc = Encoder(INPUT_DIM, ENC_EMB_DIM, HID_DIM, N_LAYERS, ENC_DROPOUT)\n",
        "dec = Decoder(OUTPUT_DIM, DEC_EMB_DIM, HID_DIM, N_LAYERS, DEC_DROPOUT)\n",
        "\n",
        "model = Seq2Seq(enc, dec, device).to(device)"
      ],
      "execution_count": 25,
      "outputs": []
    },
    {
      "cell_type": "code",
      "metadata": {
        "colab": {
          "base_uri": "https://localhost:8080/"
        },
        "id": "6vqoR7jpQG1O",
        "outputId": "f4c467ac-4601-47a6-cc46-b2f821976eae"
      },
      "source": [
        "def init_weights(m):\n",
        "    for name, param in m.named_parameters():\n",
        "        nn.init.uniform_(param.data, -0.08, 0.08)\n",
        "        \n",
        "model.apply(init_weights)"
      ],
      "execution_count": 26,
      "outputs": [
        {
          "output_type": "execute_result",
          "data": {
            "text/plain": [
              "Seq2Seq(\n",
              "  (encoder): Encoder(\n",
              "    (embedding): Embedding(9998, 256)\n",
              "    (rnn): LSTM(256, 512, num_layers=2, dropout=0.5)\n",
              "    (dropout): Dropout(p=0.5, inplace=False)\n",
              "  )\n",
              "  (decoder): Decoder(\n",
              "    (embedding): Embedding(9998, 256)\n",
              "    (rnn): LSTM(256, 512, num_layers=2, dropout=0.5)\n",
              "    (fc_out): Linear(in_features=512, out_features=9998, bias=True)\n",
              "    (dropout): Dropout(p=0.5, inplace=False)\n",
              "  )\n",
              ")"
            ]
          },
          "metadata": {
            "tags": []
          },
          "execution_count": 26
        }
      ]
    },
    {
      "cell_type": "code",
      "metadata": {
        "colab": {
          "base_uri": "https://localhost:8080/"
        },
        "id": "hv67I5psXj8C",
        "outputId": "d2c74188-1169-4071-8bef-9cb2ac8452ac"
      },
      "source": [
        "def count_parameters(model):\n",
        "    return sum(p.numel() for p in model.parameters() if p.requires_grad)\n",
        "\n",
        "print(f'The model has {count_parameters(model):,} trainable parameters')"
      ],
      "execution_count": 27,
      "outputs": [
        {
          "output_type": "stream",
          "text": [
            "The model has 17,604,366 trainable parameters\n"
          ],
          "name": "stdout"
        }
      ]
    },
    {
      "cell_type": "code",
      "metadata": {
        "id": "AAWlEqBtXjol"
      },
      "source": [
        "optimizer = optim.Adam(model.parameters())"
      ],
      "execution_count": 28,
      "outputs": []
    },
    {
      "cell_type": "code",
      "metadata": {
        "id": "eBnct5djcnBP"
      },
      "source": [
        "SRC.build_vocab(train['Protestant'], min_freq = 2)\r\n",
        "TRG.build_vocab(train['Academy'], min_freq = 2)"
      ],
      "execution_count": 32,
      "outputs": []
    },
    {
      "cell_type": "code",
      "metadata": {
        "id": "OU2PAml3X_kB"
      },
      "source": [
        "TRG_PAD_IDX = TRG.vocab.stoi[TRG.pad_token]\n",
        "\n",
        "criterion = nn.CrossEntropyLoss(ignore_index = TRG_PAD_IDX)"
      ],
      "execution_count": 33,
      "outputs": []
    }
  ]
}